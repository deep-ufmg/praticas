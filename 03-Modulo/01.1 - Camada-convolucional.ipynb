{
 "cells": [
  {
   "cell_type": "markdown",
   "metadata": {
    "colab_type": "text",
    "id": "Ed03SC1Jm9Yy"
   },
   "source": [
    "# Camada Convolucional\n",
    "\n",
    "Como vimos, as camadas densas tem severos problemas, principalmente para trabalhar com imagens, pois a dimensionalidade da entrada é muito grande o que implica num alto número de parâmetros para se otimizar.\n",
    "\n",
    "Contornando essa situação, temos as camadas convolucionais.\n",
    "Ao longo do tempo, várias tipos de camadas convolucionais foram criadas.\n",
    "Nesta aula veremos algumas dessas camadas.\n"
   ]
  },
  {
   "cell_type": "markdown",
   "metadata": {
    "colab_type": "text",
    "id": "Gp6CwWnFnTwb"
   },
   "source": [
    "Antes de começar, vamos instalar o MXNet. Esse pequeno bloco de código abaixo é usado somente para instalar o MXNet para CUDA 10. Execute esse bloco somente uma vez e ignore possíveis erros levantados durante a instalação.\n",
    "\n",
    "**ATENÇÃO: a alteração deste bloco pode implicar em problemas na execução dos blocos restantes!**"
   ]
  },
  {
   "cell_type": "code",
   "execution_count": 2,
   "metadata": {
    "colab": {
     "base_uri": "https://localhost:8080/",
     "height": 641
    },
    "colab_type": "code",
    "executionInfo": {
     "elapsed": 50258,
     "status": "ok",
     "timestamp": 1562589835151,
     "user": {
      "displayName": "Keiller Nogueira",
      "photoUrl": "https://lh5.googleusercontent.com/-OSbB3k7-l84/AAAAAAAAAAI/AAAAAAAAAac/z8WNFFAmye0/s64/photo.jpg",
      "userId": "03938009311988397527"
     },
     "user_tz": 180
    },
    "id": "XW-VATPAldgt",
    "outputId": "0e8be66e-9b36-4dea-b932-9fb244b936af"
   },
   "outputs": [
    {
     "name": "stdout",
     "output_type": "stream",
     "text": [
      "Collecting mxnet-cu100\n",
      "\u001b[?25l  Downloading https://files.pythonhosted.org/packages/19/91/b5c2692297aa5b8c383e0da18f9208fc6d5519d981c03266abfbde897c41/mxnet_cu100-1.4.1-py2.py3-none-manylinux1_x86_64.whl (488.3MB)\n",
      "\u001b[K     |████████████████████████████████| 488.3MB 37kB/s \n",
      "\u001b[?25hRequirement already satisfied: requests>=2.20.0 in /usr/local/lib/python3.6/dist-packages (from mxnet-cu100) (2.21.0)\n",
      "Collecting numpy<1.15.0,>=1.8.2 (from mxnet-cu100)\n",
      "\u001b[?25l  Downloading https://files.pythonhosted.org/packages/e5/c4/395ebb218053ba44d64935b3729bc88241ec279915e72100c5979db10945/numpy-1.14.6-cp36-cp36m-manylinux1_x86_64.whl (13.8MB)\n",
      "\u001b[K     |████████████████████████████████| 13.8MB 38.2MB/s \n",
      "\u001b[?25hCollecting graphviz<0.9.0,>=0.8.1 (from mxnet-cu100)\n",
      "  Downloading https://files.pythonhosted.org/packages/53/39/4ab213673844e0c004bed8a0781a0721a3f6bb23eb8854ee75c236428892/graphviz-0.8.4-py2.py3-none-any.whl\n",
      "Requirement already satisfied: certifi>=2017.4.17 in /usr/local/lib/python3.6/dist-packages (from requests>=2.20.0->mxnet-cu100) (2019.6.16)\n",
      "Requirement already satisfied: idna<2.9,>=2.5 in /usr/local/lib/python3.6/dist-packages (from requests>=2.20.0->mxnet-cu100) (2.8)\n",
      "Requirement already satisfied: chardet<3.1.0,>=3.0.2 in /usr/local/lib/python3.6/dist-packages (from requests>=2.20.0->mxnet-cu100) (3.0.4)\n",
      "Requirement already satisfied: urllib3<1.25,>=1.21.1 in /usr/local/lib/python3.6/dist-packages (from requests>=2.20.0->mxnet-cu100) (1.24.3)\n",
      "\u001b[31mERROR: spacy 2.1.4 has requirement numpy>=1.15.0, but you'll have numpy 1.14.6 which is incompatible.\u001b[0m\n",
      "\u001b[31mERROR: imgaug 0.2.9 has requirement numpy>=1.15.0, but you'll have numpy 1.14.6 which is incompatible.\u001b[0m\n",
      "\u001b[31mERROR: fastai 1.0.54 has requirement numpy>=1.15, but you'll have numpy 1.14.6 which is incompatible.\u001b[0m\n",
      "\u001b[31mERROR: datascience 0.10.6 has requirement folium==0.2.1, but you'll have folium 0.8.3 which is incompatible.\u001b[0m\n",
      "\u001b[31mERROR: blis 0.2.4 has requirement numpy>=1.15.0, but you'll have numpy 1.14.6 which is incompatible.\u001b[0m\n",
      "\u001b[31mERROR: albumentations 0.1.12 has requirement imgaug<0.2.7,>=0.2.5, but you'll have imgaug 0.2.9 which is incompatible.\u001b[0m\n",
      "Installing collected packages: numpy, graphviz, mxnet-cu100\n",
      "  Found existing installation: numpy 1.16.4\n",
      "    Uninstalling numpy-1.16.4:\n",
      "      Successfully uninstalled numpy-1.16.4\n",
      "  Found existing installation: graphviz 0.10.1\n",
      "    Uninstalling graphviz-0.10.1:\n",
      "      Successfully uninstalled graphviz-0.10.1\n",
      "Successfully installed graphviz-0.8.4 mxnet-cu100-1.4.1 numpy-1.14.6\n"
     ]
    },
    {
     "data": {
      "application/vnd.colab-display-data+json": {
       "pip_warning": {
        "packages": [
         "numpy"
        ]
       }
      }
     },
     "metadata": {
      "tags": []
     },
     "output_type": "display_data"
    },
    {
     "data": {
      "text/plain": [
       "gpu(0)"
      ]
     },
     "execution_count": 2,
     "metadata": {
      "tags": []
     },
     "output_type": "execute_result"
    }
   ],
   "source": [
    "!pip install mxnet-cu100\n",
    "\n",
    "# imports basicos\n",
    "import time, os, sys, numpy as np\n",
    "import mxnet as mx\n",
    "from mxnet import autograd, gluon, init, nd\n",
    "from mxnet.gluon import loss as gloss, nn, utils as gutils, data as gdata\n",
    "\n",
    "# Tenta encontrar GPU\n",
    "def try_gpu():\n",
    "    try:\n",
    "        ctx = mx.gpu()\n",
    "        _ = nd.zeros((1,), ctx=ctx)\n",
    "    except mx.base.MXNetError:\n",
    "        ctx = mx.cpu()\n",
    "    return ctx\n",
    "\n",
    "ctx = try_gpu()\n",
    "ctx"
   ]
  },
  {
   "cell_type": "code",
   "execution_count": 0,
   "metadata": {
    "colab": {},
    "colab_type": "code",
    "id": "g9u0pCOtlWLu"
   },
   "outputs": [],
   "source": [
    "## carregando dados\n",
    "\n",
    "# código para carregar o dataset do Fashion-MNIST\n",
    "# https://github.com/zalandoresearch/fashion-mnist\n",
    "def load_data_fashion_mnist(batch_size, resize=None, root=os.path.join(\n",
    "        '~', '.mxnet', 'datasets', 'fashion-mnist')):\n",
    "    \"\"\"Download the Fashion-MNIST dataset and then load into memory.\"\"\"\n",
    "    root = os.path.expanduser(root)\n",
    "    transformer = []\n",
    "    if resize:\n",
    "        transformer += [gdata.vision.transforms.Resize(resize)]\n",
    "    transformer += [gdata.vision.transforms.ToTensor()]\n",
    "    transformer = gdata.vision.transforms.Compose(transformer)\n",
    "\n",
    "    mnist_train = gdata.vision.FashionMNIST(root=root, train=True)\n",
    "    mnist_test = gdata.vision.FashionMNIST(root=root, train=False)\n",
    "    num_workers = 0 if sys.platform.startswith('win32') else 4\n",
    "\n",
    "    train_iter = gdata.DataLoader(mnist_train.transform_first(transformer),\n",
    "                                  batch_size, shuffle=True,\n",
    "                                  num_workers=num_workers)\n",
    "    test_iter = gdata.DataLoader(mnist_test.transform_first(transformer),\n",
    "                                 batch_size, shuffle=False,\n",
    "                                 num_workers=num_workers)\n",
    "    return train_iter, test_iter\n",
    "\n",
    "# funções básicas\n",
    "def _get_batch(batch, ctx):\n",
    "    \"\"\"Return features and labels on ctx.\"\"\"\n",
    "    features, labels = batch\n",
    "    if labels.dtype != features.dtype:\n",
    "        labels = labels.astype(features.dtype)\n",
    "    return (gutils.split_and_load(features, ctx),\n",
    "            gutils.split_and_load(labels, ctx), features.shape[0])\n",
    "\n",
    "# Função usada para calcular acurácia\n",
    "def evaluate_accuracy(data_iter, net, loss, ctx=[mx.cpu()]):\n",
    "    \"\"\"Evaluate accuracy of a model on the given data set.\"\"\"\n",
    "    if isinstance(ctx, mx.Context):\n",
    "        ctx = [ctx]\n",
    "    acc_sum, n, l = nd.array([0]), 0, 0\n",
    "    for batch in data_iter:\n",
    "        features, labels, _ = _get_batch(batch, ctx)\n",
    "        for X, y in zip(features, labels):\n",
    "            # X, y = X.as_in_context(ctx), y.as_in_context(ctx)\n",
    "            y = y.astype('float32')\n",
    "            y_hat = net(X)\n",
    "            l += loss(y_hat, y).sum()\n",
    "            acc_sum += (y_hat.argmax(axis=1) == y).sum().copyto(mx.cpu())\n",
    "            n += y.size\n",
    "        acc_sum.wait_to_read()\n",
    "    return acc_sum.asscalar() / n, l.asscalar() / n\n",
    "  \n",
    "# Função usada no treinamento e validação da rede\n",
    "def train_validate(net, train_iter, test_iter, batch_size, trainer, loss, ctx,\n",
    "                   num_epochs):\n",
    "    print('training on', ctx)\n",
    "    for epoch in range(num_epochs):\n",
    "        train_l_sum, train_acc_sum, n, start = 0.0, 0.0, 0, time.time()\n",
    "        for X, y in train_iter:\n",
    "            X, y = X.as_in_context(ctx), y.as_in_context(ctx)\n",
    "            with autograd.record():\n",
    "                y_hat = net(X)\n",
    "                l = loss(y_hat, y).sum()\n",
    "            l.backward()\n",
    "            trainer.step(batch_size)\n",
    "            y = y.astype('float32')\n",
    "            train_l_sum += l.asscalar()\n",
    "            train_acc_sum += (y_hat.argmax(axis=1) == y).sum().asscalar()\n",
    "            n += y.size\n",
    "        test_acc, test_loss = evaluate_accuracy(test_iter, net, loss, ctx)\n",
    "        print('epoch %d, train loss %.4f, train acc %.3f, test loss %.4f, '\n",
    "              'test acc %.3f, time %.1f sec'\n",
    "              % (epoch + 1, train_l_sum / n, train_acc_sum / n, test_loss, \n",
    "                 test_acc, time.time() - start))"
   ]
  },
  {
   "cell_type": "markdown",
   "metadata": {
    "colab_type": "text",
    "id": "Azv2ajIYkIjH"
   },
   "source": [
    "## Camada Convolucional\n",
    "\n",
    "A [camada convolucional](https://beta.mxnet.io/api/gluon/_autogen/mxnet.gluon.nn.Conv2D.html) é considerado o principal módulo das rede convolucionais (*ConvNet*) pois é responsável por fazer a maior parte do trabalho, ou seja, aprendar filtros que extraem características.\n",
    "\n",
    "Tecnicamente, uma camada convolucional é composta por um conjunto de filtros (ou *kernels*) aprendíveis (que, na verdade, representam os parâmetros dessa camada).\n",
    "Geralmente, cada um desses filtros é relativamente pequeno (em termos de largura e altura), mas se estende por toda a profundidade dos dados de entrada.\n",
    "Por exemplo, cada filtro em uma primeira camada de uma *ConvNet* geralmente tem tamanho $3 \\times h\\times w$, onde $h$ e $w$ são altura e largura, respectivamente, e o $3$ representa a profundidade dos filtros que, neste caso, são ligados aos canais de cores da entrada (RGB).\n",
    "Num primeiro momento, trabalharemos somente com filtros bidimensionais pois deixaremos de lado a dimensão relacionada aos canais.\n",
    "Durante o *forward*, convolucionamos cada filtro sobre a entrada calculando o produto entre esses valores e gerando, como saída, um mapa de ativação bidimensional que fornece as respostas desse filtro em todas as possíveis posições.\n",
    "Em outras palavras, cada filtro pode ser visto como um neurônio que irá combinar os canais de entradas gerando uma saída.\n",
    "Intuitivamente, a rede aprenderá filtros que são ativados quando encontram algum tipo de características visual interessante, como uma borda na primeira camada, ou eventualmente padrões mais complexos nas camadas mais finais da rede.\n",
    "Cada camada convolucional é composta por conjuntos inteiro de filtros onde, cada um deles, produzirá um mapa de ativação bidimensional separado.\n",
    "Esses mapas de ativação são empilhados (na profundidade) produzindo a saída final (comumente chamada de *feature maps*).\n",
    "\n",
    "Formalmente, o procedimento de convolução 2-D, comumente empregado nesse tipo de camada, recebe uma entrada de duas dimensões $x$ e um vetor de peso 2-D $K$ (nesse caso, com tamanho $n\\times n$) e os processa da seguinte forma:\n",
    "\n",
    "$$ Y[k, l] = \\sum_{i=1}^{n} \\sum_{j=1}^{n} X(k + i - 1, l + j -1) K(i,j) $$\n",
    ", onde $Y$ é a saída ou *feature map*.\n",
    "\n",
    "Abaixo temos um exemplo de convolução.\n",
    "Neste caso, a entrada é uma matriz bidimensional com uma altura de 3 e largura de 3 ($3 \\times 3$ e o filtro tem dimensões $2\\times 2$.\n",
    "Este exemplo destaca (em azul) um passo do processo de convolução.\n",
    "Entretanto, como dito anteriormente, a janela (filtro) de convolução percorre toda a entrada ao longo da altura e largura, sempre multiplicando e somando os elementos da entrada pelos valores do filtro.\n",
    "\n",
    "<p align=\"center\">\n",
    "  <img src=\"https://drive.google.com/uc?export=view&id=1JSTFGFpfjdMVvkaHUUwzGlgle6UVhFjo\">\n",
    "</p>\n",
    "\n",
    "O exemplo acima temos somente **um** canal de entrada e de saída. Porém, como funciona a convolução com múltiplos canais de entrada e saída?\n",
    "\n",
    "### Múltiplos canais de entrada e saída\n",
    "\n",
    "\n",
    "No exemplo anterior, tanto os filtros quanto as saídas podem ser vistas como matrizes bidimensionais.\n",
    "Entretanto, quando adicionamos mais canais, entradas, filtros, e saídas passam a ser representadas como matrizes tridimensionais.\n",
    "Por exemplo, cada imagem de entrada RGB tem a forma $3 \\times h \\times w$, onde $h$ e $w$ são a altura e largua respectivamente..\n",
    "A dimensão com um tamanho de 3 é referenciada como a dimensão do canal.\n",
    "\n",
    "#### Múltiplos Canais de Entrada\n",
    "\n",
    "Quando os dados de entrada contêm múltiplos canais, precisamos de filtros de convolução com o mesmo número de canais que os dados de entrada, para que ele possamos processar uma convolução.\n",
    "Assumindo que o número de canais para os dados de entrada é $c_i$, o número de canais dos filtro de convolução também precisa ser $c_i$.\n",
    "Quando $c_i = 1$, o filtro de convolução é uma uma matriz bidimensional com dimensões $k_h \\times k_w$.\n",
    "\n",
    "No entanto, quando $ c_i> 1$, precisamos de um filtro que contenha uma matriz $k_h \\times k_w$ **para cada canal de entrada**.\n",
    "Concatenanado todos esses $c_i$ arrays juntos geramos um filtro de convolução com dimensões $c_i \\times k_h \\times k_w$.\n",
    "Como a entrada e o filtro da convolução tem cada um $c_i$ canais, podemos criar uma correspondência entre canais para executar a operação de convolução.\n",
    "Em outras palavras, podemos fazer a convolução da matriz bidimensional da entrada com o *kernel* bidimensional para cada canal, somando os resultados ao longo dos canais $c_i$, produzindo uma só matriz bidimensional de saída.\n",
    "\n",
    "Na figura abaixo, demonstramos um exemplo de convolução com dois canais de entrada.\n",
    "As partes sombreadas representam o primeiro elemento de saída, bem como os elementos de entrada e de matriz do kernel usados em sua computação: $(1 \\times1 + 2 \\times 2 + 4 \\times 3 + 5 \\times 4) + (0 \\times 0 + 1 \\times 1 + 3 \\times 2 + 4 \\times 3) = 56$.\n",
    "\n",
    "<p align=\"center\">\n",
    "  <img src=\"https://drive.google.com/uc?export=view&id=1OC-o75LRvxi8KllotBoR8cS38NS4EOTm\">\n",
    "</p>\n",
    "\n",
    "### Múltiplos canais de saída\n",
    "\n",
    "Independentemente do número de canais de entrada, até agora nós sempre acabamos com um canal de saída.\n",
    "No entanto, aumentar o número de canais (neurônios) em cada camada implica em aumentar a poder de representação daquela camada.\n",
    "Nas arquiteturas de redes neurais mais populares, na verdade aumentamos a dimensão do canal à medida que avançamos na rede neural, geralmente diminuindo a resolução. \n",
    "\n",
    "Denote por $c_i$ e $c_o$ o número de canais de entrada e saída, respectivamente, e deixe que $k_h$ e $k_w$ sejam a altura e a largura do filtro convolucional.\n",
    "Para obter uma saída com múltiplos canais, podemos criar uma matriz de kernel de forma $c_i \\times k_h \\times k_w $ para cada canal de saída $c_o$ (que também pode ser visto como neurônio).\n",
    "Concatenamos na dimensão do canal de saída, para que o filtro de convolução tenha resolução final de $c_o \\times c_i \\times k_h \\times k_w$.\n",
    "Nas operações de convolução, o resultado em cada canal de saída é calculado a partir do filtro de convolução correspondente a esse canal de saída e recebe a entrada de todos os canais na matriz de entrada.\n",
    "\n",
    "Para ter uma visão mais ampla da convolução em múltiplos canais de entrada e saída, acesse esse [site](http://cs231n.github.io/convolutional-networks/) e procurem pela gif relacionada ao tema."
   ]
  },
  {
   "cell_type": "markdown",
   "metadata": {
    "colab_type": "text",
    "id": "_wT1TNa4eEqY"
   },
   "source": [
    "### MXNet e o caso de estudo LeNet-5\n",
    "\n",
    "Frameworks modernos implementam camadas convolucionais de forma fácil e intuitiva.\n",
    "No MXNet, a [camada de convolução](https://beta.mxnet.io/api/gluon/_autogen/mxnet.gluon.nn.Conv2D.html) tem alguns dos parâmetros que vimos anteriormente na sua declaração.\n",
    "\n",
    "Vamos implementar uma rede baseada na [LeNet-5](https://ieeexplore.ieee.org/document/726791) e entender cada parâmetro.\n",
    "A rede tem essa arquitetura (ignorem, nesse primeiro momento, os *subsamplings*):\n",
    "\n",
    "<p align=\"center\">\n",
    "  <img width=700 src=\"https://miro.medium.com/max/2625/1*1TI1aGBZ4dybR6__DI9dzA.png\">\n",
    "</p>\n",
    "\n",
    "As camadas com a letra C, são convoluções. Camadas que começam com a letra S, são *subsampling* e devem ser ignoradas neste primeiro momento.\n",
    "Já camada com ínicio F, são *fully-connected*.\n",
    "Abaixo, uma tabela que compila toda a configuração da rede.\n",
    "\n",
    "<p align=\"center\">\n",
    "  <img width=700 src=\"https://engmrk.com/wp-content/uploads/2018/09/LeNEt_Summary_Table.jpg\">\n",
    "</p>\n",
    "\n",
    "Abaixo, recriamos a rede no MXNet sem as camadas de *subsampling*.\n"
   ]
  },
  {
   "cell_type": "code",
   "execution_count": 0,
   "metadata": {
    "colab": {
     "base_uri": "https://localhost:8080/",
     "height": 313
    },
    "colab_type": "code",
    "executionInfo": {
     "elapsed": 162367,
     "status": "ok",
     "timestamp": 1562511637493,
     "user": {
      "displayName": "Keiller Nogueira",
      "photoUrl": "https://lh5.googleusercontent.com/-OSbB3k7-l84/AAAAAAAAAAI/AAAAAAAAAac/z8WNFFAmye0/s64/photo.jpg",
      "userId": "03938009311988397527"
     },
     "user_tz": 180
    },
    "id": "x1hfBf_dhwKW",
    "outputId": "18c2d6bb-6776-4c43-dd64-82aaa14f5e63"
   },
   "outputs": [
    {
     "name": "stdout",
     "output_type": "stream",
     "text": [
      "Downloading /root/.mxnet/datasets/mnist/train-images-idx3-ubyte.gz from https://apache-mxnet.s3-accelerate.dualstack.amazonaws.com/gluon/dataset/mnist/train-images-idx3-ubyte.gz...\n",
      "Downloading /root/.mxnet/datasets/mnist/train-labels-idx1-ubyte.gz from https://apache-mxnet.s3-accelerate.dualstack.amazonaws.com/gluon/dataset/mnist/train-labels-idx1-ubyte.gz...\n",
      "Downloading /root/.mxnet/datasets/mnist/t10k-images-idx3-ubyte.gz from https://apache-mxnet.s3-accelerate.dualstack.amazonaws.com/gluon/dataset/mnist/t10k-images-idx3-ubyte.gz...\n",
      "Downloading /root/.mxnet/datasets/mnist/t10k-labels-idx1-ubyte.gz from https://apache-mxnet.s3-accelerate.dualstack.amazonaws.com/gluon/dataset/mnist/t10k-labels-idx1-ubyte.gz...\n",
      "training on gpu(0)\n",
      "epoch 1, train loss 1.2034, train acc 0.567, test loss 0.2275, test acc 0.936, time 16.4 sec\n",
      "epoch 2, train loss 0.1942, train acc 0.944, test loss 0.1496, test acc 0.958, time 15.6 sec\n",
      "epoch 3, train loss 0.1379, train acc 0.960, test loss 0.1222, test acc 0.966, time 15.5 sec\n",
      "epoch 4, train loss 0.1108, train acc 0.968, test loss 0.1064, test acc 0.970, time 15.4 sec\n",
      "epoch 5, train loss 0.0920, train acc 0.974, test loss 0.0975, test acc 0.971, time 15.5 sec\n",
      "epoch 6, train loss 0.0749, train acc 0.979, test loss 0.0797, test acc 0.977, time 15.4 sec\n",
      "epoch 7, train loss 0.0649, train acc 0.982, test loss 0.0824, test acc 0.975, time 15.3 sec\n",
      "epoch 8, train loss 0.0554, train acc 0.984, test loss 0.0741, test acc 0.978, time 15.4 sec\n",
      "epoch 9, train loss 0.0453, train acc 0.988, test loss 0.0660, test acc 0.979, time 15.4 sec\n",
      "epoch 10, train loss 0.0389, train acc 0.989, test loss 0.0613, test acc 0.982, time 15.5 sec\n"
     ]
    }
   ],
   "source": [
    "# parâmetros: número de epochs, learning rate (ou taxa de aprendizado), \n",
    "# tamanho do batch, e lambda do weight decay\n",
    "num_epochs, lr, batch_size, wd_lambda = 10, 0.1, 128, 0.000001\n",
    "\n",
    "# rede baseada na LeNet-5 \n",
    "net = nn.Sequential()\n",
    "net.add(nn.Conv2D(6, kernel_size=5, activation='tanh'),     # entrada: 1 canal e saida: 6 canais\n",
    "        nn.Conv2D(16, kernel_size=5, activation='tanh'),    # entrada: 6 canais e saida: 16 canais\n",
    "        nn.Conv2D(120, kernel_size=5, activation='tanh'),   # entrada: 16 canais e saida: 120 canais\n",
    "        nn.Flatten(),  # lineariza formando um vetor        # entrada: 120 canais e saida: linear\n",
    "        nn.Dense(84, activation=\"tanh\"),\n",
    "        nn.Dense(10)) \n",
    "net.initialize(init.Normal(sigma=0.01), ctx=ctx)\n",
    "\n",
    "# função de custo (ou loss)\n",
    "loss = gloss.SoftmaxCrossEntropyLoss()\n",
    "\n",
    "# carregamento do dado: mnist\n",
    "train_iter, test_iter = load_data_mnist(batch_size, resize=32)\n",
    "\n",
    "# trainer do gluon\n",
    "trainer = gluon.Trainer(net.collect_params(), 'sgd', {'learning_rate': lr, \n",
    "                                                      'wd': wd_lambda})\n",
    "\n",
    "# treinamento e validação via MXNet\n",
    "train_validate(net, train_iter, test_iter, batch_size, trainer, loss, \n",
    "               ctx, num_epochs)"
   ]
  },
  {
   "cell_type": "markdown",
   "metadata": {
    "colab_type": "text",
    "id": "V_g-y_VVMl0h"
   },
   "source": [
    "### Hiper-parâmetros: *Padding* e *Stride*\n",
    "\n",
    "No exemplo anterior, a entrada tinha dimensões $6\\times8$ e o filtro de convolução $1\\times2$.\n",
    "O processamento da convolução produziu, então, uma saída com uma resolução $6\\times7$. \n",
    "Esse diferença da resolução é motivada pelo próprio processamento da convolução e da sua forma de lidar com as extremidades da imagem.\n",
    "Em geral, assumindo que a entrada tem tamanho $n_h\\times n_w$ e o filtro de convolução tem dimensões $k_h \\times k_w$, então o tamanho da saída pode ser calculado da seguinte forma:\n",
    "\n",
    "$$ (n_h-k_h + 1) \\times (n_w-k_w + 1)$$\n",
    "\n",
    "Neste caso, as dimensões da saída é determinada pelos tamanhos da entrada e do filtro de convolução.\n",
    "\n",
    "Em alguns casos, podemos incorporar técnicas comum de processamento de imagem (como *Padding* e *Stride*) que afetam diretamente o tamanho da saída:\n",
    "\n",
    "* Em geral, como filtros geralmente têm dimensões maiores que 1, após muitas convoluções sucessivas, a saída termina ficando muito menor do que a entrada.\n",
    "Por exemplo, imagine que uma imagem de entrada com $240\\times 240$ pixels seja processada por 10 camadas de convoluções $5\\times 5$.\n",
    "Neste caso, a imagem inicial será reduzida para uma saída de $200\\times 200$ pixels, ou seja,  30% da imagem original é eliminanda e, com ela, informações interessante próxima das extremidades da imagem de entrada. *Padding* lida com esse problema. \n",
    "* Em alguns casos, como quando a entrada tem uma resolução muito grande, queremos reduzir drasticamente a resolução da imagem durante o seu processamento. *Strides* podem ajudar nesses casos.\n",
    "\n",
    "#### *Padding*\n",
    "\n",
    "Como descrito acima, um problema complicado ao se trabalhar com camadas convolucionais é a perda de pixels (e, consequentemente, informação) na extremidade da imagem.\n",
    "Como normalmente usamos filtros pequenos, a perda num geral é pequena.\n",
    "Entretanto, ela se torna maior à medida que aplicamos várias camadas convolucionais sucessivas.\n",
    "Uma solução direta para esse problema é adicionar pixels extras ao redor da imagem de entrada, de forma a aumentar o tamanho efetivo da imagem.\n",
    "Esse processo é conhecido como *padding*.\n",
    "Normalmente, definimos os valores desses pixels extras como 0 (*zero-padding*).\n",
    "Abaixo, temos um exemplo visual de uma entrada $3\\times 3$ com *padding* de tamanho 1 em todos os lados sendo processada por um *kernel* $2\\times 2$.\n",
    "\n",
    "<p align=\"center\">\n",
    "  <img src=\"https://drive.google.com/uc?export=view&id=1Y66FJerJtlyQZGNgf_JzG5LLPsYrmREH\">\n",
    "</p>\n",
    "\n",
    "Para ficar ainda mais claro o funcionamento do *padding*, implementamos esse processo usando o trecho de código abaixo.\n",
    "Neste caso, a entrada, de tamanho $3\\times 3$, tem sua resolução aumentada  $5\\times 5$ usando *padding*.\n",
    "Dessa forma, a saída correspondente é também aumentada para $4\\times 4$."
   ]
  },
  {
   "cell_type": "code",
   "execution_count": 0,
   "metadata": {
    "colab": {
     "base_uri": "https://localhost:8080/",
     "height": 550
    },
    "colab_type": "code",
    "executionInfo": {
     "elapsed": 1402,
     "status": "ok",
     "timestamp": 1562510870148,
     "user": {
      "displayName": "Keiller Nogueira",
      "photoUrl": "https://lh5.googleusercontent.com/-OSbB3k7-l84/AAAAAAAAAAI/AAAAAAAAAac/z8WNFFAmye0/s64/photo.jpg",
      "userId": "03938009311988397527"
     },
     "user_tz": 180
    },
    "id": "2imhmFobSKZB",
    "outputId": "3e6d614d-3973-4176-d387-725a031c60a8"
   },
   "outputs": [
    {
     "name": "stdout",
     "output_type": "stream",
     "text": [
      "-----Entrada original-----\n",
      "\n",
      "[[ 0.3679345   1.4534262   0.24154152]\n",
      " [ 0.47898006  0.96885103 -1.0218245 ]\n",
      " [-0.06812762 -0.31868345 -0.17634277]]\n",
      "<NDArray 3x3 @cpu(0)>\n",
      "\n",
      "-----Entrada Padding-----\n",
      "\n",
      "[[ 0.          0.          0.          0.          0.        ]\n",
      " [ 0.          0.3679345   1.4534262   0.24154152  0.        ]\n",
      " [ 0.          0.47898006  0.96885103 -1.0218245   0.        ]\n",
      " [ 0.         -0.06812762 -0.31868345 -0.17634277  0.        ]\n",
      " [ 0.          0.          0.          0.          0.        ]]\n",
      "<NDArray 5x5 @cpu(0)>\n",
      "\n",
      "-----Saida com entrada original-----\n",
      "\n",
      "[[[[ 0.05815094 -0.15031917]\n",
      "   [-0.01521636 -0.07997683]]]]\n",
      "<NDArray 1x1x2x2 @cpu(0)>\n",
      "\n",
      "-----Saida com entrada padding-----\n",
      "\n",
      "[[[[ 0.01959863  0.06804327 -0.02417062 -0.00615505]\n",
      "   [ 0.03523174  0.05815094 -0.15031917  0.01314546]\n",
      "   [ 0.00902216 -0.01521636 -0.07997683  0.0590367 ]\n",
      "   [-0.00179942 -0.00478072  0.01235306  0.00941285]]]]\n",
      "<NDArray 1x1x4x4 @cpu(0)>\n"
     ]
    }
   ],
   "source": [
    "X = nd.random.normal(shape=(1, 1, 3, 3))\n",
    "# adicionando o padding\n",
    "X_pad = nd.pad(X, mode='constant', pad_width=(0,0,0,0,1,1,1,1), constant_value=0)\n",
    "\n",
    "conv2d = nn.Conv2D(1, kernel_size=2)\n",
    "conv2d.initialize()\n",
    "\n",
    "print('-----Entrada original-----')\n",
    "print(nd.squeeze(X))\n",
    "print('\\n-----Entrada Padding-----')\n",
    "print(nd.squeeze(X_pad))\n",
    "\n",
    "print('\\n-----Saida com entrada original-----')\n",
    "print(conv2d(X))\n",
    "print('\\n-----Saida com entrada padding-----')\n",
    "print(conv2d(X_pad))"
   ]
  },
  {
   "cell_type": "markdown",
   "metadata": {
    "colab_type": "text",
    "id": "PoL0w7ZpSJbO"
   },
   "source": [
    "Em geral, se adicionarmos um total de $p_h$ linhas de *padding* (aproximadamente metade na parte superior e metade na parte inferior) e um total de $p_w$ colunas de *padding* (aproximadamente metade à esquerda e metade à direita da entrada), as dimensões da saída serão calculadas da seguinte forma:\n",
    "\n",
    "$$ (n_h-k_h + p_h + 1) \\times (n_w-k_w + p_w + 1) $$\n",
    "\n",
    "Isso significa que a altura e a largura da saída aumentarão em $p_h$ e $p_w$, respectivamente.\n",
    "\n",
    "Em muitos casos, definiremos $p_h = k_h-1$ e $p_w = k_w-1$ para termos a entrada e saída com as mesmas dimensões.\n",
    "Isso facilitará o cálculo da dimensão da saída de cada camada ao construir a rede.\n",
    "Assumindo que $k_h$ é ímpar, podemos preencher $p_h/2$ linhas nos dois lados da altura.\n",
    "Se $k_h$ for par, uma possibilidade é preencher $\\lceil p_h/2 \\rceil $ linhas na parte superior da entrada e $\\lfloor p_h/2 \\rfloor$ linhas na parte inferior.\n",
    "A largura é tratada da mesma maneira.\n",
    "\n",
    "Redes neurais convolucionais comumente usam filtros convolucionais com valores ímpares de altura e largura, como 1, 3, 5 ou 7.\n",
    "Escolher tamanhos ímpares de *kernel* tem o benefício de preservar a dimensionalidade espacial em relação ao *padding*, ou seja, o mesmo número de linhas e colunas serão adicionadas em todos os lados da entrada.\n",
    "\n",
    "No exemplo a seguir, criamos uma camada convolucional com filtro de altura e largura iguais à 3 e aplicamos *padding* de 1 pixel em todos os lados do dado de entrada.\n",
    "Logo, dada uma entrada com resolução $8\\times 8$, temos que a altura e a largura da saída também serão 8."
   ]
  },
  {
   "cell_type": "code",
   "execution_count": 5,
   "metadata": {
    "colab": {
     "base_uri": "https://localhost:8080/",
     "height": 54
    },
    "colab_type": "code",
    "executionInfo": {
     "elapsed": 607,
     "status": "ok",
     "timestamp": 1562589872298,
     "user": {
      "displayName": "Keiller Nogueira",
      "photoUrl": "https://lh5.googleusercontent.com/-OSbB3k7-l84/AAAAAAAAAAI/AAAAAAAAAac/z8WNFFAmye0/s64/photo.jpg",
      "userId": "03938009311988397527"
     },
     "user_tz": 180
    },
    "id": "pd6J4s1UeCfZ",
    "outputId": "334f80e4-660f-40f5-c9e3-f35a04df23be"
   },
   "outputs": [
    {
     "name": "stdout",
     "output_type": "stream",
     "text": [
      "(6, 6)\n",
      "(8, 8)\n"
     ]
    }
   ],
   "source": [
    "from mxnet import nd\n",
    "from mxnet.gluon import nn\n",
    "\n",
    "X = nd.random.uniform(shape=(8, 8))\n",
    "\n",
    "# Por conveniência, definimos uma função para calcular a camada convolucional.\n",
    "# Esta função inicializa os pesos da camada convolucional e executa\n",
    "# modificacoes correspondentes de dimensionalidade na entrada e saída\n",
    "def comp_conv2d(conv2d, X):\n",
    "    conv2d.initialize()\n",
    "    # (1,1) indica o tamanho do batch e a quantidade de canais\n",
    "    X = X.reshape((1, 1) + X.shape)\n",
    "    Y = conv2d(X)\n",
    "    # exclui as duas primeiras dimensoes que nao nos interessam\n",
    "    return Y.reshape(Y.shape[2:])\n",
    "\n",
    "conv2d = nn.Conv2D(1, kernel_size=3, padding=0)\n",
    "print(comp_conv2d(conv2d, X).shape)\n",
    "  \n",
    "# Note que aqui 1 linha ou coluna é coloca em ambos os lados,\n",
    "# então um total de 2 linhas ou colunas são adicionadas\n",
    "conv2d = nn.Conv2D(1, kernel_size=3, padding=1)\n",
    "print(comp_conv2d(conv2d, X).shape)"
   ]
  },
  {
   "cell_type": "markdown",
   "metadata": {
    "colab_type": "text",
    "id": "H-id-nHCf1Dm"
   },
   "source": [
    "Quando a altura e a largura do kernel de convolução são diferentes, podemos fazer com que a saída e a entrada tenham a mesma altura e largura definindo diferentes valores de *padding*  para altura e largura."
   ]
  },
  {
   "cell_type": "code",
   "execution_count": 0,
   "metadata": {
    "colab": {
     "base_uri": "https://localhost:8080/",
     "height": 35
    },
    "colab_type": "code",
    "executionInfo": {
     "elapsed": 871,
     "status": "ok",
     "timestamp": 1562511242412,
     "user": {
      "displayName": "Keiller Nogueira",
      "photoUrl": "https://lh5.googleusercontent.com/-OSbB3k7-l84/AAAAAAAAAAI/AAAAAAAAAac/z8WNFFAmye0/s64/photo.jpg",
      "userId": "03938009311988397527"
     },
     "user_tz": 180
    },
    "id": "LtK2YWC3f1bz",
    "outputId": "44b116d2-7de0-4929-d095-e0f024ce918e"
   },
   "outputs": [
    {
     "data": {
      "text/plain": [
       "(8, 8)"
      ]
     },
     "execution_count": 9,
     "metadata": {
      "tags": []
     },
     "output_type": "execute_result"
    }
   ],
   "source": [
    "# Aqui, usamos um kernel de convolução com uma altura de 5 e uma largura de 3\n",
    "# O *padding* na dimensão da altura eh 2 enquanto que,\n",
    "# na dimensao da largura, eh 1\n",
    "conv2d = nn.Conv2D(1, kernel_size=(5, 3), padding=(2, 1))\n",
    "comp_conv2d(conv2d, X).shape"
   ]
  },
  {
   "cell_type": "markdown",
   "metadata": {
    "colab_type": "text",
    "id": "lt8gNioxirmn"
   },
   "source": [
    "#### *Stride*\n",
    "\n",
    "Ao calcular convolução, começamos com a janela (filtro) no canto superior esquerdo da matriz de entrada, e, em seguida, o deslizamos por todos os locais, para baixo e para a direita.\n",
    "Anteriormente, sempre realizamos um passo de um pixel por vez.\n",
    "No entanto, às vezes, seja por eficiência computacional ou porque queremos reduzir o tamanho da entrada, podemos mover a janela mais de um pixel de cada vez,  pulando e igorando muitos pixels de uma vez.\n",
    "\n",
    "Referimo-nos ao número de linhas e colunas percorridas por um passo como *stride*.\n",
    "Até agora, usamos *strides* de 1, tanto para altura quanto largura.\n",
    "Às vezes, podemos querer usar um valor maior de *stride*.\n",
    "Logicamente, que o valor do *stride* impacta diretamente na saída.\n",
    "Em geral, quando o *stride* para a altura é $s_h$ e o *stride* para a largura é $s_w$, o tamanho da saída será calculada da seguinte forma:\n",
    "\n",
    "$$\\lfloor (n_h-k_h + p_h + s_h) / s_h \\rfloor \\times \\lfloor(n_w-k_w + p_w + s_w) / s_w \\rfloor$$\n",
    "\n",
    "Se definirmos $p_h = k_h-1$ e $p_w = k_w-1$, então o cálculo da saída será simplificado para $\\lfloor (n_h + s_h-1) /s_h \\rfloor \\times \\lfloor(n_w + s_w-1) /s_w \\rfloor$.\n",
    "\n",
    "A figura abaixo mostra uma operação de convolução com *stride* de 3 verticalmente e 2 horizontalmente.\n",
    "Podemos ver que quando o segundo elemento da primeira coluna é gerado, a janela de convolução desliza três linhas.\n",
    "A janela de convolução desliza duas colunas para a direita quando o segundo elemento da primeira linha é gerado..\n",
    "\n",
    "<p align=\"center\">\n",
    "  <img src=\"https://drive.google.com/uc?export=view&id=1roGo9atDF5l2ocf9as0L_FDeMDxnAyuL\">\n",
    "</p>\n",
    "\n",
    "Abaixo, um exemplo comparando o tamanho da saída quando usamos *stride* (1, 1), (2, 2), e (3, 4) para altura e largura, respectivamente.\n",
    "Notem que, com a mesma entrada X de tamanho $8\\times8$ a saída fica bem diferente."
   ]
  },
  {
   "cell_type": "code",
   "execution_count": 0,
   "metadata": {
    "colab": {
     "base_uri": "https://localhost:8080/",
     "height": 164
    },
    "colab_type": "code",
    "executionInfo": {
     "elapsed": 865,
     "status": "ok",
     "timestamp": 1562511271851,
     "user": {
      "displayName": "Keiller Nogueira",
      "photoUrl": "https://lh5.googleusercontent.com/-OSbB3k7-l84/AAAAAAAAAAI/AAAAAAAAAac/z8WNFFAmye0/s64/photo.jpg",
      "userId": "03938009311988397527"
     },
     "user_tz": 180
    },
    "id": "_LI43qi8iyRB",
    "outputId": "ac0d8cb6-e758-462b-faa9-49b8417ad206"
   },
   "outputs": [
    {
     "name": "stdout",
     "output_type": "stream",
     "text": [
      "-----Stride 1, Padding 1-----\n",
      "(8, 8)\n",
      "\n",
      "-----Stride 2, Padding 1-----\n",
      "(4, 4)\n",
      "\n",
      "-----Stride (3,4), Padding (0,1)-----\n",
      "(2, 2)\n"
     ]
    }
   ],
   "source": [
    "X = nd.random.uniform(shape=(8, 8))\n",
    "\n",
    "conv2d = nn.Conv2D(1, kernel_size=3, padding=1, strides=1)\n",
    "print('-----Stride 1, Padding 1-----')\n",
    "print(comp_conv2d(conv2d, X).shape)\n",
    "\n",
    "conv2d = nn.Conv2D(1, kernel_size=3, padding=1, strides=2)\n",
    "print('\\n-----Stride 2, Padding 1-----')\n",
    "print(comp_conv2d(conv2d, X).shape)\n",
    "\n",
    "conv2d = nn.Conv2D(1, kernel_size=(3, 5), padding=(0, 1), strides=(3, 4))\n",
    "print('\\n-----Stride (3,4), Padding (0,1)-----')\n",
    "print(comp_conv2d(conv2d, X).shape)"
   ]
  },
  {
   "cell_type": "markdown",
   "metadata": {
    "colab_type": "text",
    "id": "9hVwDXkG7roh"
   },
   "source": [
    "### Continuação: MXNet e o caso de estudo LeNet-5\n",
    "\n",
    "Vamos agora definir explicitamente o *padding* e *stride* em cada camada convolucional.\n",
    "Como, por padrão, o *padding* e *stride* dessa camada é 0 e 1, o nosso resultado ainda não vai mudar. Entretanto, agora podemos calcular a saída exata de cada camada.\n",
    "\n",
    "<p align=\"center\">\n",
    "  <img width=700 src=\"https://miro.medium.com/max/2625/1*1TI1aGBZ4dybR6__DI9dzA.png\">\n",
    "</p>\n",
    "\n",
    "\n",
    "<p align=\"center\">\n",
    "  <img width=700 src=\"https://engmrk.com/wp-content/uploads/2018/09/LeNEt_Summary_Table.jpg\">\n",
    "</p>\n"
   ]
  },
  {
   "cell_type": "code",
   "execution_count": 7,
   "metadata": {
    "colab": {
     "base_uri": "https://localhost:8080/",
     "height": 219
    },
    "colab_type": "code",
    "executionInfo": {
     "elapsed": 107170,
     "status": "ok",
     "timestamp": 1562590923791,
     "user": {
      "displayName": "Keiller Nogueira",
      "photoUrl": "https://lh5.googleusercontent.com/-OSbB3k7-l84/AAAAAAAAAAI/AAAAAAAAAac/z8WNFFAmye0/s64/photo.jpg",
      "userId": "03938009311988397527"
     },
     "user_tz": 180
    },
    "id": "Ffkb7GkS1fgJ",
    "outputId": "daca51fc-b44e-409b-83af-cf13b3287756"
   },
   "outputs": [
    {
     "name": "stdout",
     "output_type": "stream",
     "text": [
      "training on gpu(0)\n",
      "epoch 1, train loss 1.1448, train acc 0.573, test loss 1.0724, test acc 0.597, time 11.0 sec\n",
      "epoch 2, train loss 0.8736, train acc 0.673, test loss 0.8311, test acc 0.667, time 10.4 sec\n",
      "epoch 3, train loss 0.8024, train acc 0.696, test loss 0.8493, test acc 0.714, time 10.4 sec\n",
      "epoch 4, train loss 0.7946, train acc 0.707, test loss 0.7808, test acc 0.717, time 10.6 sec\n",
      "epoch 5, train loss 0.7427, train acc 0.720, test loss 0.8097, test acc 0.675, time 10.6 sec\n",
      "epoch 6, train loss 0.7314, train acc 0.726, test loss 0.7645, test acc 0.715, time 10.6 sec\n",
      "epoch 7, train loss 0.7121, train acc 0.727, test loss 0.6568, test acc 0.754, time 10.4 sec\n",
      "epoch 8, train loss 0.6881, train acc 0.739, test loss 0.6849, test acc 0.733, time 10.6 sec\n",
      "epoch 9, train loss 0.7140, train acc 0.724, test loss 0.7621, test acc 0.731, time 10.4 sec\n",
      "epoch 10, train loss 0.6952, train acc 0.737, test loss 0.6571, test acc 0.748, time 10.3 sec\n"
     ]
    }
   ],
   "source": [
    "# parâmetros: número de epochs, learning rate (ou taxa de aprendizado), \n",
    "# tamanho do batch, e lambda do weight decay\n",
    "num_epochs, lr, batch_size, wd_lambda = 10, 0.1, 128, 0.000001\n",
    "\n",
    "# rede baseada na LeNet-5 \n",
    "net = nn.Sequential()\n",
    "net.add(nn.Conv2D(6, kernel_size=5, strides=1, padding=0, activation='tanh'),     # entrada: (b, 1, 32, 32) e saida: (b, 6, 28, 28)\n",
    "        nn.Conv2D(16, kernel_size=5, strides=1, padding=0, activation='tanh'),    # entrada: (b, 6, 28, 28) e saida: (b, 16, 24, 24)\n",
    "        nn.Conv2D(120, kernel_size=5, strides=1, padding=0, activation='tanh'),   # entrada: (b, 16, 24, 24) e saida: (b, 120, 20, 20)\n",
    "        nn.Flatten(),  # lineariza formando um vetor                              # entrada: (b, 120, 20, 20) e saida: (b, 120*20*20) = (b, 48000)\n",
    "        nn.Dense(84, activation=\"tanh\"),                                          # entrada: (b, 48000) e saida: (b, 84)\n",
    "        nn.Dense(10))                                                             # entrada: (b, 84) e saida: (b, 10)\n",
    "net.initialize(init.Normal(sigma=0.01), ctx=ctx)\n",
    "\n",
    "# função de custo (ou loss)\n",
    "loss = gloss.SoftmaxCrossEntropyLoss()\n",
    "\n",
    "# carregamento do dado: mnist\n",
    "train_iter, test_iter = load_data_fashion_mnist(batch_size, resize=32)\n",
    "\n",
    "# trainer do gluon\n",
    "trainer = gluon.Trainer(net.collect_params(), 'sgd', {'learning_rate': lr, 'wd': wd_lambda, 'momentum': 0.9})\n",
    "\n",
    "# treinamento e validação via MXNet\n",
    "train_validate(net, train_iter, test_iter, batch_size, trainer, loss, \n",
    "               ctx, num_epochs)"
   ]
  }
 ],
 "metadata": {
  "accelerator": "GPU",
  "colab": {
   "collapsed_sections": [],
   "name": "01.1 - Camada-convolucional.ipynb",
   "provenance": [],
   "version": "0.3.2"
  },
  "kernelspec": {
   "display_name": "Python 3",
   "language": "python",
   "name": "python3"
  },
  "language_info": {
   "codemirror_mode": {
    "name": "ipython",
    "version": 3
   },
   "file_extension": ".py",
   "mimetype": "text/x-python",
   "name": "python",
   "nbconvert_exporter": "python",
   "pygments_lexer": "ipython3",
   "version": "3.7.3"
  }
 },
 "nbformat": 4,
 "nbformat_minor": 1
}
