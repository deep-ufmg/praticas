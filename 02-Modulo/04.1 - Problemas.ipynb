{
 "cells": [
  {
   "cell_type": "markdown",
   "metadata": {
    "colab_type": "text",
    "id": "Ed03SC1Jm9Yy"
   },
   "source": [
    "## Aprendizado Profundo - UFMG\n",
    "\n",
    "## Problemas\n",
    "\n",
    "Como vimos acima, há muitos passos na criação e definição de uma nova rede neural.\n",
    "A grande parte desses ajustes dependem diretamente do problemas.\n",
    "\n",
    "Abaixo, listamos alguns problemas. Todos os problemas e datasets usados vem do [Center for Machine Learning and Intelligent Systems](http://archive.ics.uci.edu/ml/datasets.php).\n",
    "\n",
    "\n",
    "**Seu objetivo é determinar e implementar um modelo para cada problema.**\n",
    "\n",
    "Isso inclui definir uma arquitetura (por enquanto usando somente camadas [Densas](https://mxnet.incubator.apache.org/api/python/gluon/nn.html#mxnet.gluon.nn.Dense), porém podemos variar as ativações -- [Sigmoid](https://mxnet.incubator.apache.org/api/python/symbol/symbol.html#mxnet.symbol.Symbol.sigmoid), [Tanh](https://mxnet.incubator.apache.org/api/python/symbol/symbol.html#mxnet.symbol.Symbol.tanh), [ReLU](https://mxnet.incubator.apache.org/api/python/symbol/symbol.html#mxnet.symbol.Symbol.relu), [LeakyReLU, ELU, SeLU, PReLU, RReLU](https://mxnet.incubator.apache.org/api/python/symbol/symbol.html#mxnet.symbol.LeakyReLU)), uma função de custo ( [L1](https://mxnet.incubator.apache.org/api/python/gluon/loss.html#mxnet.gluon.loss.L2Loss), [L2](https://mxnet.incubator.apache.org/api/python/gluon/loss.html#mxnet.gluon.loss.L1Loss),[ Huber](https://mxnet.incubator.apache.org/api/python/gluon/loss.html#mxnet.gluon.loss.HuberLoss), [*Cross-Entropy*](https://mxnet.incubator.apache.org/api/python/gluon/loss.html#mxnet.gluon.loss.SoftmaxCrossEntropyLoss), [Hinge](https://mxnet.incubator.apache.org/api/python/gluon/loss.html#mxnet.gluon.loss.HingeLoss)), e um algoritmo de otimização ([SGD](https://mxnet.incubator.apache.org/api/python/optimization/optimization.html#mxnet.optimizer.SGD), [Momentum](https://mxnet.incubator.apache.org/api/python/optimization/optimization.html#mxnet.optimizer.SGD), [RMSProp](https://mxnet.incubator.apache.org/api/python/optimization/optimization.html#mxnet.optimizer.RMSProp), [Adam](https://mxnet.incubator.apache.org/api/python/optimization/optimization.html#mxnet.optimizer.Adam)).\n",
    "\n",
    "A leitura do dado assim como a função de treinamento já estão implementados."
   ]
  },
  {
   "cell_type": "markdown",
   "metadata": {
    "colab_type": "text",
    "id": "Gp6CwWnFnTwb"
   },
   "source": [
    "Esse pequeno bloco de código abaixo é usado somente para instalar o MXNet para CUDA 10. Execute esse bloco somente uma vez e ignore possíveis erros levantados durante a instalação.\n",
    "\n",
    "**ATENÇÃO: a alteração deste bloco pode implicar em problemas na execução dos blocos restantes!**"
   ]
  },
  {
   "cell_type": "code",
   "execution_count": 2,
   "metadata": {},
   "outputs": [],
   "source": [
    "#! pip install mxnet-cu100"
   ]
  },
  {
   "cell_type": "markdown",
   "metadata": {},
   "source": [
    "# Preâmbulo"
   ]
  },
  {
   "cell_type": "code",
   "execution_count": 0,
   "metadata": {
    "colab": {},
    "colab_type": "code",
    "id": "XW-VATPAldgt"
   },
   "outputs": [],
   "source": [
    "# imports basicos\n",
    "\n",
    "from mxnet import autograd\n",
    "from mxnet import gluon\n",
    "from mxnet import init\n",
    "from mxnet import nd\n",
    "\n",
    "from mxnet.gluon import data as gdata\n",
    "from mxnet.gluon import loss as gloss\n",
    "from mxnet.gluon import nn\n",
    "from mxnet.gluon import utils as gutils\n",
    "\n",
    "from sklearn import preprocessing\n",
    "from sklearn.model_selection import train_test_split\n",
    "\n",
    "import mxnet as mx\n",
    "import numpy as np\n",
    "\n",
    "import os\n",
    "import sys\n",
    "import time"
   ]
  },
  {
   "cell_type": "code",
   "execution_count": null,
   "metadata": {},
   "outputs": [],
   "source": [
    "import matplotlib.pyplot as plt\n",
    "plt.ion()"
   ]
  },
  {
   "cell_type": "code",
   "execution_count": null,
   "metadata": {},
   "outputs": [],
   "source": [
    "# Tenta encontrar GPU\n",
    "def try_gpu():\n",
    "    try:\n",
    "        ctx = mx.gpu()\n",
    "        _ = nd.zeros((1,), ctx=ctx)\n",
    "    except mx.base.MXNetError:\n",
    "        ctx = mx.cpu()\n",
    "    return ctx\n",
    "\n",
    "ctx = try_gpu()\n",
    "ctx"
   ]
  },
  {
   "cell_type": "code",
   "execution_count": 0,
   "metadata": {
    "colab": {},
    "colab_type": "code",
    "id": "8oSVf8u1Oi1m"
   },
   "outputs": [],
   "source": [
    "# funções básicas\n",
    "\n",
    "def load_array(features, labels, batch_size, is_train=True):\n",
    "    \"\"\"Construct a Gluon data loader\"\"\"\n",
    "    dataset = gluon.data.ArrayDataset(features, labels)\n",
    "    return gluon.data.DataLoader(dataset, batch_size, shuffle=is_train)\n",
    "\n",
    "def _get_batch(batch, ctx):\n",
    "    \"\"\"Return features and labels on ctx.\"\"\"\n",
    "    features, labels = batch\n",
    "    if labels.dtype != features.dtype:\n",
    "        labels = labels.astype(features.dtype)\n",
    "    return (gutils.split_and_load(features, ctx),\n",
    "            gutils.split_and_load(labels, ctx), features.shape[0])\n",
    "\n",
    "# Função usada para calcular acurácia\n",
    "def evaluate_accuracy(data_iter, net, loss, ctx=[mx.cpu()]):\n",
    "    \"\"\"Evaluate accuracy of a model on the given data set.\"\"\"\n",
    "    if isinstance(ctx, mx.Context):\n",
    "        ctx = [ctx]\n",
    "    acc_sum, n, l = nd.array([0]), 0, 0\n",
    "    for batch in data_iter:\n",
    "        features, labels, _ = _get_batch(batch, ctx)\n",
    "        for X, y in zip(features, labels):\n",
    "            # X, y = X.as_in_context(ctx), y.as_in_context(ctx)\n",
    "            y = y.astype('float32')\n",
    "            y_hat = net(X)\n",
    "            l += loss(y_hat, y).sum()\n",
    "            acc_sum += (y_hat.argmax(axis=1) == y).sum().copyto(mx.cpu())\n",
    "            n += y.size\n",
    "        acc_sum.wait_to_read()\n",
    "    return acc_sum.asscalar() / n, l.asscalar() / n\n",
    "  \n",
    "# Função usada no treinamento e validação da rede\n",
    "def train_validate(net, train_iter, test_iter, batch_size, trainer, loss, ctx,\n",
    "                   num_epochs, type='regression'):\n",
    "    print('training on', ctx)\n",
    "    for epoch in range(num_epochs):\n",
    "        train_l_sum, train_acc_sum, n, start = 0.0, 0.0, 0, time.time()\n",
    "        for X, y in train_iter:\n",
    "            X, y = X.as_in_context(ctx), y.as_in_context(ctx)\n",
    "            with autograd.record():\n",
    "                y_hat = net(X)\n",
    "                l = loss(y_hat, y).sum()\n",
    "            l.backward()\n",
    "            trainer.step(batch_size)\n",
    "            y = y.astype('float32')\n",
    "            train_l_sum += l.asscalar()\n",
    "            train_acc_sum += (y_hat.argmax(axis=1) == y).sum().asscalar()\n",
    "            n += y.size\n",
    "        test_acc, test_loss = evaluate_accuracy(test_iter, net, loss, ctx)\n",
    "        if type == 'regression':\n",
    "          print('epoch %d, train loss %.4f, test loss %.4f, time %.1f sec'\n",
    "                % (epoch + 1, train_l_sum / n, test_loss, time.time() - start))\n",
    "        else:\n",
    "          print('epoch %d, train loss %.4f, train acc %.3f, test loss %.4f, '\n",
    "                'test acc %.3f, time %.1f sec'\n",
    "                % (epoch + 1, train_l_sum / n, train_acc_sum / n, test_loss, \n",
    "                   test_acc, time.time() - start))\n",
    "          \n",
    "# funcao usada para teste\n",
    "def test(net, test_iter):\n",
    "    print('testing on', ctx)\n",
    "    first = True\n",
    "    for X in test_iter:\n",
    "        X = X.as_in_context(ctx)\n",
    "        y_hat = net(X)\n",
    "        if first is True:\n",
    "          pred_logits = y_hat\n",
    "          pred_labels = y_hat.argmax(axis=1)\n",
    "          first = False\n",
    "        else:\n",
    "          pred_logits = nd.concat(pred_logits, y_hat, dim=0)\n",
    "          pred_labels = nd.concat(pred_labels, y_hat.argmax(axis=1), dim=0)\n",
    "\n",
    "    return pred_logits.asnumpy(), pred_labels.asnumpy()"
   ]
  },
  {
   "cell_type": "markdown",
   "metadata": {
    "colab_type": "text",
    "id": "Y0m-qic-0Wnl"
   },
   "source": [
    "## Problema 1\n",
    "\n",
    "Neste problema, você receberá 7 *features* extraídas de poços de petróleo ('BRCALI', 'BRDENS', 'BRDTP', 'BRGR', 'BRNEUT', 'BRRESC', 'BRRESP') e deve predizer o tipo de rocha."
   ]
  },
  {
   "cell_type": "markdown",
   "metadata": {
    "colab_type": "text",
    "id": "U64ACnJoGsDv"
   },
   "source": [
    "### Treino e Validação\n",
    "\n",
    "Primeiro, vamos modelar uma rede neural e treiná-la.\n",
    "Usamos o dado de treino carregado no próximo bloco para convergir o modelo e o dado de validação para avaliar quão bom ele estão. "
   ]
  },
  {
   "cell_type": "code",
   "execution_count": 0,
   "metadata": {
    "colab": {},
    "colab_type": "code",
    "id": "AUYOPZYH0Ztc"
   },
   "outputs": [],
   "source": [
    "# download do dataset\n",
    "!wget https://www.dropbox.com/s/6cevlspltthx52v/MAR-1_PBS.txt\n",
    "!wget https://www.dropbox.com/s/fdpjmppsvadlz9l/MAR_1_EDIT_las.txt\n",
    "\n",
    "X = np.loadtxt('MAR_1_EDIT_las.txt', skiprows=0, usecols=(1,2,3,4,5,6,7,8,9,10,11,12), dtype=np.float32)\n",
    "y = np.loadtxt('MAR-1_PBS.txt', skiprows=0, usecols=1, dtype=np.float32)\n",
    "\n",
    "print(X.shape)\n",
    "print(y.shape)\n",
    "\n",
    "train_features, test_features, train_labels, test_labels = train_test_split(X, y, test_size=0.2, random_state=42)\n",
    "\n",
    "def load_array(features, labels, batch_size, is_train=True):\n",
    "    \"\"\"Construct a Gluon data loader\"\"\"\n",
    "    dataset = gluon.data.ArrayDataset(features, labels)\n",
    "    return gluon.data.DataLoader(dataset, batch_size, shuffle=is_train)\n",
    "  \n",
    "batch_size = 10\n",
    "train_iter = load_array(train_features, train_labels, batch_size)\n",
    "test_iter = load_array(test_features, test_labels, batch_size, False)"
   ]
  },
  {
   "cell_type": "markdown",
   "metadata": {
    "colab_type": "text",
    "id": "Pd8hG7HCDUib"
   },
   "source": [
    "## Problema 2\n",
    "\n",
    "Neste problema, você receberá várias *features* (como altura média, inclinação, etc) descrevendo uma região e o modelo deve predizer qual o tipo da região (floresta, montanha, etc)."
   ]
  },
  {
   "cell_type": "code",
   "execution_count": 0,
   "metadata": {
    "colab": {
     "base_uri": "https://localhost:8080/",
     "height": 550
    },
    "colab_type": "code",
    "id": "IZcIXGqBDznB",
    "outputId": "c74113e3-44ed-49b4-a6fd-2d1b9a5e5315"
   },
   "outputs": [
    {
     "name": "stdout",
     "output_type": "stream",
     "text": [
      "--2019-06-16 21:33:59--  http://archive.ics.uci.edu/ml/machine-learning-databases/covtype/covtype.data.gz\n",
      "Resolving archive.ics.uci.edu (archive.ics.uci.edu)... 128.195.10.252\n",
      "Connecting to archive.ics.uci.edu (archive.ics.uci.edu)|128.195.10.252|:80... connected.\n",
      "HTTP request sent, awaiting response... 200 OK\n",
      "Length: 11240707 (11M) [application/x-httpd-php]\n",
      "Saving to: ‘covtype.data.gz.2’\n",
      "\n",
      "covtype.data.gz.2   100%[===================>]  10.72M  13.0MB/s    in 0.8s    \n",
      "\n",
      "2019-06-16 21:34:00 (13.0 MB/s) - ‘covtype.data.gz.2’ saved [11240707/11240707]\n",
      "\n",
      "gzip: covtype.data.gz already has .gz suffix -- unchanged\n",
      "(581012, 55) [2.596e+03 5.100e+01 3.000e+00 2.580e+02 0.000e+00 5.100e+02 2.210e+02\n",
      " 2.320e+02 1.480e+02 6.279e+03 1.000e+00 0.000e+00 0.000e+00 0.000e+00\n",
      " 0.000e+00 0.000e+00 0.000e+00 0.000e+00 0.000e+00 0.000e+00 0.000e+00\n",
      " 0.000e+00 0.000e+00 0.000e+00 0.000e+00 0.000e+00 0.000e+00 0.000e+00\n",
      " 0.000e+00 0.000e+00 0.000e+00 0.000e+00 0.000e+00 0.000e+00 0.000e+00\n",
      " 0.000e+00 0.000e+00 0.000e+00 0.000e+00 0.000e+00 0.000e+00 0.000e+00\n",
      " 1.000e+00 0.000e+00 0.000e+00 0.000e+00 0.000e+00 0.000e+00 0.000e+00\n",
      " 0.000e+00 0.000e+00 0.000e+00 0.000e+00 0.000e+00 5.000e+00]\n",
      "(581012, 54) [2.596e+03 5.100e+01 3.000e+00 2.580e+02 0.000e+00 5.100e+02 2.210e+02\n",
      " 2.320e+02 1.480e+02 6.279e+03 1.000e+00 0.000e+00 0.000e+00 0.000e+00\n",
      " 0.000e+00 0.000e+00 0.000e+00 0.000e+00 0.000e+00 0.000e+00 0.000e+00\n",
      " 0.000e+00 0.000e+00 0.000e+00 0.000e+00 0.000e+00 0.000e+00 0.000e+00\n",
      " 0.000e+00 0.000e+00 0.000e+00 0.000e+00 0.000e+00 0.000e+00 0.000e+00\n",
      " 0.000e+00 0.000e+00 0.000e+00 0.000e+00 0.000e+00 0.000e+00 0.000e+00\n",
      " 1.000e+00 0.000e+00 0.000e+00 0.000e+00 0.000e+00 0.000e+00 0.000e+00\n",
      " 0.000e+00 0.000e+00 0.000e+00 0.000e+00 0.000e+00]\n",
      "(581012,) 5.0\n"
     ]
    }
   ],
   "source": [
    "!wget http://archive.ics.uci.edu/ml/machine-learning-databases/covtype/covtype.data.gz\n",
    "!gzip covtype.data.gz\n",
    "data = np.genfromtxt('covtype.data', delimiter=',', dtype=np.float32)\n",
    "\n",
    "print(data.shape, data[0, :])\n",
    "X, y = data[:, :-1], data[:, -1]\n",
    "print(X.shape, X[0, :])\n",
    "print(y.shape, y[0]k)\n",
    "train_features, test_features, train_labels, test_labels = train_test_split(X, y, test_size=0.33, random_state=42)\n",
    "\n",
    "def load_array(features, labels, batch_size, is_train=True):\n",
    "    \"\"\"Construct a Gluon data loader\"\"\"\n",
    "    dataset = gluon.data.ArrayDataset(features, labels)\n",
    "    return gluon.data.DataLoader(dataset, batch_size, shuffle=is_train)\n",
    "  \n",
    "batch_size = 100\n",
    "train_iter = load_array(train_features, train_labels, batch_size)\n",
    "test_iter = load_array(test_features, test_labels, batch_size, False)"
   ]
  },
  {
   "cell_type": "markdown",
   "metadata": {
    "colab_type": "text",
    "id": "IDaRVNq1aMpm"
   },
   "source": [
    "## Problema 3\n",
    "\n",
    "Neste problema, você receberá 90 *features* extraídas de diversas músicas (datadas de 1922 até 2011) e deve predizer o ano de cada música."
   ]
  },
  {
   "cell_type": "code",
   "execution_count": 0,
   "metadata": {
    "colab": {
     "base_uri": "https://localhost:8080/",
     "height": 678
    },
    "colab_type": "code",
    "id": "CWdBT3zhW_Y5",
    "outputId": "bb58ec97-b181-4fd8-9533-de227fd124bb"
   },
   "outputs": [
    {
     "name": "stdout",
     "output_type": "stream",
     "text": [
      "--2019-06-16 21:11:44--  http://archive.ics.uci.edu/ml/machine-learning-databases/00203/YearPredictionMSD.txt.zip\n",
      "Resolving archive.ics.uci.edu (archive.ics.uci.edu)... 128.195.10.252\n",
      "Connecting to archive.ics.uci.edu (archive.ics.uci.edu)|128.195.10.252|:80... connected.\n",
      "HTTP request sent, awaiting response... 200 OK\n",
      "Length: 211011981 (201M) [application/x-httpd-php]\n",
      "Saving to: ‘YearPredictionMSD.txt.zip’\n",
      "\n",
      "YearPredictionMSD.t 100%[===================>] 201.24M  43.4MB/s    in 5.1s    \n",
      "\n",
      "2019-06-16 21:11:49 (39.4 MB/s) - ‘YearPredictionMSD.txt.zip’ saved [211011981/211011981]\n",
      "\n",
      "Archive:  YearPredictionMSD.txt.zip\n",
      "  inflating: YearPredictionMSD.txt   \n",
      "[ 2.0010000e+03  4.9943569e+01  2.1471140e+01  7.3077499e+01\n",
      "  8.7486095e+00 -1.7406281e+01 -1.3099050e+01 -2.5012020e+01\n",
      " -1.2232570e+01  7.8308902e+00 -2.4678299e+00  3.3213601e+00\n",
      " -2.3152101e+00  1.0205560e+01  6.1110913e+02  9.5108960e+02\n",
      "  6.9811426e+02  4.0898486e+02  3.8370911e+02  3.2651511e+02\n",
      "  2.3811327e+02  2.5142413e+02  1.8717351e+02  1.0042652e+02\n",
      "  1.7919498e+02 -8.4155798e+00 -3.1787039e+02  9.5862663e+01\n",
      "  4.8102589e+01 -9.5663033e+01 -1.8062149e+01  1.9698400e+00\n",
      "  3.4424381e+01  1.1726700e+01  1.3679000e+00  7.7944398e+00\n",
      " -3.6994001e-01 -1.3367851e+02 -8.3261650e+01 -3.7297649e+01\n",
      "  7.3046669e+01 -3.7366840e+01 -3.1385300e+00 -2.4215309e+01\n",
      " -1.3230660e+01  1.5938090e+01 -1.8604780e+01  8.2154793e+01\n",
      "  2.4057980e+02 -1.0294070e+01  3.1584311e+01 -2.5381870e+01\n",
      " -3.9077201e+00  1.3292580e+01  4.1550598e+01 -7.2627201e+00\n",
      " -2.1008631e+01  1.0550848e+02  6.4298561e+01  2.6084810e+01\n",
      " -4.4591099e+01 -8.3065701e+00  7.9370599e+00 -1.0736600e+01\n",
      " -9.5447662e+01 -8.2033073e+01 -3.5591942e+01  4.6952500e+00\n",
      "  7.0956261e+01  2.8091391e+01  6.0201502e+00 -3.7137669e+01\n",
      " -4.1124500e+01 -8.4081602e+00  7.1987700e+00 -8.6017599e+00\n",
      " -5.9085698e+00 -1.2324370e+01  1.4687340e+01 -5.4321251e+01\n",
      "  4.0147861e+01  1.3016200e+01 -5.4405479e+01  5.8993671e+01\n",
      "  1.5373440e+01  1.1114399e+00 -2.3087931e+01  6.8407951e+01\n",
      " -1.8222300e+00 -2.7463480e+01  2.2632699e+00]\n"
     ]
    }
   ],
   "source": [
    "# download do dataset\n",
    "!wget http://archive.ics.uci.edu/ml/machine-learning-databases/00203/YearPredictionMSD.txt.zip\n",
    "!unzip YearPredictionMSD.txt.zip\n",
    "data = np.genfromtxt('YearPredictionMSD.txt', delimiter=',', dtype=np.float32)\n",
    "\n",
    "print(data[0, :])\n",
    "X, y = data[:, 1:], data[:, 0]\n",
    "train_features, test_features, train_labels, test_labels = train_test_split(X, y, test_size=0.33, random_state=42)\n",
    "\n",
    "def load_array(features, labels, batch_size, is_train=True):\n",
    "    \"\"\"Construct a Gluon data loader\"\"\"\n",
    "    dataset = gluon.data.ArrayDataset(features, labels)\n",
    "    return gluon.data.DataLoader(dataset, batch_size, shuffle=is_train)\n",
    "  \n",
    "batch_size = 100\n",
    "train_iter = load_array(train_features, train_labels, batch_size)\n",
    "test_iter = load_array(test_features, test_labels, batch_size, False)"
   ]
  }
 ],
 "metadata": {
  "accelerator": "GPU",
  "colab": {
   "collapsed_sections": [
    "Pd8hG7HCDUib",
    "IDaRVNq1aMpm"
   ],
   "name": "04.1 - Problemas_v2.ipynb",
   "provenance": [],
   "version": "0.3.2"
  },
  "kernelspec": {
   "display_name": "Python 3",
   "language": "python",
   "name": "python3"
  },
  "language_info": {
   "codemirror_mode": {
    "name": "ipython",
    "version": 3
   },
   "file_extension": ".py",
   "mimetype": "text/x-python",
   "name": "python",
   "nbconvert_exporter": "python",
   "pygments_lexer": "ipython3",
   "version": "3.6.8"
  }
 },
 "nbformat": 4,
 "nbformat_minor": 1
}
