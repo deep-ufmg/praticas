{
 "cells": [
  {
   "cell_type": "markdown",
   "metadata": {
    "colab_type": "text",
    "id": "Ed03SC1Jm9Yy"
   },
   "source": [
    "# Aprendizado Profundo - UFMG\n",
    "\n",
    "## Passo à Passo das Redes Neurais\n",
    "\n",
    "A criação e treinamento de uma rede neural tem alguns passos que foram um *pipeline* completo.\n",
    "Nesta aula, vamos ver cada passo para criar e treinar uma rede neural do zero usando MXNet.\n"
   ]
  },
  {
   "cell_type": "markdown",
   "metadata": {
    "colab_type": "text",
    "id": "Gp6CwWnFnTwb"
   },
   "source": [
    "Antes de começar, vamos instalar o MXNet. Esse pequeno bloco de código abaixo é usado somente para instalar o MXNet para CUDA 10. Execute esse bloco somente uma vez e ignore possíveis erros levantados durante a instalação.\n",
    "\n",
    "Configure também o Collab para fazer uso de GPUs.\n",
    "\n",
    "Clique em \"Runtime\" depois \"Change Runtime\" e por altere as configurações da seguinte forma:\n",
    "\n",
    "![](https://www.kdnuggets.com/wp-content/uploads/colab-settings-1.png)\n",
    "\n",
    "Lembre-se de instalar o mxnet com gpu, descomente o código abaixo."
   ]
  },
  {
   "cell_type": "code",
   "execution_count": 1,
   "metadata": {},
   "outputs": [],
   "source": [
    "# ! pip install mxnet-cu100"
   ]
  },
  {
   "cell_type": "markdown",
   "metadata": {},
   "source": [
    "O próximo bloco contém nossos importes. O mais importante aqui é o gluon. Gluon é uma API mais alto nível para criação de redes neurais. Por baixo, temos um código estilo o de backpragation da aula passada. Porém, é bem melhor :-) Mais rápido, usa GPUs, carrega dados etc.\n",
    "\n",
    "Note como fazemos import de várias partes do gluon. Um código completo com mxnet + gluon vai fazer algo como:\n",
    "\n",
    "```python\n",
    "from mxnet import autograd\n",
    "from mxnet import gluon\n",
    "from mxnet import init\n",
    "from mxnet import nd\n",
    "\n",
    "from mxnet.gluon import data as gdata\n",
    "from mxnet.gluon import loss as gloss\n",
    "from mxnet.gluon import nn\n",
    "from mxnet.gluon import utils```"
   ]
  },
  {
   "cell_type": "markdown",
   "metadata": {},
   "source": [
    "O próximo abaixo configura o mxnet para fazer uso de GPUs.\n",
    "\n",
    "**ATENÇÃO: a alteração deste bloco pode implicar em problemas na execução dos blocos restantes!**"
   ]
  },
  {
   "cell_type": "code",
   "execution_count": 2,
   "metadata": {
    "colab": {
     "base_uri": "https://localhost:8080/",
     "height": 643
    },
    "colab_type": "code",
    "executionInfo": {
     "elapsed": 49320,
     "status": "ok",
     "timestamp": 1560485551855,
     "user": {
      "displayName": "Keiller Nogueira",
      "photoUrl": "https://lh5.googleusercontent.com/-OSbB3k7-l84/AAAAAAAAAAI/AAAAAAAAAac/z8WNFFAmye0/s64/photo.jpg",
      "userId": "03938009311988397527"
     },
     "user_tz": 180
    },
    "id": "XW-VATPAldgt",
    "outputId": "030a2ff2-5cef-4fd4-d678-38808709a317"
   },
   "outputs": [],
   "source": [
    "from mxnet import autograd\n",
    "from mxnet import gluon\n",
    "from mxnet import init\n",
    "from mxnet import nd\n",
    "\n",
    "from mxnet.gluon import data as gdata\n",
    "from mxnet.gluon import loss as gloss\n",
    "from mxnet.gluon import nn\n",
    "from mxnet.gluon import utils\n",
    "\n",
    "import os\n",
    "import sys\n",
    "import time\n",
    "import mxnet as mx"
   ]
  },
  {
   "cell_type": "code",
   "execution_count": 3,
   "metadata": {},
   "outputs": [],
   "source": [
    "import matplotlib.pyplot as plt\n",
    "plt.ion()"
   ]
  },
  {
   "cell_type": "code",
   "execution_count": 4,
   "metadata": {},
   "outputs": [
    {
     "data": {
      "text/plain": [
       "cpu(0)"
      ]
     },
     "execution_count": 4,
     "metadata": {},
     "output_type": "execute_result"
    }
   ],
   "source": [
    "# Tenta encontrar GPU\n",
    "def try_gpu():\n",
    "    try:\n",
    "        ctx = mx.gpu()\n",
    "        _ = nd.zeros((1,), ctx=ctx)\n",
    "    except mx.base.MXNetError:\n",
    "        ctx = mx.cpu()\n",
    "    return ctx\n",
    "\n",
    "# CTX é um contexto mxnet, caso exista GPU o código rola nela. Caso não, executa na CPU mesmo.\n",
    "ctx = try_gpu()\n",
    "ctx"
   ]
  },
  {
   "cell_type": "markdown",
   "metadata": {
    "colab_type": "text",
    "id": "Azv2ajIYkIjH"
   },
   "source": [
    "## Passo 1: Carregar os dados\n",
    "\n",
    "Para treinar qualquer modelo de aprendizado de máquina, devemos carregar os dados.\n",
    "Caso o modelo seja não supervisionado, teremos os dados somente.\n",
    "Já para modelos treinados supervisionadamente, teremos os dados e os rótulos (também conhecidos como *labels* ou *ground-truths*).\n",
    "\n",
    "Obserne como o MXNET importa dados, pelo menos os didáticos, de forma muito simples."
   ]
  },
  {
   "cell_type": "code",
   "execution_count": 5,
   "metadata": {},
   "outputs": [],
   "source": [
    "mnist_train = gdata.vision.MNIST(train=True)\n",
    "mnist_test = gdata.vision.MNIST(train=False)"
   ]
  },
  {
   "cell_type": "markdown",
   "metadata": {},
   "source": [
    "Cada conjunto acima agora é um iterador. Podemos passar pelos elementos"
   ]
  },
  {
   "cell_type": "code",
   "execution_count": 6,
   "metadata": {},
   "outputs": [
    {
     "name": "stdout",
     "output_type": "stream",
     "text": [
      "(28, 28, 1)\n",
      "5\n"
     ]
    }
   ],
   "source": [
    "for xi, yi in mnist_train:\n",
    "    print(xi.shape)\n",
    "    print(yi)\n",
    "    break"
   ]
  },
  {
   "cell_type": "markdown",
   "metadata": {},
   "source": [
    "No loop acima, vemos que o treino é uma image de 28, 28 por 1. A resposta é uma classe. A base é bem similar com as outras que usamo junto com skimage."
   ]
  },
  {
   "cell_type": "code",
   "execution_count": 7,
   "metadata": {},
   "outputs": [
    {
     "name": "stdout",
     "output_type": "stream",
     "text": [
      "<class 'mxnet.ndarray.ndarray.NDArray'>\n",
      "<class 'numpy.int32'>\n"
     ]
    }
   ],
   "source": [
    "for xi, yi in mnist_train:\n",
    "    print(type(xi))\n",
    "    print(type(yi))\n",
    "    break"
   ]
  },
  {
   "cell_type": "markdown",
   "metadata": {},
   "source": [
    "O X é um TENSOR, o teste um inteiro. Como esperado, temos o número 5. Cada imagem é um número.\n",
    "\n",
    "Observe que precisei fazer um reshape para plotar, pois original o mxnet trabalha com tensores. Então, converti para uma imagem: (28, 28, 1) -> (28, 28)"
   ]
  },
  {
   "cell_type": "code",
   "execution_count": 8,
   "metadata": {
    "scrolled": true
   },
   "outputs": [
    {
     "data": {
      "image/png": "[encoded data removed]",
      "text/plain": [
       "<Figure size 288x288 with 1 Axes>"
      ]
     },
     "metadata": {
      "needs_background": "light"
     },
     "output_type": "display_data"
    }
   ],
   "source": [
    "for xi, yi in mnist_train:\n",
    "    Img = xi.reshape((28, 28))\n",
    "    plt.matshow(Img.asnumpy())\n",
    "    break"
   ]
  },
  {
   "cell_type": "markdown",
   "metadata": {},
   "source": [
    "Vamos supor que nossa ideia fosse fazer uso de um multiplayer perceptron simples. O mesmo trabalha em cima de uma vetor. Portanto, temos que converter imagem ao carregar. Para isto, podemos fazer uso de um Transformer. Existe um mundo de [Transformers](https://mxnet.incubator.apache.org/api/python/gluon/data.html). Use o comando help para entender os mesmos."
   ]
  },
  {
   "cell_type": "code",
   "execution_count": 9,
   "metadata": {},
   "outputs": [
    {
     "name": "stdout",
     "output_type": "stream",
     "text": [
      "Help on class Cast in module mxnet.gluon.data.vision.transforms:\n",
      "\n",
      "class Cast(mxnet.gluon.block.HybridBlock)\n",
      " |  Cast input to a specific data type\n",
      " |  \n",
      " |  Parameters\n",
      " |  ----------\n",
      " |  dtype : str, default 'float32'\n",
      " |      The target data type, in string or `numpy.dtype`.\n",
      " |  \n",
      " |  \n",
      " |  Inputs:\n",
      " |      - **data**: input tensor with arbitrary shape.\n",
      " |  \n",
      " |  Outputs:\n",
      " |      - **out**: output tensor with the same shape as `data`.\n",
      " |  \n",
      " |  Method resolution order:\n",
      " |      Cast\n",
      " |      mxnet.gluon.block.HybridBlock\n",
      " |      mxnet.gluon.block.Block\n",
      " |      builtins.object\n",
      " |  \n",
      " |  Methods defined here:\n",
      " |  \n",
      " |  __init__(self, dtype='float32')\n",
      " |      Initialize self.  See help(type(self)) for accurate signature.\n",
      " |  \n",
      " |  hybrid_forward(self, F, x)\n",
      " |      Overrides to construct symbolic graph for this `Block`.\n",
      " |      \n",
      " |      Parameters\n",
      " |      ----------\n",
      " |      x : Symbol or NDArray\n",
      " |          The first input tensor.\n",
      " |      *args : list of Symbol or list of NDArray\n",
      " |          Additional input tensors.\n",
      " |  \n",
      " |  ----------------------------------------------------------------------\n",
      " |  Methods inherited from mxnet.gluon.block.HybridBlock:\n",
      " |  \n",
      " |  __setattr__(self, name, value)\n",
      " |      Registers parameters.\n",
      " |  \n",
      " |  cast(self, dtype)\n",
      " |      Cast this Block to use another data type.\n",
      " |      \n",
      " |      Parameters\n",
      " |      ----------\n",
      " |      dtype : str or numpy.dtype\n",
      " |          The new data type.\n",
      " |  \n",
      " |  export(self, path, epoch=0)\n",
      " |      Export HybridBlock to json format that can be loaded by\n",
      " |      `SymbolBlock.imports`, `mxnet.mod.Module` or the C++ interface.\n",
      " |      \n",
      " |      .. note:: When there are only one input, it will have name `data`. When there\n",
      " |                Are more than one inputs, they will be named as `data0`, `data1`, etc.\n",
      " |      \n",
      " |      Parameters\n",
      " |      ----------\n",
      " |      path : str\n",
      " |          Path to save model. Two files `path-symbol.json` and `path-xxxx.params`\n",
      " |          will be created, where xxxx is the 4 digits epoch number.\n",
      " |      epoch : int\n",
      " |          Epoch number of saved model.\n",
      " |  \n",
      " |  forward(self, x, *args)\n",
      " |      Defines the forward computation. Arguments can be either\n",
      " |      :py:class:`NDArray` or :py:class:`Symbol`.\n",
      " |  \n",
      " |  hybridize(self, active=True, **kwargs)\n",
      " |      Activates or deactivates :py:class:`HybridBlock` s recursively. Has no effect on\n",
      " |      non-hybrid children.\n",
      " |      \n",
      " |      Parameters\n",
      " |      ----------\n",
      " |      active : bool, default True\n",
      " |          Whether to turn hybrid on or off.\n",
      " |      **kwargs : string\n",
      " |          Additional flags for hybridized operator.\n",
      " |  \n",
      " |  infer_shape(self, *args)\n",
      " |      Infers shape of Parameters from inputs.\n",
      " |  \n",
      " |  infer_type(self, *args)\n",
      " |      Infers data type of Parameters from inputs.\n",
      " |  \n",
      " |  register_child(self, block, name=None)\n",
      " |      Registers block as a child of self. :py:class:`Block` s assigned to self as\n",
      " |      attributes will be registered automatically.\n",
      " |  \n",
      " |  ----------------------------------------------------------------------\n",
      " |  Methods inherited from mxnet.gluon.block.Block:\n",
      " |  \n",
      " |  __call__(self, *args)\n",
      " |      Calls forward. Only accepts positional arguments.\n",
      " |  \n",
      " |  __repr__(self)\n",
      " |      Return repr(self).\n",
      " |  \n",
      " |  collect_params(self, select=None)\n",
      " |      Returns a :py:class:`ParameterDict` containing this :py:class:`Block` and all of its\n",
      " |      children's Parameters(default), also can returns the select :py:class:`ParameterDict`\n",
      " |      which match some given regular expressions.\n",
      " |      \n",
      " |      For example, collect the specified parameters in ['conv1_weight', 'conv1_bias', 'fc_weight',\n",
      " |      'fc_bias']::\n",
      " |      \n",
      " |          model.collect_params('conv1_weight|conv1_bias|fc_weight|fc_bias')\n",
      " |      \n",
      " |      or collect all parameters whose names end with 'weight' or 'bias', this can be done\n",
      " |      using regular expressions::\n",
      " |      \n",
      " |          model.collect_params('.*weight|.*bias')\n",
      " |      \n",
      " |      Parameters\n",
      " |      ----------\n",
      " |      select : str\n",
      " |          regular expressions\n",
      " |      \n",
      " |      Returns\n",
      " |      -------\n",
      " |      The selected :py:class:`ParameterDict`\n",
      " |  \n",
      " |  initialize(self, init=<mxnet.initializer.Uniform object at 0x1a20985d30>, ctx=None, verbose=False, force_reinit=False)\n",
      " |      Initializes :py:class:`Parameter` s of this :py:class:`Block` and its children.\n",
      " |      Equivalent to ``block.collect_params().initialize(...)``\n",
      " |      \n",
      " |      Parameters\n",
      " |      ----------\n",
      " |      init : Initializer\n",
      " |          Global default Initializer to be used when :py:meth:`Parameter.init` is ``None``.\n",
      " |          Otherwise, :py:meth:`Parameter.init` takes precedence.\n",
      " |      ctx : Context or list of Context\n",
      " |          Keeps a copy of Parameters on one or many context(s).\n",
      " |      verbose : bool, default False\n",
      " |          Whether to verbosely print out details on initialization.\n",
      " |      force_reinit : bool, default False\n",
      " |          Whether to force re-initialization if parameter is already initialized.\n",
      " |  \n",
      " |  load_parameters(self, filename, ctx=None, allow_missing=False, ignore_extra=False)\n",
      " |      Load parameters from file previously saved by `save_parameters`.\n",
      " |      \n",
      " |      Parameters\n",
      " |      ----------\n",
      " |      filename : str\n",
      " |          Path to parameter file.\n",
      " |      ctx : Context or list of Context, default cpu()\n",
      " |          Context(s) to initialize loaded parameters on.\n",
      " |      allow_missing : bool, default False\n",
      " |          Whether to silently skip loading parameters not represents in the file.\n",
      " |      ignore_extra : bool, default False\n",
      " |          Whether to silently ignore parameters from the file that are not\n",
      " |          present in this Block.\n",
      " |      \n",
      " |      References\n",
      " |      ----------\n",
      " |      `Saving and Loading Gluon Models\n",
      " |      <https://mxnet.incubator.apache.org/tutorials/gluon/save_load_params.html>`_\n",
      " |  \n",
      " |  load_params(self, filename, ctx=None, allow_missing=False, ignore_extra=False)\n",
      " |      [Deprecated] Please use load_parameters.\n",
      " |      \n",
      " |      Load parameters from file.\n",
      " |      \n",
      " |      filename : str\n",
      " |          Path to parameter file.\n",
      " |      ctx : Context or list of Context, default cpu()\n",
      " |          Context(s) to initialize loaded parameters on.\n",
      " |      allow_missing : bool, default False\n",
      " |          Whether to silently skip loading parameters not represents in the file.\n",
      " |      ignore_extra : bool, default False\n",
      " |          Whether to silently ignore parameters from the file that are not\n",
      " |          present in this Block.\n",
      " |  \n",
      " |  name_scope(self)\n",
      " |      Returns a name space object managing a child :py:class:`Block` and parameter\n",
      " |      names. Should be used within a ``with`` statement::\n",
      " |      \n",
      " |          with self.name_scope():\n",
      " |              self.dense = nn.Dense(20)\n",
      " |      \n",
      " |      Please refer to\n",
      " |      `naming tutorial <http://mxnet.incubator.apache.org/tutorials/basic/naming.html>`_\n",
      " |      for more info on prefix and naming.\n",
      " |  \n",
      " |  save_parameters(self, filename)\n",
      " |      Save parameters to file.\n",
      " |      \n",
      " |      Saved parameters can only be loaded with `load_parameters`. Note that this method\n",
      " |      only saves parameters, not model structure. If you want to save model structures,\n",
      " |      please use :py:meth:`HybridBlock.export`.\n",
      " |      \n",
      " |      Parameters\n",
      " |      ----------\n",
      " |      filename : str\n",
      " |          Path to file.\n",
      " |      \n",
      " |      References\n",
      " |      ----------\n",
      " |      `Saving and Loading Gluon Models\n",
      " |      <https://mxnet.incubator.apache.org/tutorials/gluon/save_load_params.html>`_\n",
      " |  \n",
      " |  save_params(self, filename)\n",
      " |      [Deprecated] Please use save_parameters. Note that if you want to load\n",
      " |      from SymbolBlock later, please use export instead.\n",
      " |      \n",
      " |      Save parameters to file.\n",
      " |      \n",
      " |      filename : str\n",
      " |          Path to file.\n",
      " |  \n",
      " |  ----------------------------------------------------------------------\n",
      " |  Data descriptors inherited from mxnet.gluon.block.Block:\n",
      " |  \n",
      " |  __dict__\n",
      " |      dictionary for instance variables (if defined)\n",
      " |  \n",
      " |  __weakref__\n",
      " |      list of weak references to the object (if defined)\n",
      " |  \n",
      " |  name\n",
      " |      Name of this :py:class:`Block`, without '_' in the end.\n",
      " |  \n",
      " |  params\n",
      " |      Returns this :py:class:`Block`'s parameter dictionary (does not include its\n",
      " |      children's parameters).\n",
      " |  \n",
      " |  prefix\n",
      " |      Prefix of this :py:class:`Block`.\n",
      "\n"
     ]
    },
    {
     "data": {
      "text/plain": [
       "mxnet.gluon.data.vision.transforms.Normalize"
      ]
     },
     "execution_count": 9,
     "metadata": {},
     "output_type": "execute_result"
    }
   ],
   "source": [
    "help(gdata.vision.transforms.Cast)\n",
    "gdata.vision.transforms.ToTensor\n",
    "gdata.vision.transforms.Resize\n",
    "gdata.vision.transforms.Normalize"
   ]
  },
  {
   "cell_type": "markdown",
   "metadata": {},
   "source": [
    "Vamos supor que você queira trabalhar com uma imagem em float32. Use um transformer!"
   ]
  },
  {
   "cell_type": "code",
   "execution_count": 10,
   "metadata": {},
   "outputs": [
    {
     "name": "stdout",
     "output_type": "stream",
     "text": [
      "<class 'numpy.uint8'>\n"
     ]
    }
   ],
   "source": [
    "xi, yi = next(iter(mnist_train))\n",
    "print(xi.dtype)"
   ]
  },
  {
   "cell_type": "code",
   "execution_count": 11,
   "metadata": {},
   "outputs": [
    {
     "name": "stdout",
     "output_type": "stream",
     "text": [
      "<class 'numpy.float32'>\n"
     ]
    }
   ],
   "source": [
    "transform = gdata.vision.transforms.Cast('float32')\n",
    "xi_new = transform(xi)\n",
    "print(xi_new.dtype)"
   ]
  },
  {
   "cell_type": "markdown",
   "metadata": {},
   "source": [
    "Podemos criar nossos transformers também! Por baixo são funções simples."
   ]
  },
  {
   "cell_type": "code",
   "execution_count": 12,
   "metadata": {},
   "outputs": [],
   "source": [
    "def transform(xi, yi):\n",
    "    return xi.reshape(28*28).astype('float32'), yi.astype('float32')"
   ]
  },
  {
   "cell_type": "code",
   "execution_count": 13,
   "metadata": {},
   "outputs": [
    {
     "name": "stdout",
     "output_type": "stream",
     "text": [
      "(784,)\n"
     ]
    }
   ],
   "source": [
    "xi_new, yi_new = transform(xi, yi)\n",
    "print(xi_new.shape)"
   ]
  },
  {
   "cell_type": "markdown",
   "metadata": {},
   "source": [
    "Jogamos o transformer no carregamento dos dados e voilà!"
   ]
  },
  {
   "cell_type": "code",
   "execution_count": 14,
   "metadata": {},
   "outputs": [],
   "source": [
    "mnist_train = gdata.vision.MNIST(train=True, transform=transform)\n",
    "mnist_test = gdata.vision.MNIST(train=False, transform=transform)"
   ]
  },
  {
   "cell_type": "code",
   "execution_count": null,
   "metadata": {},
   "outputs": [
    {
     "name": "stdout",
     "output_type": "stream",
     "text": [
      "(784,)\n",
      "<class 'numpy.float32'>\n"
     ]
    }
   ],
   "source": [
    "for xi, yi in mnist_train:\n",
    "    print(xi.shape)\n",
    "    print(xi.dtype)\n",
    "    break"
   ]
  },
  {
   "cell_type": "markdown",
   "metadata": {},
   "source": [
    "Com a classe `gluon.data.DataLoader` conseguimos iterar pela base em minibatches. Esta é a ideia para executar um Minibatch-GD (abaixo)."
   ]
  },
  {
   "cell_type": "code",
   "execution_count": null,
   "metadata": {},
   "outputs": [],
   "source": [
    "mnist_train = gdata.vision.MNIST(train=True, transform=transform)\n",
    "mnist_test = gdata.vision.MNIST(train=False, transform=transform)"
   ]
  },
  {
   "cell_type": "code",
   "execution_count": null,
   "metadata": {},
   "outputs": [],
   "source": [
    "minibatch_train = gluon.data.DataLoader(mnist_train, 50)\n",
    "minibatch_test = gluon.data.DataLoader(mnist_test, 50)"
   ]
  },
  {
   "cell_type": "code",
   "execution_count": null,
   "metadata": {},
   "outputs": [
    {
     "name": "stdout",
     "output_type": "stream",
     "text": [
      "(50, 784)\n",
      "<class 'numpy.float32'>\n"
     ]
    }
   ],
   "source": [
    "for xi, yi in minibatch_train:\n",
    "    print(xi.shape) # note como carregamos 50 vetores de tamanho 784\n",
    "    print(xi.dtype)\n",
    "    break"
   ]
  },
  {
   "cell_type": "markdown",
   "metadata": {},
   "source": [
    "Uma prática comum que você pode ter nos seus dados é criar pastas de imagem de treino, teste e validação. Não temos isto pronto no notebook mas seria algo como o código abaixo. Note o uso de um `gluon.data.vision.ImageFolderDataset`.\n",
    "\n",
    "```python\n",
    "# loading the data and apply pre-processing(transforms) on images\n",
    "train_data = gluon.data.DataLoader(\n",
    "    gluon.data.vision.ImageFolderDataset(train_path), transform=transformer,\n",
    "    batch_size=batch_size, shuffle=True, num_workers=num_workers)\n",
    "\n",
    "val_data = gluon.data.DataLoader(\n",
    "    gluon.data.vision.ImageFolderDataset(val_path), transform=transformer,\n",
    "    batch_size=batch_size, shuffle=False, num_workers=num_workers)\n",
    "\n",
    "test_data = gluon.data.DataLoader(\n",
    "    gluon.data.vision.ImageFolderDataset(test_path), transform=transformer,\n",
    "    batch_size=batch_size, shuffle=False, num_workers=num_workers)\n",
    "```"
   ]
  },
  {
   "cell_type": "markdown",
   "metadata": {
    "colab_type": "text",
    "id": "rRTTtpx4FhOC"
   },
   "source": [
    "## Passo 2: Definir a arquitetura\n",
    "\n",
    "Um modelo deve ser definito para ser treinado usando os dados desejados.\n",
    "No caso de redes neurais, criaremos uma nova arquitetura.\n",
    "Tal arquitetura pode ser composta de diversos tipos de camadas como, por exemplo, [Densas](https://mxnet.incubator.apache.org/api/python/gluon/nn.html#mxnet.gluon.nn.Dense) (camadas totalmente conectadas como as que implementamos do zero), [convolucionais](https://mxnet.incubator.apache.org/api/python/gluon/nn.html#mxnet.gluon.nn.Conv2D), e [recorrentes](https://mxnet.incubator.apache.org/api/python/gluon/rnn.html#mxnet.gluon.rnn.RNN).\n",
    "Veremos todas essas camadas ao longo do curso.\n",
    "\n",
    "O código abaixo cria uma rede simples MLP. Note como a mesma tem 10 saídas. A entrada não é definida, o mxnet é inteligente suficiente para adivinhar o formato da camada-zero usando os dados.\n",
    "\n",
    "(sim, o reshape de antes não serve de nada, mas ok, ajuda para aprender)"
   ]
  },
  {
   "cell_type": "code",
   "execution_count": null,
   "metadata": {},
   "outputs": [],
   "source": [
    "net = nn.Sequential()\n",
    "net.add(nn.Dense(10))\n",
    "net.initialize(init.Normal(sigma=0.01)) # valores iniciais são uma normal"
   ]
  },
  {
   "cell_type": "markdown",
   "metadata": {
    "colab_type": "text",
    "id": "BAgtOMZKHqS9"
   },
   "source": [
    "## Passo 3: Definir a função de custo (função de perda ou *loss*)\n",
    "\n",
    "Funções de perda, também conhecidas como *loss functions*, são muito importantes para o aprendizagem de máquinas, pois servem como uma forma de medir a distância ou a diferença entre a saída prevista de um modelo e o seu valor real, auxiliando então no treino no modelo.\n",
    "\n",
    "Diversas funções de perda foram propostas ao longo do tempo para diferentes tipos de problemas.\n",
    "Algumas dessas funções foram propostas para auxiliar no treino de modelos de regressão linear, como as *loss* [L1](https://mxnet.incubator.apache.org/api/python/gluon/loss.html#mxnet.gluon.loss.L2Loss), [L2](https://mxnet.incubator.apache.org/api/python/gluon/loss.html#mxnet.gluon.loss.L1Loss).\n",
    "Já outras foram propostas para problemas de classificação, como [Hinge](https://mxnet.incubator.apache.org/api/python/gluon/loss.html#mxnet.gluon.loss.HingeLoss), e [Cross Entropy](https://mxnet.incubator.apache.org/api/python/gluon/loss.html#mxnet.gluon.loss.SoftmaxCrossEntropyLoss).\n",
    "\n",
    "Veremos várias funções de custo mais adiante no curso.\n",
    "Neste primeiro momento, focaremos na função [Cross Entropy](https://mxnet.incubator.apache.org/api/python/gluon/loss.html#mxnet.gluon.loss.SoftmaxCrossEntropyLoss)  combinada com a ativação [Softmax](https://mxnet.incubator.apache.org/api/python/symbol/symbol.html#mxnet.symbol.Symbol.softmax), pois é a combinação mais comum nos dias de hoje para a tarefa de classificação.\n",
    "\n",
    "O pequeno bloco de código abaixo implementa essa função de perda em MXNet."
   ]
  },
  {
   "cell_type": "code",
   "execution_count": null,
   "metadata": {
    "colab": {},
    "colab_type": "code",
    "id": "WVoEMNgBIt9v"
   },
   "outputs": [],
   "source": [
    "# função de custo (ou loss)\n",
    "cross_entropy = gloss.SoftmaxCrossEntropyLoss()"
   ]
  },
  {
   "cell_type": "markdown",
   "metadata": {
    "colab_type": "text",
    "id": "BDJGM6GrJIeV"
   },
   "source": [
    "## Passo 4: Definir o algoritmo de otimização\n",
    "\n",
    "Definimos uma arquitetura, composta de diversos pesos geralmente inicializados aleatoriamente, e definimos também uma função que custo que nos permite avaliar o quão bem esta rede neural está.\n",
    "Entretanto, para que possamos alterar os pesos e fazer a rede convergir para um bom resultados, devemos definir um algoritmo de otimização, que usará derivadas parciais da função de custo em relação àos pesos para otimizar a rede.\n",
    "\n",
    "Diversos algoritmos foram propostos ao longo dos anos como, por exemplo, [Stochastic Gradient Descent (SGD)](https://mxnet.incubator.apache.org/api/python/optimization/optimization.html#mxnet.optimizer.SGD), [Adam](https://mxnet.incubator.apache.org/api/python/optimization/optimization.html#mxnet.optimizer.Adam), e [RMSProp](https://mxnet.incubator.apache.org/api/python/optimization/optimization.html#mxnet.optimizer.RMSProp).\n",
    "Veremos mais adianta sobre cada um desses algoritmos.\n",
    "Nesse primeiro momento, usaremos o algoritmo mais comum: [Stochastic Gradient Descent (SGD)](https://mxnet.incubator.apache.org/api/python/optimization/optimization.html#mxnet.optimizer.SGD).\n",
    "\n",
    "O código abaixo implementa uma função de otimização usando o SGD para otimizar todos os parâmetros da rede neural proposta."
   ]
  },
  {
   "cell_type": "code",
   "execution_count": null,
   "metadata": {
    "colab": {},
    "colab_type": "code",
    "id": "SvJ1W-niJIGA"
   },
   "outputs": [],
   "source": [
    "# trainer do gluon\n",
    "lr = 0.5\n",
    "trainer = gluon.Trainer(net.collect_params(), 'sgd', {'learning_rate': lr})"
   ]
  },
  {
   "cell_type": "markdown",
   "metadata": {},
   "source": [
    "### Treinando\n",
    "\n",
    "A partir deste momento já podemos treinar! Observe como a biblioteca permite de forma muito simples uma implementação do gradiente descendente"
   ]
  },
  {
   "cell_type": "code",
   "execution_count": null,
   "metadata": {},
   "outputs": [],
   "source": [
    "# 1. Carrega dados\n",
    "mnist_train = gdata.vision.MNIST(train=True, transform=transform)\n",
    "mnist_test = gdata.vision.MNIST(train=False, transform=transform)\n",
    "\n",
    "# 2. Define mini-batch\n",
    "minibatch_train = gluon.data.DataLoader(mnist_train, 50)\n",
    "minibatch_test = gluon.data.DataLoader(mnist_test, 50)\n",
    "\n",
    "# 3. Define rede\n",
    "\n",
    "net = nn.Sequential()\n",
    "net.add(nn.Dense(10))\n",
    "net.initialize(init.Normal(sigma=0.01)) # valores iniciais são uma normal\n",
    "\n",
    "# 4. Define loss e treinamento\n",
    "cross_entropy = gloss.SoftmaxCrossEntropyLoss()\n",
    "lr = 0.01\n",
    "trainer = gluon.Trainer(net.collect_params(), 'sgd', {'learning_rate': lr})"
   ]
  },
  {
   "cell_type": "markdown",
   "metadata": {},
   "source": [
    "Agora, treine!"
   ]
  },
  {
   "cell_type": "code",
   "execution_count": null,
   "metadata": {},
   "outputs": [
    {
     "name": "stdout",
     "output_type": "stream",
     "text": [
      "Iteração 0. Perda 321026.04389816284\n",
      "Iteração 1. Perda 241787.25541369236\n",
      "Iteração 2. Perda 235761.69261037826\n",
      "Iteração 3. Perda 223252.19299560785\n",
      "Iteração 4. Perda 222016.5436442566\n"
     ]
    }
   ],
   "source": [
    "iteracoes_treino = 5\n",
    "for i in range(iteracoes_treino):         # número de iterações, não verificamos convergencia\n",
    "    cumulative_loss = 0\n",
    "    for data, y in minibatch_train:       # para cada minibatch\n",
    "        with mx.autograd.record():        # indicando que vamos derivar\n",
    "            P = net(data)                 # execute o softmax, retorne as probabilidades, forward\n",
    "            loss = cross_entropy(P, y)    # compute a perda\n",
    "        loss.backward()                   # atualiza os pesos com backward, nosso backprop de antes\n",
    "        trainer.step(data.shape[0])       # atualize os parâmetros com a derivada\n",
    "        cumulative_loss += nd.sum(loss).asscalar()\n",
    "    print('Iteração {}. Perda {}'.format(i, cumulative_loss / len(data)))"
   ]
  },
  {
   "cell_type": "markdown",
   "metadata": {},
   "source": [
    "Podemos treinar aquiteturas mais complicadas. Abaixo, treinaremos uma arquitetura baseada na [LeNet-5](https://ieeexplore.ieee.org/document/726791).\n",
    "\n",
    "Notem que, além de definir o tipo da camada, é necessário também definir a sua ativação.\n",
    "Existem diversos tipos de ativações como, por exemplo, [ReLU](https://mxnet.incubator.apache.org/api/python/symbol/symbol.html#mxnet.symbol.Symbol.relu), [LeakyReLU](https://mxnet.incubator.apache.org/api/python/gluon/nn.html#mxnet.gluon.nn.LeakyReLU), e [sigmoid](https://mxnet.incubator.apache.org/api/python/symbol/symbol.html#mxnet.symbol.Symbol.sigmoid).\n",
    "Neste primeiro momento, usaremos somente a ReLU.\n",
    "Porém, veremos mais de perto várias outras ativações ao longo deste curso.\n",
    "\n",
    "O trecho de código abaixo implementa uma rede simples usando [ReLUs](https://mxnet.incubator.apache.org/api/python/symbol/symbol.html#mxnet.symbol.Symbol.relu) no framework MXNet."
   ]
  },
  {
   "cell_type": "code",
   "execution_count": null,
   "metadata": {},
   "outputs": [],
   "source": [
    "# 1. Carrega dados\n",
    "mnist_train = gdata.vision.MNIST(train=True, transform=transform)\n",
    "mnist_test = gdata.vision.MNIST(train=False, transform=transform)\n",
    "\n",
    "# 2. Define mini-batch\n",
    "minibatch_train = gluon.data.DataLoader(mnist_train, 50)\n",
    "minibatch_test = gluon.data.DataLoader(mnist_test, 50)\n",
    "\n",
    "# 3. Define rede\n",
    "\n",
    "net = nn.Sequential()\n",
    "net.add(nn.Dense(128, activation='relu'),\n",
    "        nn.Dense(64, activation='relu'),\n",
    "        nn.Dense(10))\n",
    "net.initialize(init.Normal(sigma=0.01), ctx=ctx) # observe aqui o uso do ctx! use a GPU!!\n",
    "\n",
    "# 4. Define loss e treinamento\n",
    "cross_entropy = gloss.SoftmaxCrossEntropyLoss()\n",
    "lr = 0.5\n",
    "trainer = gluon.Trainer(net.collect_params(), 'sgd', {'learning_rate': lr})"
   ]
  },
  {
   "cell_type": "markdown",
   "metadata": {},
   "source": [
    "Observe como nessa rede nova a perda é bem menor logo de cara, parece melhor!"
   ]
  },
  {
   "cell_type": "code",
   "execution_count": null,
   "metadata": {
    "colab": {},
    "colab_type": "code",
    "id": "FAEBKuhzHLeO"
   },
   "outputs": [
    {
     "name": "stdout",
     "output_type": "stream",
     "text": [
      "Iteração 0. Perda 151687940459.7088\n",
      "Iteração 1. Perda 5673.456030120849\n",
      "Iteração 2. Perda 2764.4041192626955\n",
      "Iteração 3. Perda 2764.4041186523436\n",
      "Iteração 4. Perda 2764.4041143798827\n"
     ]
    }
   ],
   "source": [
    "iteracoes_treino = 5\n",
    "for i in range(iteracoes_treino):         # número de iterações, não verificamos convergencia\n",
    "    cumulative_loss = 0\n",
    "    for data, y in minibatch_train:       # para cada minibatch\n",
    "        with mx.autograd.record():        # indicando que vamos derivar\n",
    "            P = net(data)                 # execute o softmax, retorne as probabilidades, forward\n",
    "            loss = cross_entropy(P, y)    # compute a perda\n",
    "        loss.backward()                   # atualiza os pesos com backward, nosso backprop de antes\n",
    "        trainer.step(data.shape[0])       # atualize os parâmetros com a derivada\n",
    "        cumulative_loss += nd.sum(loss).asscalar()\n",
    "    print('Iteração {}. Perda {}'.format(i, cumulative_loss / len(data)))"
   ]
  },
  {
   "cell_type": "markdown",
   "metadata": {},
   "source": [
    "Abaixo rodamos um minibatch apenas. Note como a rede gera previsões. Para cada instância, temos 10 elementos da camada final. A probabilidade de cada classe!"
   ]
  },
  {
   "cell_type": "code",
   "execution_count": null,
   "metadata": {},
   "outputs": [
    {
     "name": "stdout",
     "output_type": "stream",
     "text": [
      "(50, 10)\n"
     ]
    }
   ],
   "source": [
    "for data, y in minibatch_test: \n",
    "    P = net(data)                # faça uma previsão\n",
    "    print(P.shape)\n",
    "    break"
   ]
  },
  {
   "cell_type": "markdown",
   "metadata": {},
   "source": [
    "Abaixo avaliamos a acurácia no teste.\n",
    "\n",
    "Note o use da classe `mx.metric.Accuracy()`. A mesma acumula resultados para cada minibatch do teste. Sim, é esquisito, mas deixa a ideia de iterar por batches consistente em treino/teste."
   ]
  },
  {
   "cell_type": "code",
   "execution_count": null,
   "metadata": {},
   "outputs": [
    {
     "name": "stdout",
     "output_type": "stream",
     "text": [
      "EvalMetric: {'accuracy': 0.1028}\n"
     ]
    }
   ],
   "source": [
    "from mxnet import metric\n",
    "\n",
    "acc = metric.Accuracy()\n",
    "i = 0\n",
    "for data, y in minibatch_test:            # para cada minibatch do teste\n",
    "    P = net(data)                         # faça uma previsão\n",
    "    pred = P.argmax(axis=1)               # pegue a classe mais provavel\n",
    "    acc.update(preds = pred, labels = y)  # atualize a accuracy\n",
    "print(acc)"
   ]
  },
  {
   "cell_type": "markdown",
   "metadata": {
    "colab_type": "text",
    "id": "YkxA9w4sLX1L"
   },
   "source": [
    "## Passo 5: Colando Tudo Junto\n",
    "\n",
    "\n",
    "No geral, não vamos fazer isso sempre do zero. \n",
    "\n",
    "Portanto, abaixo implementamos algumas funções auxiliares. As mesmas carregam os dados, quebram treinam e validam, reportam métricas. Vamos usar elas nos outros notebooks.\n",
    "\n",
    "Portanto, criamos conjuntos de treino/validação. Este é último passo para então treinar a rede neural. Abixo, temos uma função que que recebe os dados, a rede, o *loss*, e o algoritmo de otimização, e realmente converge o modelo."
   ]
  },
  {
   "cell_type": "code",
   "execution_count": null,
   "metadata": {
    "colab": {
     "base_uri": "https://localhost:8080/",
     "height": 219
    },
    "colab_type": "code",
    "executionInfo": {
     "elapsed": 43422,
     "status": "ok",
     "timestamp": 1560485623968,
     "user": {
      "displayName": "Keiller Nogueira",
      "photoUrl": "https://lh5.googleusercontent.com/-OSbB3k7-l84/AAAAAAAAAAI/AAAAAAAAAac/z8WNFFAmye0/s64/photo.jpg",
      "userId": "03938009311988397527"
     },
     "user_tz": 180
    },
    "id": "tlBGUroCFfyh",
    "outputId": "b1c0d119-b5c7-4b7c-84e5-357a50c1b5dd"
   },
   "outputs": [],
   "source": [
    "## carregando dados\n",
    "\n",
    "# código para carregar o dataset do MNIST\n",
    "# http://yann.lecun.com/exdb/mnist/\n",
    "def load_data_mnist(batch_size, resize=None, root=os.path.join(\n",
    "        '~', '.mxnet', 'datasets', 'mnist')):\n",
    "    \"\"\"Download the MNIST dataset and then load into memory.\"\"\"\n",
    "    root = os.path.expanduser(root)\n",
    "    transformer = []\n",
    "    if resize:\n",
    "        transformer += [gdata.vision.transforms.Resize(resize)]\n",
    "    transformer += [gdata.vision.transforms.ToTensor()]\n",
    "    transformer = gdata.vision.transforms.Compose(transformer)\n",
    "\n",
    "    mnist_train = gdata.vision.MNIST(root=root, train=True)\n",
    "    mnist_test = gdata.vision.MNIST(root=root, train=False)\n",
    "    num_workers = 0 if sys.platform.startswith('win32') else 4\n",
    "\n",
    "    train_iter = gdata.DataLoader(mnist_train.transform_first(transformer),\n",
    "                                  batch_size, shuffle=True,\n",
    "                                  num_workers=num_workers)\n",
    "    test_iter = gdata.DataLoader(mnist_test.transform_first(transformer),\n",
    "                                 batch_size, shuffle=False,\n",
    "                                 num_workers=num_workers)\n",
    "    return train_iter, test_iter\n",
    "\n",
    "# funções básicas\n",
    "def _get_batch(batch, ctx):\n",
    "    \"\"\"Return features and labels on ctx.\"\"\"\n",
    "    features, labels = batch\n",
    "    if labels.dtype != features.dtype:\n",
    "        labels = labels.astype(features.dtype)\n",
    "    return (gutils.split_and_load(features, ctx),\n",
    "            gutils.split_and_load(labels, ctx), features.shape[0])\n",
    "\n",
    "# Função usada para calcular acurácia\n",
    "def evaluate_accuracy(data_iter, net, loss, ctx=[mx.cpu()]):\n",
    "    \"\"\"Evaluate accuracy of a model on the given data set.\"\"\"\n",
    "    if isinstance(ctx, mx.Context):\n",
    "        ctx = [ctx]\n",
    "    acc_sum, n, l = nd.array([0]), 0, 0\n",
    "    for batch in data_iter:\n",
    "        features, labels, _ = _get_batch(batch, ctx)\n",
    "        for X, y in zip(features, labels):\n",
    "            # X, y = X.as_in_context(ctx), y.as_in_context(ctx)\n",
    "            y = y.astype('float32')\n",
    "            y_hat = net(X)\n",
    "            l += loss(y_hat, y).sum()\n",
    "            acc_sum += (y_hat.argmax(axis=1) == y).sum().copyto(mx.cpu())\n",
    "            n += y.size\n",
    "        acc_sum.wait_to_read()\n",
    "    return acc_sum.asscalar() / n, l.asscalar() / n\n",
    "  \n",
    "# Função usada no treinamento e validação da rede\n",
    "def train_validate(net, train_iter, test_iter, batch_size, trainer, loss, ctx,\n",
    "                   num_epochs):\n",
    "    print('training on', ctx)\n",
    "    for epoch in range(num_epochs):\n",
    "        train_l_sum, train_acc_sum, n, start = 0.0, 0.0, 0, time.time()\n",
    "        for X, y in train_iter:\n",
    "            X, y = X.as_in_context(ctx), y.as_in_context(ctx)\n",
    "            with autograd.record():\n",
    "                y_hat = net(X)\n",
    "                l = loss(y_hat, y).sum()\n",
    "            l.backward()\n",
    "            trainer.step(batch_size)\n",
    "            y = y.astype('float32')\n",
    "            train_l_sum += l.asscalar()\n",
    "            train_acc_sum += (y_hat.argmax(axis=1) == y).sum().asscalar()\n",
    "            n += y.size\n",
    "        test_acc, test_loss = evaluate_accuracy(test_iter, net, loss, ctx)\n",
    "        print('epoch %d, train loss %.4f, train acc %.3f, test loss %.4f, '\n",
    "              'test acc %.3f, time %.1f sec'\n",
    "              % (epoch + 1, train_l_sum / n, train_acc_sum / n, test_loss, \n",
    "                 test_acc, time.time() - start))"
   ]
  },
  {
   "cell_type": "code",
   "execution_count": null,
   "metadata": {},
   "outputs": [],
   "source": [
    "# carregamento do dado: mnist\n",
    "batch_size = 256\n",
    "train_iter, test_iter = load_data_mnist(batch_size)"
   ]
  },
  {
   "cell_type": "code",
   "execution_count": null,
   "metadata": {},
   "outputs": [],
   "source": [
    "# criando a rede\n",
    "net = nn.Sequential()\n",
    "net.add(nn.Dense(128, activation='relu'),\n",
    "        nn.Dense(64, activation='relu'),\n",
    "        nn.Dense(10))\n",
    "net.initialize(init.Normal(sigma=0.01), ctx=ctx) # observe aqui o uso do ctx! use a GPU!!\n",
    "\n",
    "cross_entropy = gloss.SoftmaxCrossEntropyLoss()\n",
    "lr = 0.5\n",
    "trainer = gluon.Trainer(net.collect_params(), 'sgd', {'learning_rate': lr})"
   ]
  },
  {
   "cell_type": "code",
   "execution_count": null,
   "metadata": {},
   "outputs": [
    {
     "name": "stdout",
     "output_type": "stream",
     "text": [
      "training on cpu(0)\n"
     ]
    }
   ],
   "source": [
    "num_epochs = 10\n",
    "train_validate(net, train_iter, test_iter, batch_size, trainer, cross_entropy, \n",
    "               ctx, num_epochs)"
   ]
  },
  {
   "cell_type": "code",
   "execution_count": null,
   "metadata": {},
   "outputs": [],
   "source": []
  }
 ],
 "metadata": {
  "accelerator": "GPU",
  "colab": {
   "collapsed_sections": [
    "Azv2ajIYkIjH",
    "rRTTtpx4FhOC",
    "YkxA9w4sLX1L"
   ],
   "name": "passo_a_passo.ipynb",
   "provenance": [],
   "version": "0.3.2"
  },
  "kernelspec": {
   "display_name": "Python 3",
   "language": "python",
   "name": "python3"
  },
  "language_info": {
   "codemirror_mode": {
    "name": "ipython",
    "version": 3
   },
   "file_extension": ".py",
   "mimetype": "text/x-python",
   "name": "python",
   "nbconvert_exporter": "python",
   "pygments_lexer": "ipython3",
   "version": "3.6.8"
  }
 },
 "nbformat": 4,
 "nbformat_minor": 1
}
