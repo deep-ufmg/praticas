{
 "cells": [
  {
   "cell_type": "markdown",
   "metadata": {},
   "source": [
    "# Aprendizado Profundo - UFMG\n",
    "\n",
    "## Sem MXNET\n",
    "\n",
    "Observe que este notebook não faz uso de mxnet. Vamos implementar um mini-arcabouço de redes neurais para entender um pouco ferramentas tipo mxnet e pytorch por baixo."
   ]
  },
  {
   "cell_type": "code",
   "execution_count": 1,
   "metadata": {},
   "outputs": [],
   "source": [
    "import numpy as np"
   ]
  },
  {
   "cell_type": "markdown",
   "metadata": {},
   "source": [
    "## Mini Introdução OO\n",
    "\n",
    "Uma grande parte das bibliotecas de hoje em dia exploram conceitos de orientação a objetos. Embora não tempos tempo de ensinar um curso inteiro de OO, seria pelo menos um semestre, podemos cobrir o essencial neste notebook. Caso queira uma única palavra para sumarizar: o essencial aqui é o conceito de **estado**!.\n",
    "\n",
    "Existem dois termos importantes para entender OO:\n",
    "1. Classes\n",
    "2. Objetos\n",
    "\n",
    "Classes definem um esqueleto do que será armazenado. Objetos definem uma instância da classe na memória. Abaixo temos uma classe simples chamadas de agregador. No momento, a mesma não faz nada!"
   ]
  },
  {
   "cell_type": "code",
   "execution_count": 2,
   "metadata": {},
   "outputs": [],
   "source": [
    "class Agregador(object):\n",
    "    pass"
   ]
  },
  {
   "cell_type": "markdown",
   "metadata": {},
   "source": [
    "Podemos instanciar nossas classes, ficando assim com dois objetos na memória:"
   ]
  },
  {
   "cell_type": "code",
   "execution_count": 3,
   "metadata": {},
   "outputs": [],
   "source": [
    "obj1 = Agregador()\n",
    "obj2 = Agregador()"
   ]
  },
  {
   "cell_type": "markdown",
   "metadata": {},
   "source": [
    "Cada instância, ou objeto, difere um do outro"
   ]
  },
  {
   "cell_type": "code",
   "execution_count": 4,
   "metadata": {},
   "outputs": [
    {
     "data": {
      "text/plain": [
       "False"
      ]
     },
     "execution_count": 4,
     "metadata": {},
     "output_type": "execute_result"
    }
   ],
   "source": [
    "obj1 == obj2"
   ]
  },
  {
   "cell_type": "markdown",
   "metadata": {},
   "source": [
    "Agora, vamos adicionar um atríbuto na nossa classe. O mesmo guarda um valor simples. Se objetos são instâncias de classes, algum local tem guardar o estado desta instância. Em python, tal local é chamado de **self**. Todo objeto tem uma referência para seu estado, o self, que no fim das contas é uma referência para ele mesmo. "
   ]
  },
  {
   "cell_type": "code",
   "execution_count": 5,
   "metadata": {},
   "outputs": [],
   "source": [
    "class Agregador(object):\n",
    "    def __init__(self):\n",
    "        self._value = 0   # Toda instância agora guarda um objeto simples!"
   ]
  },
  {
   "cell_type": "code",
   "execution_count": 6,
   "metadata": {},
   "outputs": [
    {
     "name": "stdout",
     "output_type": "stream",
     "text": [
      "0\n",
      "0\n"
     ]
    }
   ],
   "source": [
    "obj1 = Agregador()\n",
    "obj2 = Agregador()\n",
    "\n",
    "print(obj1._value)\n",
    "print(obj2._value)"
   ]
  },
  {
   "cell_type": "markdown",
   "metadata": {},
   "source": [
    "Dois objetos podem guardar um mesmo estado. Acima, os dois tem valor = 0. Ainda assim, são dois objetos diferentes, ocupam locais diferentes da memória do computador."
   ]
  },
  {
   "cell_type": "code",
   "execution_count": 7,
   "metadata": {},
   "outputs": [
    {
     "data": {
      "text/plain": [
       "'0x1076fc048'"
      ]
     },
     "execution_count": 7,
     "metadata": {},
     "output_type": "execute_result"
    }
   ],
   "source": [
    "hex(id(obj1))"
   ]
  },
  {
   "cell_type": "code",
   "execution_count": 8,
   "metadata": {},
   "outputs": [
    {
     "data": {
      "text/plain": [
       "'0x1076defd0'"
      ]
     },
     "execution_count": 8,
     "metadata": {},
     "output_type": "execute_result"
    }
   ],
   "source": [
    "hex(id(obj2))"
   ]
  },
  {
   "cell_type": "code",
   "execution_count": 9,
   "metadata": {},
   "outputs": [
    {
     "data": {
      "text/plain": [
       "'0x1076fc048'"
      ]
     },
     "execution_count": 9,
     "metadata": {},
     "output_type": "execute_result"
    }
   ],
   "source": [
    "obj3 = obj1\n",
    "hex(id(obj3)) # note como aqui temos o mesmo endereco do obj1"
   ]
  },
  {
   "cell_type": "markdown",
   "metadata": {},
   "source": [
    "Agora tornar os nossos objetos um pouco mais inteligentes. Vamos adicionar um método, nome bonito para uma função, que altera o valor do atributo value."
   ]
  },
  {
   "cell_type": "code",
   "execution_count": 10,
   "metadata": {},
   "outputs": [],
   "source": [
    "class Agregador(object):\n",
    "    \n",
    "    def __init__(self):\n",
    "        self._value = 0 \n",
    "    \n",
    "    def adiciona(self, value):\n",
    "        self._value += value\n",
    "        \n",
    "    def get_value(self):\n",
    "        return self._value"
   ]
  },
  {
   "cell_type": "code",
   "execution_count": 11,
   "metadata": {},
   "outputs": [],
   "source": [
    "agg = Agregador()"
   ]
  },
  {
   "cell_type": "markdown",
   "metadata": {},
   "source": [
    "Observe como temos uma chamada `get_value()`. "
   ]
  },
  {
   "cell_type": "code",
   "execution_count": 12,
   "metadata": {},
   "outputs": [
    {
     "name": "stdout",
     "output_type": "stream",
     "text": [
      "0\n"
     ]
    }
   ],
   "source": [
    "print(agg.get_value())"
   ]
  },
  {
   "cell_type": "markdown",
   "metadata": {},
   "source": [
    "Ao adicionar alguma coisa, temos um novo estado!"
   ]
  },
  {
   "cell_type": "code",
   "execution_count": 13,
   "metadata": {},
   "outputs": [
    {
     "name": "stdout",
     "output_type": "stream",
     "text": [
      "7\n"
     ]
    }
   ],
   "source": [
    "agg.adiciona(7)\n",
    "print(agg.get_value())"
   ]
  },
  {
   "cell_type": "markdown",
   "metadata": {},
   "source": [
    "Abaixo temos dois objetos diferentes com o mesmo estado. É isto!"
   ]
  },
  {
   "cell_type": "code",
   "execution_count": 14,
   "metadata": {},
   "outputs": [
    {
     "name": "stdout",
     "output_type": "stream",
     "text": [
      "False\n",
      "True\n"
     ]
    }
   ],
   "source": [
    "agg2 = Agregador()\n",
    "agg2.adiciona(agg.get_value())\n",
    "\n",
    "print(agg == agg2)\n",
    "print(agg.get_value() == agg2.get_value())"
   ]
  },
  {
   "cell_type": "markdown",
   "metadata": {},
   "source": [
    "## Forward e Backward"
   ]
  },
  {
   "cell_type": "markdown",
   "metadata": {},
   "source": [
    "Imagine que você tem uma memória onde você guarda algumas funções para derivar. Por clareza, o seu código de autograd, estimo o `mxnet`, só sabe derivar a forma $f(x, n) = x^n$. Vamos criar uma mini-biblioteca de autoderivar agora. A mesma é composta de classes que representam constantes. Vamos chamar isto de uma camada constante, para usar os termos que serão comuns em mxnet/pytorch."
   ]
  },
  {
   "cell_type": "code",
   "execution_count": 15,
   "metadata": {},
   "outputs": [],
   "source": [
    "class CamadaConstante(object):\n",
    "    \n",
    "    def __init__(self, valor):\n",
    "        self.valor = valor\n",
    "    \n",
    "    def avalia(self):\n",
    "        return self.valor\n",
    "    \n",
    "    def feedforward(self, camada_anterior):\n",
    "        return self.valor\n",
    "    \n",
    "    def backpropagate(self):\n",
    "        return 0"
   ]
  },
  {
   "cell_type": "markdown",
   "metadata": {},
   "source": [
    "Observe como a mesma apenas retorna o valor no método `feedforward`. O mesmo representa o código executado dentro do autograd. Neste momento, avaliamos funções. Aqui, a função nada mais é do que uma constante.\n",
    "\n",
    "Além do mais, temos um parâmetro no `__init__`. Tal método é uma chamada especial que inicializa o estado. Note no passo a passo [deste link](http://pythontutor.com/visualize.html#code=class%20CamadaConstante%28object%29%3A%0A%20%20%20%20%0A%20%20%20%20def%20__init__%28self,%20valor%29%3A%0A%20%20%20%20%20%20%20%20self.valor%20%3D%20valor%0A%20%20%20%20%20%20%20%20%0A%20%20%20%20def%20feedforward%28self%29%3A%0A%20%20%20%20%20%20%20%20return%20self.valor%0A%20%20%20%20%0A%20%20%20%20def%20backpropagate%28self%29%3A%0A%20%20%20%20%20%20%20%20return%200%0A%20%20%20%20%20%20%20%20%0A%20%20%20%20%20%20%20%20%0Acamada%20%3D%20CamadaConstante%287%29%0Aprint%28camada.feedforward%28%29%29%0Aprint%28camada.backpropagate%28%29%29%0A%0Acamada%20%3D%20CamadaConstante%2812%29%0Aprint%28camada.feedforward%28%29%29%0Aprint%28camada.backpropagate%28%29%29&cumulative=false&curInstr=0&heapPrimitives=nevernest&mode=display&origin=opt-frontend.js&py=py3anaconda&rawInputLstJSON=%5B%5D&textReferences=false) como ela é chamada ao criar o objeto.\n",
    "\n",
    "Note também como em algum momento temos dois objetos na memória com estados diferentes.\n",
    "\n",
    "**Brinque com o passo a passo do link acima antes de continuar!**\n",
    "\n",
    ".\n",
    ".\n",
    "."
   ]
  },
  {
   "cell_type": "markdown",
   "metadata": {},
   "source": [
    "Agora, vamos criar uma camada que cuida da forma: $f(x, n) = x^n$"
   ]
  },
  {
   "cell_type": "code",
   "execution_count": 16,
   "metadata": {},
   "outputs": [],
   "source": [
    "class CamadaPolinomial(object):\n",
    "    \n",
    "    def __init__(self, n):\n",
    "        self.n = n\n",
    "    \n",
    "    def avalia(self):\n",
    "        return np.power(self.x, self.n)\n",
    "    \n",
    "    def feedforward(self, camada_anterior):\n",
    "        self.x = camada_anterior.avalia()\n",
    "        return np.power(self.x, self.n)\n",
    "    \n",
    "    def backpropagate(self):\n",
    "        return self.n * self.x"
   ]
  },
  {
   "cell_type": "markdown",
   "metadata": {},
   "source": [
    "A classe `CamadaPolinomial` cuida de derivar polinômios. Note que no método `feedforward` fazemos duas coisas:\n",
    "\n",
    "1. Avaliamos uma constante\n",
    "1. Guardamos o valor da mesma\n",
    "1. Retornamos $f(x, n) = x^n$"
   ]
  },
  {
   "cell_type": "code",
   "execution_count": 17,
   "metadata": {},
   "outputs": [
    {
     "data": {
      "text/plain": [
       "4782969"
      ]
     },
     "execution_count": 17,
     "metadata": {},
     "output_type": "execute_result"
    }
   ],
   "source": [
    "rede_neural = CamadaPolinomial(7)\n",
    "rede_neural.feedforward(CamadaConstante(9))"
   ]
  },
  {
   "cell_type": "markdown",
   "metadata": {},
   "source": [
    "Parece que o código está correto!"
   ]
  },
  {
   "cell_type": "code",
   "execution_count": 18,
   "metadata": {},
   "outputs": [
    {
     "data": {
      "text/plain": [
       "4782969"
      ]
     },
     "execution_count": 18,
     "metadata": {},
     "output_type": "execute_result"
    }
   ],
   "source": [
    "np.power(9, 7)"
   ]
  },
  {
   "cell_type": "markdown",
   "metadata": {},
   "source": [
    "Ao chamar o `backpropagate`, temos a derivada: $f'(x) = nx$"
   ]
  },
  {
   "cell_type": "code",
   "execution_count": 19,
   "metadata": {},
   "outputs": [
    {
     "data": {
      "text/plain": [
       "63"
      ]
     },
     "execution_count": 19,
     "metadata": {},
     "output_type": "execute_result"
    }
   ],
   "source": [
    "rede_neural.backpropagate()"
   ]
  },
  {
   "cell_type": "code",
   "execution_count": 20,
   "metadata": {},
   "outputs": [
    {
     "data": {
      "text/plain": [
       "63"
      ]
     },
     "execution_count": 20,
     "metadata": {},
     "output_type": "execute_result"
    }
   ],
   "source": [
    "7 * 9"
   ]
  },
  {
   "cell_type": "markdown",
   "metadata": {},
   "source": [
    "A ideia da derivação automágica do mxnet é mais ou menos essa. Diferente da brincadeira acima, a biblioteca é capaz de derivar bem mais do que polinômios e constantes.\n",
    "\n",
    "Observe como abaixo usando uma lista simulamos a ideia de uma camada passando mensagens para outras. Caso necessite visualizar, o passo a passo está [aqui]()."
   ]
  },
  {
   "cell_type": "code",
   "execution_count": 21,
   "metadata": {},
   "outputs": [],
   "source": [
    "rede_neural = []\n",
    "rede_neural.append(CamadaConstante(7))\n",
    "rede_neural.append(CamadaPolinomial(1))\n",
    "rede_neural.append(CamadaPolinomial(9))"
   ]
  },
  {
   "cell_type": "code",
   "execution_count": 22,
   "metadata": {},
   "outputs": [
    {
     "data": {
      "text/plain": [
       "63"
      ]
     },
     "execution_count": 22,
     "metadata": {},
     "output_type": "execute_result"
    }
   ],
   "source": [
    "rede_neural[0].feedforward(7)\n",
    "rede_neural[1].feedforward(rede_neural[0])\n",
    "rede_neural[2].feedforward(rede_neural[1])\n",
    "rede_neural[2].backpropagate()"
   ]
  }
 ],
 "metadata": {
  "kernelspec": {
   "display_name": "Python 3",
   "language": "python",
   "name": "python3"
  },
  "language_info": {
   "codemirror_mode": {
    "name": "ipython",
    "version": 3
   },
   "file_extension": ".py",
   "mimetype": "text/x-python",
   "name": "python",
   "nbconvert_exporter": "python",
   "pygments_lexer": "ipython3",
   "version": "3.6.8"
  }
 },
 "nbformat": 4,
 "nbformat_minor": 2
}
