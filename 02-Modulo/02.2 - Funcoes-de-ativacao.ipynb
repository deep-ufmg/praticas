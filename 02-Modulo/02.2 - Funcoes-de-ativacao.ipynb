{
 "cells": [
  {
   "cell_type": "markdown",
   "metadata": {
    "colab_type": "text",
    "id": "Ed03SC1Jm9Yy"
   },
   "source": [
    "**Atenção! Essa aula foi feita para ser executada no [Google Colab](https://colab.research.google.com/)!**\n",
    "\n",
    "---\n",
    "\n",
    "# Aprendizado Profundo - UFMG\n",
    "\n",
    "## Funções de Ativações\n",
    "\n",
    "Como falado anteriormente, uma parte importante na criação da arquitetura da rede neural é a definição da função de ativação.\n",
    "Várias funções foram propostas ao longo do tempo entre elas [tangente hiperbólica (tanh)](https://mxnet.incubator.apache.org/api/python/symbol/symbol.html#mxnet.symbol.Symbol.tanh), [sigmóide](https://mxnet.incubator.apache.org/api/python/symbol/symbol.html#mxnet.symbol.Symbol.sigmoid),  e [ReLU](https://mxnet.incubator.apache.org/api/python/symbol/symbol.html#mxnet.symbol.Symbol.relu).\n",
    "\n",
    "\n",
    "Neste *notebook*, veremos qual formato, vantagens, e desvantagens das diferentes funções de ativações.\n",
    "Veremos, também, como usar essas funções no *framework* MXNet.\n"
   ]
  },
  {
   "cell_type": "markdown",
   "metadata": {
    "colab_type": "text",
    "id": "Gp6CwWnFnTwb"
   },
   "source": [
    "Antes de começar, vamos instalar o MXNet. Esse pequeno bloco de código abaixo é usado somente para instalar o MXNet para CUDA 10. Execute esse bloco somente uma vez e ignore possíveis erros levantados durante a instalação.\n",
    "\n",
    "**ATENÇÃO: a alteração dos blocos abaixo pode implicar em problemas na execução dos blocos restantes!**"
   ]
  },
  {
   "cell_type": "markdown",
   "metadata": {},
   "source": [
    "## Preâmbulo"
   ]
  },
  {
   "cell_type": "code",
   "execution_count": 1,
   "metadata": {
    "colab": {
     "base_uri": "https://localhost:8080/",
     "height": 623
    },
    "colab_type": "code",
    "executionInfo": {
     "elapsed": 57646,
     "status": "ok",
     "timestamp": 1560525523376,
     "user": {
      "displayName": "Keiller Nogueira",
      "photoUrl": "https://lh5.googleusercontent.com/-OSbB3k7-l84/AAAAAAAAAAI/AAAAAAAAAac/z8WNFFAmye0/s64/photo.jpg",
      "userId": "03938009311988397527"
     },
     "user_tz": 180
    },
    "id": "XW-VATPAldgt",
    "outputId": "15d1a097-51f7-4896-912b-83cd56e6ca00"
   },
   "outputs": [],
   "source": [
    "# !pip install mxnet-cu100"
   ]
  },
  {
   "cell_type": "code",
   "execution_count": 2,
   "metadata": {},
   "outputs": [],
   "source": [
    "from mxnet import autograd\n",
    "from mxnet import gluon\n",
    "from mxnet import init\n",
    "from mxnet import nd\n",
    "\n",
    "from mxnet.gluon import data as gdata\n",
    "from mxnet.gluon import loss as gloss\n",
    "from mxnet.gluon import nn\n",
    "from mxnet.gluon import utils as gutils\n",
    "\n",
    "import mxnet as mx\n",
    "import numpy as np\n",
    "\n",
    "import os\n",
    "import sys\n",
    "import time"
   ]
  },
  {
   "cell_type": "code",
   "execution_count": 3,
   "metadata": {},
   "outputs": [],
   "source": [
    "import matplotlib.pyplot as plt\n",
    "plt.ion()"
   ]
  },
  {
   "cell_type": "code",
   "execution_count": 4,
   "metadata": {},
   "outputs": [
    {
     "data": {
      "text/plain": [
       "cpu(0)"
      ]
     },
     "execution_count": 4,
     "metadata": {},
     "output_type": "execute_result"
    }
   ],
   "source": [
    "# Tenta encontrar GPU\n",
    "def try_gpu():\n",
    "    try:\n",
    "        ctx = mx.gpu()\n",
    "        _ = nd.zeros((1,), ctx=ctx)\n",
    "    except mx.base.MXNetError:\n",
    "        ctx = mx.cpu()\n",
    "    return ctx\n",
    "\n",
    "# CTX é um contexto mxnet, caso exista GPU o código rola nela. Caso não, executa na CPU mesmo.\n",
    "ctx = try_gpu()\n",
    "ctx"
   ]
  },
  {
   "cell_type": "markdown",
   "metadata": {
    "colab_type": "text",
    "id": "fDZ1L2BNK3zD"
   },
   "source": [
    "## Binária\n",
    "\n",
    "Uma das primeiras e mais função de ativação é a binária.\n",
    "Ela foi proposta e muito usada no início das redes neurais.\n",
    "Entretanto, posteriormente, ela foi substituída por outras ativações mais modernas que veremos a seguir.\n",
    "Tecnicamente, esta função produz 1 (ou verdadeiro) quando a entrada ultrapassa um limite $\\theta$, enquanto produz 0 (ou falso) quando a entrada não ultrapassa esse limite.\n",
    "\n",
    "Formalmente, dada uma entrada $x$, a saída $y$ será calculada da seguinte forma:\n",
    "\n",
    "$$\n",
    "y =\n",
    "\\begin{cases}\n",
    "1, \\text{if}~x>\\theta \\\\\n",
    "0, \\text{caso contrário}\n",
    "\\end{cases}\n",
    "$$\n",
    "\n",
    "A grande vantagem dessa ativação é a sua simplicidade.\n",
    "Por outro lado, sua grande desvantagem é que ela não derivada análitica para ser usada junto com o algoritmo de *backpropgagtion*.\n",
    "\n",
    "Abaixo, um código que implementa essa função do zero e faz um gráfico para auxiliar na visualização desta ativação."
   ]
  },
  {
   "cell_type": "code",
   "execution_count": 5,
   "metadata": {
    "colab": {
     "base_uri": "https://localhost:8080/",
     "height": 283
    },
    "colab_type": "code",
    "executionInfo": {
     "elapsed": 2021,
     "status": "ok",
     "timestamp": 1560526109205,
     "user": {
      "displayName": "Keiller Nogueira",
      "photoUrl": "https://lh5.googleusercontent.com/-OSbB3k7-l84/AAAAAAAAAAI/AAAAAAAAAac/z8WNFFAmye0/s64/photo.jpg",
      "userId": "03938009311988397527"
     },
     "user_tz": 180
    },
    "id": "zhTe72bqkHJf",
    "outputId": "b0be9b9e-e259-4e7c-d91e-2b2f6e05c851"
   },
   "outputs": [
    {
     "data": {
      "image/png": "[encoded data removed]",
      "text/plain": [
       "<Figure size 432x288 with 1 Axes>"
      ]
     },
     "metadata": {
      "needs_background": "light"
     },
     "output_type": "display_data"
    }
   ],
   "source": [
    "def binary_activation(x, theta=0):\n",
    "    a = []\n",
    "    for item in x:\n",
    "        if item <= theta:\n",
    "            a.append(0)\n",
    "        elif item > theta:\n",
    "            a.append(1)\n",
    "    return a\n",
    "\n",
    "ax = plt.subplot()\n",
    "ax.yaxis.grid()\n",
    "ax.xaxis.grid()\n",
    "ax.set_ylabel('y')\n",
    "ax.set_xlabel('x')\n",
    "\n",
    "x = np.arange(-4., 4., 0.01)\n",
    "binary = binary_activation(x)\n",
    "\n",
    "binaryPlot = plt.plot(x, binary, label='Binary', ls='-.', lw=3, color='blue')\n",
    "\n",
    "plt.legend(loc=2)\n",
    "plt.ylim([-2, 2])\n",
    "plt.xlim([-3, 3])\n",
    "plt.show()"
   ]
  },
  {
   "cell_type": "markdown",
   "metadata": {
    "colab_type": "text",
    "id": "oAs7m4hWOuqI"
   },
   "source": [
    "## Sigmóide\n",
    "\n",
    "Como manter a vantagem da função binária e ao mesmo tempo resolver seu problema de derivada?\n",
    "Neste caso, temos a função de ativação chamada [sigmóide](https://mxnet.incubator.apache.org/api/python/symbol/symbol.html#mxnet.symbol.Symbol.sigmoid). \n",
    "Essa função não-linear tem um formato similar ao da função binária, porém tem um gradiente suave, já que é definida em toda seu domínio.\n",
    "\n",
    "Formalmente, dada uma entrada $x$, a saída $y$ será calculada da seguinte forma:\n",
    "\n",
    "$$y=\\frac{1}{(1+exp^{(−x)})}$$\n",
    "\n",
    "Note que para valores de entrada entre -2 a 2, os valores de saída são muito diferentes.\n",
    "Isso significa que quaisquer pequenas alterações nos valores de $x$ nessa região farão com que os valores de $y$ sejam alterados significativamente.\n",
    "Dessa forma, essa função tem a tendência de trazer os valores de $y$ para qualquer extremidade da curva.\n",
    "Outra característica dessa função é que ela também terá a saída limitada no intervalo $(0,1)$.\n",
    "\n",
    "A grande desvantagem dessa função é que o gradiente em suas extremidades será pequeno, já que são poucas mudanças (ou seja, a função se estabiliza e forma quase uma reta).\n",
    "Nesses casos, o gradiente fica tão pequeno que \"desaparece\" (problema conhecido como *vanishing gradients*), ou seja, não tem impacto efetivo devido ao valor extremamente pequeno.\n",
    "Esse problema faz com que a rede não aprenda mais ou aprenda drasticamente lenta.\n",
    "Existem maneiras de contornar esse problema que veremos a seguir.\n",
    "\n",
    "Abaixo, um código que implementa essa função do zero e faz um gráfico para auxiliar na visualização desta ativação."
   ]
  },
  {
   "cell_type": "code",
   "execution_count": 6,
   "metadata": {
    "colab": {
     "base_uri": "https://localhost:8080/",
     "height": 283
    },
    "colab_type": "code",
    "executionInfo": {
     "elapsed": 1858,
     "status": "ok",
     "timestamp": 1560526124779,
     "user": {
      "displayName": "Keiller Nogueira",
      "photoUrl": "https://lh5.googleusercontent.com/-OSbB3k7-l84/AAAAAAAAAAI/AAAAAAAAAac/z8WNFFAmye0/s64/photo.jpg",
      "userId": "03938009311988397527"
     },
     "user_tz": 180
    },
    "id": "iKMwymPDmBzQ",
    "outputId": "ee9c3f27-a37a-42c4-dc5b-57ffa028721e"
   },
   "outputs": [
    {
     "data": {
      "image/png": "[encoded data removed]",
      "text/plain": [
       "<Figure size 432x288 with 1 Axes>"
      ]
     },
     "metadata": {
      "needs_background": "light"
     },
     "output_type": "display_data"
    }
   ],
   "source": [
    "def sigmoid(x):\n",
    "    a = []\n",
    "    for item in x:\n",
    "        a.append(1 / (1 + np.exp(-item)))\n",
    "    return a\n",
    "  \n",
    "ax = plt.subplot()\n",
    "ax.yaxis.grid()\n",
    "ax.xaxis.grid()\n",
    "ax.set_ylabel('y')\n",
    "ax.set_xlabel('x')\n",
    "\n",
    "x = np.arange(-4., 4., 0.01)\n",
    "sig = sigmoid(x)\n",
    "\n",
    "sigmoidPlot = plt.plot(x, sig, label='Sigmoid', ls='solid', lw=3, color='orange')\n",
    "\n",
    "plt.legend(loc=2)\n",
    "plt.ylim([-2, 2])\n",
    "plt.xlim([-3, 3])\n",
    "plt.show()"
   ]
  },
  {
   "cell_type": "markdown",
   "metadata": {
    "colab_type": "text",
    "id": "fDk1txYwm072"
   },
   "source": [
    "## Tangente Hiperbólica\n",
    "\n",
    "Uma outra função de ativação muito difundida com características semelhantes à sigmóide é a [tangente hiperbólica (tanh)](https://mxnet.incubator.apache.org/api/python/symbol/symbol.html#mxnet.symbol.Symbol.tanh). \n",
    "Essa função não linear, limitada no intervalo $(-1, 1)$, tem o gradiente mais significativo do que para a função sigmóide.\n",
    "Decidir entre o sigmóide ou o tanh dependerá da sua exigência em relação ao gradiente.\n",
    "Como o sigmóide, o tanh também tem, mas em menor intensidade, o problema de *vanishing gradients*.\n",
    "\n",
    "Formalmente, dada uma entrada $x$, a saída $y$ será calculada da seguinte forma:\n",
    "\n",
    "$$y=\\frac{2}{(1+exp^{(−2x)})} -1$$\n",
    "\n",
    "O Tanh também é uma função de ativação muito popular e amplamente utilizada.\n",
    "\n",
    "Abaixo, um código que implementa essa função do zero e faz um gráfico para auxiliar na visualização desta ativação."
   ]
  },
  {
   "cell_type": "code",
   "execution_count": 7,
   "metadata": {
    "colab": {
     "base_uri": "https://localhost:8080/",
     "height": 283
    },
    "colab_type": "code",
    "executionInfo": {
     "elapsed": 1052,
     "status": "ok",
     "timestamp": 1560526598326,
     "user": {
      "displayName": "Keiller Nogueira",
      "photoUrl": "https://lh5.googleusercontent.com/-OSbB3k7-l84/AAAAAAAAAAI/AAAAAAAAAac/z8WNFFAmye0/s64/photo.jpg",
      "userId": "03938009311988397527"
     },
     "user_tz": 180
    },
    "id": "MuEoi-K-m307",
    "outputId": "568545fb-21e6-4009-e2d6-f11ac2e94db9"
   },
   "outputs": [
    {
     "data": {
      "image/png": "[encoded data removed]",
      "text/plain": [
       "<Figure size 432x288 with 1 Axes>"
      ]
     },
     "metadata": {
      "needs_background": "light"
     },
     "output_type": "display_data"
    }
   ],
   "source": [
    "def tanh(x):\n",
    "    a = []\n",
    "    for item in x:\n",
    "        a.append((2 / (1 + np.exp(-2*item))-1))\n",
    "    return a\n",
    "  \n",
    "ax = plt.subplot()\n",
    "ax.yaxis.grid()\n",
    "ax.xaxis.grid()\n",
    "ax.set_ylabel('y')\n",
    "ax.set_xlabel('x')\n",
    "\n",
    "x = np.arange(-4., 4., 0.01)\n",
    "th = tanh(x)\n",
    "\n",
    "tanhPlot = plt.plot(x, th, label='TanH', ls='dotted', lw=3, color='green')\n",
    "\n",
    "plt.legend(loc=2)\n",
    "plt.ylim([-2, 2])\n",
    "plt.xlim([-3, 3])\n",
    "plt.show()"
   ]
  },
  {
   "cell_type": "markdown",
   "metadata": {
    "colab_type": "text",
    "id": "EzH0HbB5njc6"
   },
   "source": [
    "## ReLU\n",
    "\n",
    "Uma última função de ativação mais moderna é a chamada [ReLU](https://mxnet.incubator.apache.org/api/python/symbol/symbol.html#mxnet.symbol.Symbol.relu). \n",
    "\n",
    "Formalmente, dada uma entrada $x$, a saída $y$ será calculada da seguinte forma:\n",
    "\n",
    "$$y=\\max(0, x)$$\n",
    "\n",
    "Essa função não-linear tem intervalo $[0, +\\infty]$, o que significa que pode haver um problema chamado de explosão da ativação (quando o valor da ativação fica mto alto e anula as outras ativações).\n",
    "\n",
    "Uma vantagem dessa ativação é permitir a esparcidade das ativações, ou seja, que haja neurônios desativados (com ativações zero).\n",
    "Isso torna as ativações escassas e força com que elas fiquem mais eficientes.\n",
    "Por outro lado, a desvantagem é que neurônio com valores negativos são desligados e não são mais reativados, já que o gradiente para valores negativos é zero.\n",
    "Esse problema, chamado *dying ReLu problem*, faz com que vários neurônios simplesmente morram e não respondam tornando uma parte substancial da rede passiva.\n",
    "Existem variações no ReLu para atenuar esse problema simplesmente manuseando valores negativos ligeiramente diferentes.\n",
    "Por fim, ReLu é menos computacionalmente caro do que tanh e sigmoid porque envolve operações matemáticas mais simples.\n",
    "Esse é um bom ponto a considerar quando estamos projetando redes neurais profundas.\n",
    "\n",
    "Abaixo, um código que implementa essa função do zero e faz um gráfico para auxiliar na visualização desta ativação.\n",
    "\n"
   ]
  },
  {
   "cell_type": "code",
   "execution_count": 8,
   "metadata": {
    "colab": {
     "base_uri": "https://localhost:8080/",
     "height": 283
    },
    "colab_type": "code",
    "executionInfo": {
     "elapsed": 1103,
     "status": "ok",
     "timestamp": 1560526601336,
     "user": {
      "displayName": "Keiller Nogueira",
      "photoUrl": "https://lh5.googleusercontent.com/-OSbB3k7-l84/AAAAAAAAAAI/AAAAAAAAAac/z8WNFFAmye0/s64/photo.jpg",
      "userId": "03938009311988397527"
     },
     "user_tz": 180
    },
    "id": "FCShI0CRnlcY",
    "outputId": "e711e4fd-fcfb-4cfe-c24c-d7c3c34dc0dd"
   },
   "outputs": [
    {
     "data": {
      "image/png": "[encoded data removed]",
      "text/plain": [
       "<Figure size 432x288 with 1 Axes>"
      ]
     },
     "metadata": {
      "needs_background": "light"
     },
     "output_type": "display_data"
    }
   ],
   "source": [
    "def reluFunc(x):\n",
    "    a = []\n",
    "    for item in x:\n",
    "        if item <= 0.0:\n",
    "            a.append(0)\n",
    "        else:\n",
    "            a.append(item)\n",
    "    return a\n",
    "  \n",
    "ax = plt.subplot()\n",
    "ax.yaxis.grid()\n",
    "ax.xaxis.grid()\n",
    "ax.set_ylabel('y')\n",
    "ax.set_xlabel('x')\n",
    "\n",
    "x = np.arange(-4., 4., 0.01)\n",
    "relu = reluFunc(x)\n",
    "\n",
    "reluPlot = plt.plot(x, relu, label='ReLU', ls='dashed', lw=3, color='red')\n",
    "\n",
    "plt.legend(loc=2)\n",
    "plt.ylim([-2, 2])\n",
    "plt.xlim([-3, 3])\n",
    "plt.show()"
   ]
  },
  {
   "cell_type": "markdown",
   "metadata": {
    "colab_type": "text",
    "id": "M0aKRnSlqLg1"
   },
   "source": [
    "## Comparação\n",
    "\n",
    "O gráfico abaixo mostra todas as funções de ativação vistas acima juntas.\n",
    "Reparem na diferença das ativações.\n",
    "Obviamente, algumas ativações são melhores para alguns casos enquanto outras são mais usadas em outros cenários.\n",
    "Depende diretamente do pesquisador testar e selecionar qual melhor função de ativação para o problema em questão."
   ]
  },
  {
   "cell_type": "code",
   "execution_count": 9,
   "metadata": {
    "colab": {
     "base_uri": "https://localhost:8080/",
     "height": 283
    },
    "colab_type": "code",
    "executionInfo": {
     "elapsed": 1411,
     "status": "ok",
     "timestamp": 1560526606409,
     "user": {
      "displayName": "Keiller Nogueira",
      "photoUrl": "https://lh5.googleusercontent.com/-OSbB3k7-l84/AAAAAAAAAAI/AAAAAAAAAac/z8WNFFAmye0/s64/photo.jpg",
      "userId": "03938009311988397527"
     },
     "user_tz": 180
    },
    "id": "UoAXtaQVOuV6",
    "outputId": "fe48276d-3442-4a11-df74-3ee8ba1fe041"
   },
   "outputs": [
    {
     "data": {
      "image/png": "[encoded data removed]",
      "text/plain": [
       "<Figure size 432x288 with 1 Axes>"
      ]
     },
     "metadata": {
      "needs_background": "light"
     },
     "output_type": "display_data"
    }
   ],
   "source": [
    "ax = plt.subplot()\n",
    "ax.yaxis.grid()\n",
    "ax.xaxis.grid()\n",
    "ax.set_ylabel('y')\n",
    "ax.set_xlabel('x')\n",
    "\n",
    "x = np.arange(-4., 4., 0.01)\n",
    "binary = binary_activation(x)\n",
    "sig = sigmoid(x)\n",
    "th = tanh(x)\n",
    "relu = reluFunc(x)\n",
    "\n",
    "binaryPlot = plt.plot(x, binary, label='Binary', ls='-.', lw=3, color='blue')\n",
    "sigmoidPlot = plt.plot(x, sig, label='Sigmoid', ls='solid', lw=3, color='orange')\n",
    "tanhPlot = plt.plot(x, th, label='TanH', ls='dotted', lw=3, color='green')\n",
    "reluPlot = plt.plot(x, relu, label='ReLU', ls='dashed', lw=3, color='red')\n",
    "\n",
    "plt.legend(loc=2)\n",
    "plt.ylim([-2, 2])\n",
    "plt.xlim([-3, 3])\n",
    "plt.show()"
   ]
  },
  {
   "cell_type": "markdown",
   "metadata": {
    "colab_type": "text",
    "id": "9sI-DAZcqnO0"
   },
   "source": [
    "# MXNet\n",
    "\n",
    "Agora veremos como usar e implementar algumas dessas funções no *framework* MXNet.\n",
    "Para isso, usamos o dataset [Fashion MNIST](http://fashion-mnist.s3-website.eu-central-1.amazonaws.com/), um dataset tradicional de reconhecimento de peças de roupas.\n",
    "Além disso, usaremos uma rede MLP simples para testes."
   ]
  },
  {
   "cell_type": "code",
   "execution_count": 10,
   "metadata": {
    "colab": {},
    "colab_type": "code",
    "id": "g9u0pCOtlWLu"
   },
   "outputs": [],
   "source": [
    "# código para carregar o dataset do Fashion-MNIST\n",
    "# https://github.com/zalandoresearch/fashion-mnist\n",
    "def load_data_fashion_mnist(batch_size, resize=None, root=os.path.join(\n",
    "        '~', '.mxnet', 'datasets', 'fashion-mnist')):\n",
    "    \"\"\"Download the Fashion-MNIST dataset and then load into memory.\"\"\"\n",
    "    root = os.path.expanduser(root)\n",
    "    transformer = []\n",
    "    if resize:\n",
    "        transformer += [gdata.vision.transforms.Resize(resize)]\n",
    "    transformer += [gdata.vision.transforms.ToTensor()]\n",
    "    transformer = gdata.vision.transforms.Compose(transformer)\n",
    "\n",
    "    mnist_train = gdata.vision.FashionMNIST(root=root, train=True)\n",
    "    mnist_test = gdata.vision.FashionMNIST(root=root, train=False)\n",
    "    num_workers = 0 if sys.platform.startswith('win32') else 4\n",
    "\n",
    "    train_iter = gdata.DataLoader(mnist_train.transform_first(transformer),\n",
    "                                  batch_size, shuffle=True,\n",
    "                                  num_workers=num_workers)\n",
    "    test_iter = gdata.DataLoader(mnist_test.transform_first(transformer),\n",
    "                                 batch_size, shuffle=False,\n",
    "                                 num_workers=num_workers)\n",
    "    return train_iter, test_iter"
   ]
  },
  {
   "cell_type": "code",
   "execution_count": 11,
   "metadata": {
    "colab": {},
    "colab_type": "code",
    "id": "ryMa2m3wKwOS"
   },
   "outputs": [],
   "source": [
    "# funções básicas\n",
    "def _get_batch(batch, ctx):\n",
    "    \"\"\"Return features and labels on ctx.\"\"\"\n",
    "    features, labels = batch\n",
    "    if labels.dtype != features.dtype:\n",
    "        labels = labels.astype(features.dtype)\n",
    "    return (gutils.split_and_load(features, ctx),\n",
    "            gutils.split_and_load(labels, ctx), features.shape[0])\n",
    "\n",
    "# Função usada para calcular acurácia\n",
    "def evaluate_accuracy(data_iter, net, loss, ctx=[mx.cpu()]):\n",
    "    \"\"\"Evaluate accuracy of a model on the given data set.\"\"\"\n",
    "    if isinstance(ctx, mx.Context):\n",
    "        ctx = [ctx]\n",
    "    acc_sum, n, l = nd.array([0]), 0, 0\n",
    "    for batch in data_iter:\n",
    "        features, labels, _ = _get_batch(batch, ctx)\n",
    "        for X, y in zip(features, labels):\n",
    "            # X, y = X.as_in_context(ctx), y.as_in_context(ctx)\n",
    "            y = y.astype('float32')\n",
    "            y_hat = net(X)\n",
    "            l += loss(y_hat, y).sum()\n",
    "            acc_sum += (y_hat.argmax(axis=1) == y).sum().copyto(mx.cpu())\n",
    "            n += y.size\n",
    "        acc_sum.wait_to_read()\n",
    "    return acc_sum.asscalar() / n, l.asscalar() / n\n",
    "  \n",
    "# Função usada no treinamento e validação da rede\n",
    "def train_validate(net, train_iter, test_iter, batch_size, trainer, loss, ctx,\n",
    "                   num_epochs):\n",
    "    print('training on', ctx)\n",
    "    for epoch in range(num_epochs):\n",
    "        train_l_sum, train_acc_sum, n, start = 0.0, 0.0, 0, time.time()\n",
    "        for X, y in train_iter:\n",
    "            X, y = X.as_in_context(ctx), y.as_in_context(ctx)\n",
    "            with autograd.record():\n",
    "                y_hat = net(X)\n",
    "                l = loss(y_hat, y).sum()\n",
    "            l.backward()\n",
    "            trainer.step(batch_size)\n",
    "            y = y.astype('float32')\n",
    "            train_l_sum += l.asscalar()\n",
    "            train_acc_sum += (y_hat.argmax(axis=1) == y).sum().asscalar()\n",
    "            n += y.size\n",
    "        test_acc, test_loss = evaluate_accuracy(test_iter, net, loss, ctx)\n",
    "        print('epoch %d, train loss %.4f, train acc %.3f, test loss %.4f, '\n",
    "              'test acc %.3f, time %.1f sec'\n",
    "              % (epoch + 1, train_l_sum / n, train_acc_sum / n, test_loss, \n",
    "                 test_acc, time.time() - start))"
   ]
  },
  {
   "cell_type": "markdown",
   "metadata": {
    "colab_type": "text",
    "id": "br7mKzzoy3F-"
   },
   "source": [
    "## Sigmóide\n",
    "\n",
    "Num geral, para implementar um camada usando a ativação, basta adicionar o parâmetro *activation* e passar como argumento a ativação desejada.\n",
    "Logo, para implementar um camada usando a ativação [sigmóide](https://mxnet.incubator.apache.org/api/python/symbol/symbol.html#mxnet.symbol.Symbol.sigmoid), basta adicionar o parâmetro *activation* e 'relu' como argumento, como mostrado no exemplo abaixo."
   ]
  },
  {
   "cell_type": "code",
   "execution_count": 12,
   "metadata": {
    "colab": {
     "base_uri": "https://localhost:8080/",
     "height": 219
    },
    "colab_type": "code",
    "executionInfo": {
     "elapsed": 83335,
     "status": "ok",
     "timestamp": 1560529547182,
     "user": {
      "displayName": "Keiller Nogueira",
      "photoUrl": "https://lh5.googleusercontent.com/-OSbB3k7-l84/AAAAAAAAAAI/AAAAAAAAAac/z8WNFFAmye0/s64/photo.jpg",
      "userId": "03938009311988397527"
     },
     "user_tz": 180
    },
    "id": "fcDmP8qxKgU3",
    "outputId": "18043e80-581d-4148-97d9-aa494dc2e682"
   },
   "outputs": [
    {
     "name": "stdout",
     "output_type": "stream",
     "text": [
      "training on cpu(0)\n",
      "epoch 1, train loss 2.3107, train acc 0.100, test loss 2.3073, test acc 0.100, time 4.8 sec\n",
      "epoch 2, train loss 2.3073, train acc 0.100, test loss 2.3051, test acc 0.100, time 4.0 sec\n",
      "epoch 3, train loss 2.3052, train acc 0.102, test loss 2.3036, test acc 0.100, time 4.1 sec\n",
      "epoch 4, train loss 2.3045, train acc 0.099, test loss 2.3046, test acc 0.100, time 3.7 sec\n",
      "epoch 5, train loss 2.3042, train acc 0.101, test loss 2.3049, test acc 0.100, time 4.0 sec\n",
      "epoch 6, train loss 2.3038, train acc 0.099, test loss 2.3036, test acc 0.100, time 4.3 sec\n",
      "epoch 7, train loss 2.3030, train acc 0.099, test loss 2.3027, test acc 0.209, time 4.5 sec\n",
      "epoch 8, train loss 2.2990, train acc 0.122, test loss 2.2916, test acc 0.203, time 4.0 sec\n",
      "epoch 9, train loss 2.2560, train acc 0.167, test loss 2.1435, test acc 0.195, time 4.1 sec\n",
      "epoch 10, train loss 1.8064, train acc 0.243, test loss 1.6537, test acc 0.318, time 3.8 sec\n"
     ]
    }
   ],
   "source": [
    "# parâmetros: número de epochs, learning rate (ou taxa de aprendizado), e \n",
    "# tamanho do batch\n",
    "num_epochs, lr, batch_size = 10, 0.5, 256\n",
    "\n",
    "# rede simples somente com perceptrons e camadas densamente conectadas\n",
    "net = nn.Sequential()\n",
    "net.add(nn.Dense(256, activation=\"sigmoid\"),\n",
    "        nn.Dense(128, activation=\"sigmoid\"),\n",
    "        nn.Dense(64, activation=\"sigmoid\"),\n",
    "        nn.Dense(10))\n",
    "net.initialize(init.Normal(sigma=0.01), ctx=ctx)\n",
    "\n",
    "# função de custo (ou loss)\n",
    "loss = gloss.SoftmaxCrossEntropyLoss()\n",
    "\n",
    "# carregamento do dado: fashion mnist\n",
    "train_iter, test_iter = load_data_fashion_mnist(batch_size)\n",
    "\n",
    "# trainer do gluon\n",
    "trainer = gluon.Trainer(net.collect_params(), 'sgd', {'learning_rate': lr})\n",
    "\n",
    "# treinamento e validação via MXNet\n",
    "train_validate(net, train_iter, test_iter, batch_size, trainer, loss, \n",
    "               ctx, num_epochs)"
   ]
  },
  {
   "cell_type": "markdown",
   "metadata": {
    "colab_type": "text",
    "id": "Q18UT_my9K66"
   },
   "source": [
    "## TanH, ReLU e outras\n",
    "\n",
    "Agora é com você!\n",
    "Estude e implemente outras arquiteturas com diferentes funções de ativações como [tangente hiperbólica (tanh)](https://mxnet.incubator.apache.org/api/python/symbol/symbol.html#mxnet.symbol.Symbol.tanh),  e [ReLU](https://mxnet.incubator.apache.org/api/python/symbol/symbol.html#mxnet.symbol.Symbol.relu).\n",
    "\n",
    "Estude também outras funções de ativações mais recentes (como [LeakyReLU](https://mxnet.incubator.apache.org/api/python/symbol/symbol.html#mxnet.symbol.LeakyReLU) e [suas derivadas, como eLU e SeLU](https://arxiv.org/pdf/1804.02763.pdf)) e tente implementá-las usando o *framework* MXNet.\n",
    "Neste caso, será necessário definir a arquitetura no formato de uma classe como neste [exemplo](https://gluon.mxnet.io/chapter03_deep-neural-networks/mlp-gluon.html#Define-the-model-with-gluon.Block).\n"
   ]
  }
 ],
 "metadata": {
  "accelerator": "GPU",
  "colab": {
   "collapsed_sections": [
    "fDZ1L2BNK3zD",
    "oAs7m4hWOuqI",
    "fDk1txYwm072",
    "EzH0HbB5njc6",
    "M0aKRnSlqLg1"
   ],
   "name": "funcoes_de_ativacao.ipynb",
   "provenance": [],
   "version": "0.3.2"
  },
  "kernelspec": {
   "display_name": "Python 3",
   "language": "python",
   "name": "python3"
  },
  "language_info": {
   "codemirror_mode": {
    "name": "ipython",
    "version": 3
   },
   "file_extension": ".py",
   "mimetype": "text/x-python",
   "name": "python",
   "nbconvert_exporter": "python",
   "pygments_lexer": "ipython3",
   "version": "3.6.8"
  }
 },
 "nbformat": 4,
 "nbformat_minor": 1
}
