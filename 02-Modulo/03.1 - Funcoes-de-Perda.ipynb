{
 "cells": [
  {
   "cell_type": "markdown",
   "metadata": {
    "colab_type": "text",
    "id": "Ed03SC1Jm9Yy"
   },
   "source": [
    "# Aprendizado Profundo - UFMG\n",
    "\n",
    "## Funções de perda (*loss functions*)\n",
    "\n",
    "Neste código iremos analisar diferentes funções de perda (também conhecidas como *loss functions*) que são usadas para avaliar a rede no estado atual.\n",
    "\n",
    "Funções de perda, também conhecidas como *loss functions*, são muito importantes para o aprendizagem de máquinas, pois servem como uma forma de medir a distância ou a diferença entre a saída prevista de um modelo e o seu valor real, auxiliando então no treino no modelo.\n",
    "\n",
    "Diversas funções de perda foram propostas ao longo do tempo para diferentes tipos de problemas.\n",
    "Algumas dessas funções foram propostas para auxiliar no treino de modelos de regressão linear, como as *loss* [L1](https://mxnet.incubator.apache.org/api/python/gluon/loss.html#mxnet.gluon.loss.L2Loss), [L2](https://mxnet.incubator.apache.org/api/python/gluon/loss.html#mxnet.gluon.loss.L1Loss) e [Huber](https://mxnet.incubator.apache.org/api/python/gluon/loss.html#mxnet.gluon.loss.HuberLoss).\n",
    "Outras foram propostas para serem usadas em problemas de classificação, como a mais comum de todas [Cross-Entropy](https://mxnet.incubator.apache.org/api/python/gluon/loss.html#mxnet.gluon.loss.SoftmaxCrossEntropyLoss).\n",
    "\n",
    "<p align=\"center\">\n",
    "  <img src=\"https://drive.google.com/uc?export=view&id=1ITV4Ikw0NP39p1KNFkt46LWwnhzLKf7h\">\n",
    "</p>\n"
   ]
  },
  {
   "cell_type": "markdown",
   "metadata": {
    "colab_type": "text",
    "id": "Gp6CwWnFnTwb"
   },
   "source": [
    "Esse pequeno bloco de código abaixo é usado somente para instalar o MXNet para CUDA 10. Execute esse bloco somente uma vez e ignore possíveis erros levantados durante a instalação.\n",
    "\n",
    "**ATENÇÃO: a alteração dos blocos pode implicar em problemas na execução dos blocos restantes!**"
   ]
  },
  {
   "cell_type": "markdown",
   "metadata": {},
   "source": [
    "## Preâmbulo"
   ]
  },
  {
   "cell_type": "code",
   "execution_count": 1,
   "metadata": {
    "colab": {
     "base_uri": "https://localhost:8080/",
     "height": 641
    },
    "colab_type": "code",
    "executionInfo": {
     "elapsed": 53336,
     "status": "ok",
     "timestamp": 1562159567189,
     "user": {
      "displayName": "Keiller Nogueira",
      "photoUrl": "https://lh5.googleusercontent.com/-OSbB3k7-l84/AAAAAAAAAAI/AAAAAAAAAac/z8WNFFAmye0/s64/photo.jpg",
      "userId": "03938009311988397527"
     },
     "user_tz": 180
    },
    "id": "XW-VATPAldgt",
    "outputId": "742dac37-d016-4707-cd29-5e2259dca649"
   },
   "outputs": [],
   "source": [
    "# !pip install mxnet-cu100"
   ]
  },
  {
   "cell_type": "code",
   "execution_count": 2,
   "metadata": {},
   "outputs": [],
   "source": [
    "from mxnet import autograd\n",
    "from mxnet import gluon\n",
    "from mxnet import init\n",
    "from mxnet import nd\n",
    "\n",
    "from mxnet.gluon import data as gdata\n",
    "from mxnet.gluon import loss as gloss\n",
    "from mxnet.gluon import nn\n",
    "from mxnet.gluon import utils as gutils\n",
    "\n",
    "from sklearn.model_selection import train_test_split\n",
    "\n",
    "import mxnet as mx\n",
    "import numpy as np\n",
    "\n",
    "import os\n",
    "import sys\n",
    "import time"
   ]
  },
  {
   "cell_type": "code",
   "execution_count": 3,
   "metadata": {},
   "outputs": [],
   "source": [
    "import matplotlib.pyplot as plt\n",
    "plt.ion()"
   ]
  },
  {
   "cell_type": "code",
   "execution_count": 4,
   "metadata": {},
   "outputs": [
    {
     "data": {
      "text/plain": [
       "cpu(0)"
      ]
     },
     "execution_count": 4,
     "metadata": {},
     "output_type": "execute_result"
    }
   ],
   "source": [
    "# Tenta encontrar GPU\n",
    "def try_gpu():\n",
    "    try:\n",
    "        ctx = mx.gpu()\n",
    "        _ = nd.zeros((1,), ctx=ctx)\n",
    "    except mx.base.MXNetError:\n",
    "        ctx = mx.cpu()\n",
    "    return ctx\n",
    "\n",
    "ctx = try_gpu()\n",
    "ctx"
   ]
  },
  {
   "cell_type": "code",
   "execution_count": 5,
   "metadata": {
    "colab": {},
    "colab_type": "code",
    "id": "g9u0pCOtlWLu"
   },
   "outputs": [],
   "source": [
    "## carregando dados básicos\n",
    "\n",
    "# dados sintéticos somente para \n",
    "def synthetic_regression_data(w, b, num_examples):\n",
    "    \"\"\"generate y = X w + b + noise\"\"\"\n",
    "    X = nd.random.normal(scale=1, shape=(num_examples, len(w)))\n",
    "    y = nd.dot(X, w) + b\n",
    "    y += nd.random.normal(scale=0.01, shape=y.shape)\n",
    "    return X, y\n",
    "\n",
    "# código para carregar o dataset do MNIST\n",
    "# http://yann.lecun.com/exdb/mnist/\n",
    "def load_data_mnist(batch_size, resize=None, root=os.path.join(\n",
    "        '~', '.mxnet', 'datasets', 'mnist')):\n",
    "    \"\"\"Download the MNIST dataset and then load into memory.\"\"\"\n",
    "    root = os.path.expanduser(root)\n",
    "    transformer = []\n",
    "    if resize:\n",
    "        transformer += [gdata.vision.transforms.Resize(resize)]\n",
    "    transformer += [gdata.vision.transforms.ToTensor()]\n",
    "    transformer = gdata.vision.transforms.Compose(transformer)\n",
    "\n",
    "    mnist_train = gdata.vision.MNIST(root=root, train=True)\n",
    "    mnist_test = gdata.vision.MNIST(root=root, train=False)\n",
    "    num_workers = 0 if sys.platform.startswith('win32') else 4\n",
    "\n",
    "    train_iter = gdata.DataLoader(mnist_train.transform_first(transformer),\n",
    "                                  batch_size, shuffle=True,\n",
    "                                  num_workers=num_workers)\n",
    "    test_iter = gdata.DataLoader(mnist_test.transform_first(transformer),\n",
    "                                 batch_size, shuffle=False,\n",
    "                                 num_workers=num_workers)\n",
    "    return train_iter, test_iter"
   ]
  },
  {
   "cell_type": "code",
   "execution_count": 6,
   "metadata": {
    "colab": {},
    "colab_type": "code",
    "id": "8oSVf8u1Oi1m"
   },
   "outputs": [],
   "source": [
    "# funções básicas\n",
    "\n",
    "def load_array(features, labels, batch_size, is_train=True):\n",
    "    \"\"\"Construct a Gluon data loader\"\"\"\n",
    "    dataset = gluon.data.ArrayDataset(features, labels)\n",
    "    return gluon.data.DataLoader(dataset, batch_size, shuffle=is_train)\n",
    "\n",
    "def _get_batch(batch, ctx):\n",
    "    \"\"\"Return features and labels on ctx.\"\"\"\n",
    "    features, labels = batch\n",
    "    if labels.dtype != features.dtype:\n",
    "        labels = labels.astype(features.dtype)\n",
    "    return (gutils.split_and_load(features, ctx),\n",
    "            gutils.split_and_load(labels, ctx), features.shape[0])\n",
    "\n",
    "# Função usada para calcular acurácia\n",
    "def evaluate_accuracy(data_iter, net, loss, ctx=[mx.cpu()]):\n",
    "    \"\"\"Evaluate accuracy of a model on the given data set.\"\"\"\n",
    "    if isinstance(ctx, mx.Context):\n",
    "        ctx = [ctx]\n",
    "    acc_sum, n, l = nd.array([0]), 0, 0\n",
    "    for batch in data_iter:\n",
    "        features, labels, _ = _get_batch(batch, ctx)\n",
    "        for X, y in zip(features, labels):\n",
    "            # X, y = X.as_in_context(ctx), y.as_in_context(ctx)\n",
    "            y = y.astype('float32')\n",
    "            y_hat = net(X)\n",
    "            l += loss(y_hat, y).sum()\n",
    "            acc_sum += (y_hat.argmax(axis=1) == y).sum().copyto(mx.cpu())\n",
    "            n += y.size\n",
    "        acc_sum.wait_to_read()\n",
    "    return acc_sum.asscalar() / n, l.asscalar() / n\n",
    "  \n",
    "# Função usada no treinamento e validação da rede\n",
    "def train_validate(net, train_iter, test_iter, batch_size, trainer, loss, ctx,\n",
    "                   num_epochs, type='regression'):\n",
    "    print('training on', ctx)\n",
    "    for epoch in range(num_epochs):\n",
    "        train_l_sum, train_acc_sum, n, start = 0.0, 0.0, 0, time.time()\n",
    "        for X, y in train_iter:\n",
    "            X, y = X.as_in_context(ctx), y.as_in_context(ctx)\n",
    "            with autograd.record():\n",
    "                y_hat = net(X)\n",
    "                l = loss(y_hat, y).sum()\n",
    "            l.backward()\n",
    "            trainer.step(batch_size)\n",
    "            y = y.astype('float32')\n",
    "            train_l_sum += l.asscalar()\n",
    "            train_acc_sum += (y_hat.argmax(axis=1) == y).sum().asscalar()\n",
    "            n += y.size\n",
    "        test_acc, test_loss = evaluate_accuracy(test_iter, net, loss, ctx)\n",
    "        if type == 'regression':\n",
    "          print('epoch %d, train loss %.4f, test loss %.4f, time %.1f sec'\n",
    "                % (epoch + 1, train_l_sum / n, test_loss, time.time() - start))\n",
    "        else:\n",
    "          print('epoch %d, train loss %.4f, train acc %.3f, test loss %.4f, '\n",
    "                'test acc %.3f, time %.1f sec'\n",
    "                % (epoch + 1, train_l_sum / n, train_acc_sum / n, test_loss, \n",
    "                   test_acc, time.time() - start))"
   ]
  },
  {
   "cell_type": "markdown",
   "metadata": {
    "colab_type": "text",
    "id": "Azv2ajIYkIjH"
   },
   "source": [
    "## *Loss* L2\n",
    "\n",
    "O função de custo chamada L2 (também conhecida como *Mean Squared Error* -- MSE) é, talvez, a função de perda mais simples e comum. \n",
    "Essa função é representada simplesmente pela média do quadrado da diferença entre as previsões do modelo e o *ground-truth*.\n",
    "Essa função nunca terá valores negativos, pois a diferença calculada será sempre elevado à segunda potência.\n",
    "\n",
    "Formalmente, dado a valor real $y$, e a predição feita pelo modelo $\\hat{y}$, a *loss* L2 é definida pela seguinte equação:\n",
    "\n",
    "$$\\mathcal{l}_2^i(w, b) = \\frac{1}{2} (\\hat{y}^i - y^i)^2 $$\n",
    "\n",
    "A constante $1/2$ é apenas por conveniência matemática, garantindo que depois de tomarmos a derivada dessa função, o coeficiente constante será de $1$.\n",
    "\n",
    "A grande vantagem dessa função é que ela garante que o modelo treinado não tenha previsões discrepantes com erros enormes, já que ela atribui maior peso a esses erros devido à parte quadrática da função.\n",
    "Entretanto, isso gera a desvantagem dessa função de custo, pois se o modelo faz uma única previsão muito ruim, a parte quadrática da função aumenta o erro consideravelmente.\n",
    "No entanto, em muitos casos práticos, não nos importamos muito com esses poucos valores discrepantes e buscamos um modelo mais abrangente que tenha um bom desempenho na maioria.\n",
    "\n",
    "Para tentar garantir a qualidade do modelo em todo o conjunto de dados, podemos simplesmente calcular a média das perdas no conjunto de treinamento:\n",
    "\n",
    "$$\\mathcal{L}(w, b) = \\frac{1}{n} \\sum_i^N \\mathcal{l}^{i}_2(w, b) $$\n",
    "\n",
    "### Implementação\n",
    "\n",
    "Em frameworks atuais (como no MxNet, TensorFlow, e PyTorch), a implementação de funções de custo comuns, como a L2, são diretas e muitos simples.\n",
    "\n",
    "**Um exemplo é mostrado abaixo utilizando o framework MxNet.**"
   ]
  },
  {
   "cell_type": "code",
   "execution_count": 7,
   "metadata": {
    "colab": {
     "base_uri": "https://localhost:8080/",
     "height": 586
    },
    "colab_type": "code",
    "executionInfo": {
     "elapsed": 900,
     "status": "ok",
     "timestamp": 1562159639448,
     "user": {
      "displayName": "Keiller Nogueira",
      "photoUrl": "https://lh5.googleusercontent.com/-OSbB3k7-l84/AAAAAAAAAAI/AAAAAAAAAac/z8WNFFAmye0/s64/photo.jpg",
      "userId": "03938009311988397527"
     },
     "user_tz": 180
    },
    "id": "T0LIS1C8S6k1",
    "outputId": "e7b2c198-6e96-42a2-cfba-1388955ec82b"
   },
   "outputs": [
    {
     "name": "stdout",
     "output_type": "stream",
     "text": [
      "epoch 1, loss: 0.040631\n",
      "epoch 2, loss: 0.000154\n",
      "epoch 3, loss: 0.000050\n",
      "\n",
      "[[6.067237]]\n",
      "<NDArray 1x1 @cpu(0)> \n",
      "[6.073719]\n",
      "<NDArray 1 @cpu(0)> \n",
      "[[0.00648212]]\n",
      "<NDArray 1x1 @cpu(0)>\n",
      "\n",
      "[[-0.4520979]]\n",
      "<NDArray 1x1 @cpu(0)> \n",
      "[-0.46103162]\n",
      "<NDArray 1 @cpu(0)> \n",
      "[[-0.00893372]]\n",
      "<NDArray 1x1 @cpu(0)>\n",
      "\n",
      "[[3.8192732]]\n",
      "<NDArray 1x1 @cpu(0)> \n",
      "[3.815177]\n",
      "<NDArray 1 @cpu(0)> \n",
      "[[-0.00409627]]\n",
      "<NDArray 1x1 @cpu(0)>\n",
      "\n",
      "[[8.072697]]\n",
      "<NDArray 1x1 @cpu(0)> \n",
      "[8.061257]\n",
      "<NDArray 1 @cpu(0)> \n",
      "[[-0.01143932]]\n",
      "<NDArray 1x1 @cpu(0)>\n"
     ]
    }
   ],
   "source": [
    "seed = nd.array([2, -3.4])\n",
    "seed_gt = 4.2\n",
    "features, labels = synthetic_regression_data(seed, seed_gt, 1000)\n",
    "  \n",
    "batch_size = 10\n",
    "data_iter = load_array(features, labels, batch_size)\n",
    "\n",
    "# arquitetura super simples\n",
    "net = nn.Sequential()\n",
    "net.add(nn.Dense(1))\n",
    "net.initialize(init.Normal(sigma=0.01))\n",
    "\n",
    "loss = gloss.L2Loss()  # loss L2\n",
    "trainer = gluon.Trainer(net.collect_params(), 'sgd', {'learning_rate': 0.03})\n",
    "\n",
    "# treino\n",
    "num_epochs = 3\n",
    "for epoch in range(1, num_epochs + 1):\n",
    "    for X, y in data_iter:\n",
    "        with autograd.record():\n",
    "            l = loss(net(X), y)\n",
    "        l.backward()\n",
    "        trainer.step(batch_size)\n",
    "    l = loss(net(features), labels)\n",
    "    print('epoch %d, loss: %f' % (epoch, l.mean().asnumpy()))\n",
    "\n",
    "for i in range(995, 999):\n",
    "  y_hat = net(features[i:i+1, :])\n",
    "  print(y_hat, labels[i], labels[i] - y_hat)"
   ]
  },
  {
   "cell_type": "markdown",
   "metadata": {
    "colab_type": "text",
    "id": "lz_ayDVLnNFU"
   },
   "source": [
    "## *Loss* L1\n",
    "\n",
    "A função de custo L1 é apenas ligeiramente diferente da L2, mas fornece curiosamente propriedades quase exatamente opostas!\n",
    "Essa função é representada pelo valor absoluto da diferença entre as previsões do modelo e o *ground-truth*.\n",
    "\n",
    "Essa função, assim como o *loss* L2, nunca será negativo, pois neste caso estamos sempre assumindo o valor absoluto dos erros.\n",
    "Formalmente, dado a valor real (*ground-truth*) $y$, e a predição feita pelo modelo $\\hat{y}$, a *loss* L1 é definida pela seguinte equação:\n",
    "\n",
    "$$\\mathcal{l}_1^i(w, b) = \\sum_i |\\hat{y}^i - y^i| $$\n",
    "\n",
    "A grande vantagem da função de custo L1 cobre diretamente a desvantagem do *loss* L2.\n",
    "Em outras palaras, como estamos trabalhando com o valor absoluto, todos os erros serão ponderados na mesma escala linear.\n",
    "Assim, ao contrário do *loss* L2, não estamos colocando muito peso nos valores com grande discrepância e a função de perda fornece uma medida genérica e uniforme do desempenho do modelo.\n",
    "\n",
    "Por outro lado, a desvantagem desta função é, para alguns casos, não dar pesos diferentes para específico valores discrepantes. Por exemplo, os erros relativamente grandes provenientes dos *outliers* acabam sendo ponderados exatamente como erros menores. Isso pode resultar em nosso modelo sendo ótimo na maior parte do tempo, mas fazendo algumas previsões muito ruins de vez em quando.\n",
    "\n",
    "Essa função pode ser facilmente implementada no MXNet, como pode ser visto [aqui](https://mxnet.incubator.apache.org/api/python/gluon/loss.html#mxnet.gluon.loss.L1Loss)."
   ]
  },
  {
   "cell_type": "code",
   "execution_count": 8,
   "metadata": {
    "colab": {
     "base_uri": "https://localhost:8080/",
     "height": 586
    },
    "colab_type": "code",
    "executionInfo": {
     "elapsed": 861,
     "status": "ok",
     "timestamp": 1562159643552,
     "user": {
      "displayName": "Keiller Nogueira",
      "photoUrl": "https://lh5.googleusercontent.com/-OSbB3k7-l84/AAAAAAAAAAI/AAAAAAAAAac/z8WNFFAmye0/s64/photo.jpg",
      "userId": "03938009311988397527"
     },
     "user_tz": 180
    },
    "id": "gYe6ZR3L9jxc",
    "outputId": "4f0a2e72-2e9c-4a6b-993b-adbcd5990e0b"
   },
   "outputs": [
    {
     "name": "stdout",
     "output_type": "stream",
     "text": [
      "epoch 1, loss: 2.684641\n",
      "epoch 2, loss: 0.671253\n",
      "epoch 3, loss: 0.015399\n",
      "\n",
      "[[6.3884983]]\n",
      "<NDArray 1x1 @cpu(0)> \n",
      "[6.3656797]\n",
      "<NDArray 1 @cpu(0)> \n",
      "[[-0.02281857]]\n",
      "<NDArray 1x1 @cpu(0)>\n",
      "\n",
      "[[7.023017]]\n",
      "<NDArray 1x1 @cpu(0)> \n",
      "[7.0060444]\n",
      "<NDArray 1 @cpu(0)> \n",
      "[[-0.01697254]]\n",
      "<NDArray 1x1 @cpu(0)>\n",
      "\n",
      "[[0.86212635]]\n",
      "<NDArray 1x1 @cpu(0)> \n",
      "[0.85329217]\n",
      "<NDArray 1 @cpu(0)> \n",
      "[[-0.00883418]]\n",
      "<NDArray 1x1 @cpu(0)>\n",
      "\n",
      "[[3.7051244]]\n",
      "<NDArray 1x1 @cpu(0)> \n",
      "[3.6847017]\n",
      "<NDArray 1 @cpu(0)> \n",
      "[[-0.0204227]]\n",
      "<NDArray 1x1 @cpu(0)>\n"
     ]
    }
   ],
   "source": [
    "seed = nd.array([2, -3.4])\n",
    "seed_gt = 4.2\n",
    "features, labels = synthetic_regression_data(seed, seed_gt, 1000)\n",
    "  \n",
    "batch_size = 10\n",
    "data_iter = load_array(features, labels, batch_size)\n",
    "\n",
    "# arquitetura super simples\n",
    "net = nn.Sequential()\n",
    "net.add(nn.Dense(1))\n",
    "net.initialize(init.Normal(sigma=0.01))\n",
    "\n",
    "loss = gloss.L1Loss()  # loss L1\n",
    "trainer = gluon.Trainer(net.collect_params(), 'sgd', {'learning_rate': 0.03})\n",
    "\n",
    "# treino\n",
    "num_epochs = 3\n",
    "for epoch in range(1, num_epochs + 1):\n",
    "    for X, y in data_iter:\n",
    "        with autograd.record():\n",
    "            l = loss(net(X), y)\n",
    "        l.backward()\n",
    "        trainer.step(batch_size)\n",
    "    l = loss(net(features), labels)\n",
    "    print('epoch %d, loss: %f' % (epoch, l.mean().asnumpy()))\n",
    "\n",
    "for i in range(995, 999):\n",
    "  y_hat = net(features[i:i+1, :])\n",
    "  print(y_hat, labels[i], labels[i] - y_hat)"
   ]
  },
  {
   "cell_type": "markdown",
   "metadata": {
    "colab_type": "text",
    "id": "FfLtl5pE-TYJ"
   },
   "source": [
    "## Huber *Loss* \n",
    "\n",
    "Vimos que a função de perda L2 tem certas vantangens (como conseguir aprender *outliers*), enquanto o *loss* L1 tem outros benefícios, como ignorar os *outliers*.\n",
    "Porém, existe uma forma de combinar e agregar os benefícios das duas?\n",
    "\n",
    "Sim! A Huber *Loss* oferece o melhor dos dois mundos, equilibrando as funções de perda L1 e L2 juntos. \n",
    "Formalmente, dado a valor real (*ground-truth*) $y$, e a predição feita pelo modelo $\\hat{y}$, a Huber *Loss* é definida pela seguinte equação:\n",
    "\n",
    "$$\n",
    "l_H^i(w, b) = \\sum_i \\begin{cases}\n",
    "                                        \\frac{1}{2\\rho} (\\hat{y}^i - y^i)^2, & \\text{if } |\\hat{y}^i - y^i| < \\rho\\\\\n",
    "                                        |\\hat{y}^i - y^i| - \\frac{\\rho}{2},  & \\text{otherwise}\n",
    "\\end{cases}\n",
    "$$\n",
    ", onde $\\rho$ é uma constance que define a margem.\n",
    "O que essa equação essencialmente diz é: para valores de perda menores que $\\rho$, use o *loss& L2; para valores de perda maiores que delta, use a função de custo L1.\n",
    "Isso efetivamente combina o melhor dos dois mundos das duas funções de perda!\n",
    "\n",
    "O uso da função de custo L1 para valores maiores reduz o peso que colocamos em valores discrepantes para que possamos obter um modelo completo. Ao mesmo tempo, usamos o *loss* L2 para valores menores de perda para manter uma função quadrática próxima ao centro.\n",
    "\n",
    "Essa função pode ser facilmente implementada no MXNet, como pode ser visto [aqui](https://mxnet.incubator.apache.org/api/python/gluon/loss.html#mxnet.gluon.loss.HuberLoss)."
   ]
  },
  {
   "cell_type": "code",
   "execution_count": 9,
   "metadata": {
    "colab": {
     "base_uri": "https://localhost:8080/",
     "height": 586
    },
    "colab_type": "code",
    "executionInfo": {
     "elapsed": 1164,
     "status": "ok",
     "timestamp": 1562159671158,
     "user": {
      "displayName": "Keiller Nogueira",
      "photoUrl": "https://lh5.googleusercontent.com/-OSbB3k7-l84/AAAAAAAAAAI/AAAAAAAAAac/z8WNFFAmye0/s64/photo.jpg",
      "userId": "03938009311988397527"
     },
     "user_tz": 180
    },
    "id": "98gc8lje-MCL",
    "outputId": "267831aa-e6e4-460b-e8ef-1700fb70f62e"
   },
   "outputs": [
    {
     "name": "stdout",
     "output_type": "stream",
     "text": [
      "epoch 1, loss: 2.246523\n",
      "epoch 2, loss: 0.367014\n",
      "epoch 3, loss: 0.001022\n",
      "\n",
      "[[0.10515881]]\n",
      "<NDArray 1x1 @cpu(0)> \n",
      "[0.10078488]\n",
      "<NDArray 1 @cpu(0)> \n",
      "[[-0.00437392]]\n",
      "<NDArray 1x1 @cpu(0)>\n",
      "\n",
      "[[5.6864]]\n",
      "<NDArray 1x1 @cpu(0)> \n",
      "[5.727647]\n",
      "<NDArray 1 @cpu(0)> \n",
      "[[0.04124689]]\n",
      "<NDArray 1x1 @cpu(0)>\n",
      "\n",
      "[[5.594713]]\n",
      "<NDArray 1x1 @cpu(0)> \n",
      "[5.641131]\n",
      "<NDArray 1 @cpu(0)> \n",
      "[[0.04641771]]\n",
      "<NDArray 1x1 @cpu(0)>\n",
      "\n",
      "[[4.2915864]]\n",
      "<NDArray 1x1 @cpu(0)> \n",
      "[4.3207493]\n",
      "<NDArray 1 @cpu(0)> \n",
      "[[0.02916288]]\n",
      "<NDArray 1x1 @cpu(0)>\n"
     ]
    }
   ],
   "source": [
    "seed = nd.array([2, -3.4])\n",
    "seed_gt = 4.2\n",
    "features, labels = synthetic_regression_data(seed, seed_gt, 1000)\n",
    "  \n",
    "batch_size = 10\n",
    "data_iter = load_array(features, labels, batch_size)\n",
    "\n",
    "# arquitetura super simples\n",
    "net = nn.Sequential()\n",
    "net.add(nn.Dense(1))\n",
    "net.initialize(init.Normal(sigma=0.01))\n",
    "\n",
    "loss = gloss.HuberLoss()  # loss Huber\n",
    "trainer = gluon.Trainer(net.collect_params(), 'sgd', {'learning_rate': 0.03})\n",
    "\n",
    "# treino\n",
    "num_epochs = 3\n",
    "for epoch in range(1, num_epochs + 1):\n",
    "    for X, y in data_iter:\n",
    "        with autograd.record():\n",
    "            l = loss(net(X), y)\n",
    "        l.backward()\n",
    "        trainer.step(batch_size)\n",
    "    l = loss(net(features), labels)\n",
    "    print('epoch %d, loss: %f' % (epoch, l.mean().asnumpy()))\n",
    "\n",
    "for i in range(995, 999):\n",
    "  y_hat = net(features[i:i+1, :])\n",
    "  print(y_hat, labels[i], labels[i] - y_hat)"
   ]
  },
  {
   "cell_type": "markdown",
   "metadata": {
    "colab_type": "text",
    "id": "8fG_HV8k1YOe"
   },
   "source": [
    "## *Loss Cross-Entropy*\n",
    "\n",
    "O função de custo chamada *cross-entropy* ou *log loss* é a mais usada em problemas de classificação.\n",
    "Essa função de perda, embasada pela teoria da informação, procura penalizar o *loss* baseado somente na classe correta de cada amostra.\n",
    "\n",
    "Formalmente, dado a valor real $y$, e a predição feita pelo modelo $\\hat{y}$, a *loss cross-entropy* é definida pela seguinte equação:\n",
    "\n",
    "$$\\mathcal{l}(w, b) = - \\sum_i y_i log~\\hat{y}_i $$\n",
    ", onde $\\hat{y}$ é saída normalizada (via [softmax](https://mxnet.incubator.apache.org/api/python/symbol/symbol.html#mxnet.symbol.Symbol.softmax)) da predição da rede.\n",
    "\n",
    "Em particular, no somatório apenas um termo será diferente de zero e esse termo será o $log$ da probabilidade (normalizada via [softmax](https://mxnet.incubator.apache.org/api/python/symbol/symbol.html#mxnet.symbol.Symbol.softmax)) atribuída à classe correta. Intuitivamente, isso faz sentido porque $log (x)$ está aumentando no intervalo (0,1), então $−log (x)$ está diminuindo naquele intervalo.\n",
    "Por exemplo, se tivermos uma amostra com probabilidade de 0.8 para o rótulo correto, o *loos* será penalizado em apenas 0.09.\n",
    "Já se tivermos uma probabilidade menor de 0.08, o *loss* será penalizado em 1,09.\n",
    "\n",
    "### Implementação\n",
    "\n",
    "Em frameworks atuais (como no MxNet, TensorFlow, e PyTorch), a implementação da função de custo *cross-entropy* é direta.\n",
    "\n",
    "**Um exemplo é mostrado abaixo utilizando o framework MxNet.**"
   ]
  },
  {
   "cell_type": "code",
   "execution_count": 10,
   "metadata": {
    "colab": {
     "base_uri": "https://localhost:8080/",
     "height": 496
    },
    "colab_type": "code",
    "executionInfo": {
     "elapsed": 87421,
     "status": "ok",
     "timestamp": 1560716058740,
     "user": {
      "displayName": "Keiller Nogueira",
      "photoUrl": "https://lh5.googleusercontent.com/-OSbB3k7-l84/AAAAAAAAAAI/AAAAAAAAAac/z8WNFFAmye0/s64/photo.jpg",
      "userId": "03938009311988397527"
     },
     "user_tz": 180
    },
    "id": "EFzoRhT51mW_",
    "outputId": "c8085739-bd15-4cb7-9e64-d120191b411b"
   },
   "outputs": [
    {
     "name": "stdout",
     "output_type": "stream",
     "text": [
      "Downloading /home/flaviovdf/.mxnet/datasets/mnist/train-images-idx3-ubyte.gz from https://apache-mxnet.s3-accelerate.dualstack.amazonaws.com/gluon/dataset/mnist/train-images-idx3-ubyte.gz...\n",
      "Downloading /home/flaviovdf/.mxnet/datasets/mnist/train-labels-idx1-ubyte.gz from https://apache-mxnet.s3-accelerate.dualstack.amazonaws.com/gluon/dataset/mnist/train-labels-idx1-ubyte.gz...\n",
      "Downloading /home/flaviovdf/.mxnet/datasets/mnist/t10k-images-idx3-ubyte.gz from https://apache-mxnet.s3-accelerate.dualstack.amazonaws.com/gluon/dataset/mnist/t10k-images-idx3-ubyte.gz...\n",
      "Downloading /home/flaviovdf/.mxnet/datasets/mnist/t10k-labels-idx1-ubyte.gz from https://apache-mxnet.s3-accelerate.dualstack.amazonaws.com/gluon/dataset/mnist/t10k-labels-idx1-ubyte.gz...\n",
      "training on cpu(0)\n",
      "epoch 1, train loss 2.3016, test loss 2.3009, time 4.5 sec\n",
      "epoch 2, train loss 1.8579, test loss 0.9812, time 4.4 sec\n",
      "epoch 3, train loss 0.5948, test loss 0.2471, time 3.8 sec\n",
      "epoch 4, train loss 0.1988, test loss 0.1579, time 4.3 sec\n",
      "epoch 5, train loss 0.1217, test loss 0.1154, time 4.0 sec\n",
      "epoch 6, train loss 0.0846, test loss 0.0998, time 3.9 sec\n",
      "epoch 7, train loss 0.0666, test loss 0.0983, time 3.8 sec\n",
      "epoch 8, train loss 0.0522, test loss 0.0860, time 3.9 sec\n",
      "epoch 9, train loss 0.0422, test loss 0.0933, time 3.8 sec\n",
      "epoch 10, train loss 0.0339, test loss 0.0928, time 3.2 sec\n",
      "epoch 11, train loss 0.0264, test loss 0.0881, time 3.2 sec\n",
      "epoch 12, train loss 0.0238, test loss 0.0919, time 3.3 sec\n",
      "epoch 13, train loss 0.0168, test loss 0.0902, time 3.3 sec\n",
      "epoch 14, train loss 0.0140, test loss 0.0897, time 4.3 sec\n",
      "epoch 15, train loss 0.0105, test loss 0.0986, time 3.5 sec\n",
      "epoch 16, train loss 0.0090, test loss 0.0942, time 4.4 sec\n",
      "epoch 17, train loss 0.0062, test loss 0.1217, time 5.3 sec\n",
      "epoch 18, train loss 0.0061, test loss 0.0940, time 7.9 sec\n",
      "epoch 19, train loss 0.7267, test loss 0.1493, time 6.2 sec\n",
      "epoch 20, train loss 0.1026, test loss 0.1159, time 7.5 sec\n"
     ]
    }
   ],
   "source": [
    "# parâmetros: número de epochs, learning rate (ou taxa de aprendizado), e \n",
    "# tamanho do batch\n",
    "num_epochs, lr, batch_size = 20, 0.5, 256\n",
    "\n",
    "# rede simples somente com perceptrons e camadas densamente conectadas\n",
    "net = nn.Sequential()\n",
    "net.add(nn.Dense(256, activation=\"relu\"),\n",
    "        nn.Dense(128, activation=\"relu\"),\n",
    "        nn.Dense(64, activation=\"relu\"),\n",
    "        nn.Dense(10))\n",
    "net.initialize(init.Normal(sigma=0.01), ctx=ctx)\n",
    "\n",
    "# função de custo (ou loss)\n",
    "loss = gloss.SoftmaxCrossEntropyLoss()\n",
    "\n",
    "# carregamento do dado: mnist\n",
    "train_iter, test_iter = load_data_mnist(batch_size)\n",
    "\n",
    "# trainer do gluon\n",
    "trainer = gluon.Trainer(net.collect_params(), 'sgd', {'learning_rate': lr})\n",
    "\n",
    "# treinamento e validação via MXNet\n",
    "train_validate(net, train_iter, test_iter, batch_size, trainer, loss, \n",
    "               ctx, num_epochs)"
   ]
  }
 ],
 "metadata": {
  "accelerator": "GPU",
  "colab": {
   "collapsed_sections": [],
   "name": "03.1 - Funcoes-de_Perda.ipynb",
   "provenance": [],
   "version": "0.3.2"
  },
  "kernelspec": {
   "display_name": "Python 3",
   "language": "python",
   "name": "python3"
  },
  "language_info": {
   "codemirror_mode": {
    "name": "ipython",
    "version": 3
   },
   "file_extension": ".py",
   "mimetype": "text/x-python",
   "name": "python",
   "nbconvert_exporter": "python",
   "pygments_lexer": "ipython3",
   "version": "3.6.8"
  }
 },
 "nbformat": 4,
 "nbformat_minor": 1
}
