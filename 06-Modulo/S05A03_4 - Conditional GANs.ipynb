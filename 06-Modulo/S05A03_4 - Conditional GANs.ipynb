{
  "nbformat": 4,
  "nbformat_minor": 0,
  "metadata": {
    "colab": {
      "name": "S05A03_4 - Conditional GANs.ipynb",
      "version": "0.3.2",
      "provenance": [],
      "collapsed_sections": []
    },
    "kernelspec": {
      "name": "python3",
      "display_name": "Python 3"
    },
    "accelerator": "GPU"
  },
  "cells": [
    {
      "cell_type": "markdown",
      "metadata": {
        "id": "do0o-c0P9wcM",
        "colab_type": "text"
      },
      "source": [
        "# Preâmbulo\n",
        "\n",
        "Imports, funções, downloads e instalação do Pytorch."
      ]
    },
    {
      "cell_type": "code",
      "metadata": {
        "id": "T4ATPZX-9qXK",
        "colab_type": "code",
        "colab": {}
      },
      "source": [
        " # Basic imports.\n",
        "import os\n",
        "import time\n",
        "import numpy as np\n",
        "import torch\n",
        "\n",
        "from torch import nn\n",
        "from torch import optim\n",
        "from torch.nn import functional as F\n",
        "\n",
        "from torch.utils.data import DataLoader\n",
        "from torch.utils import data\n",
        "from torch.backends import cudnn\n",
        "\n",
        "from torchvision import models\n",
        "from torchvision import datasets\n",
        "from torchvision import transforms\n",
        "\n",
        "from skimage import io\n",
        "\n",
        "from sklearn import metrics\n",
        "\n",
        "from matplotlib import pyplot as plt\n",
        "\n",
        "%matplotlib inline\n",
        "\n",
        "cudnn.benchmark = True"
      ],
      "execution_count": 0,
      "outputs": []
    },
    {
      "cell_type": "code",
      "metadata": {
        "id": "BuJgxyO-9z-4",
        "colab_type": "code",
        "colab": {}
      },
      "source": [
        "# Setting predefined arguments.\n",
        "args = {\n",
        "    'epoch_num': 25,      # Number of epochs.\n",
        "    'lr': 5e-4,           # Learning rate.\n",
        "    'weight_decay': 5e-5, # L2 penalty.\n",
        "    'num_workers': 8,     # Number of workers on data loader.\n",
        "    'batch_size': 500,    # Mini-batch size.\n",
        "    'print_freq': 1,      # Printing frequency.\n",
        "    'z_dim': 100,         # Dimension of z input vector.\n",
        "    'num_samples': 10,    # Number of samples to be generated in evaluation.\n",
        "    'num_classes': 10,    # Number of classes in dataset.\n",
        "    'img_size': 28,       # Image size (H and W).\n",
        "}\n",
        "\n",
        "if torch.cuda.is_available():\n",
        "    args['device'] = torch.device('cuda')\n",
        "else:\n",
        "    args['device'] = torch.device('cpu')\n",
        "\n",
        "print(args['device'])"
      ],
      "execution_count": 0,
      "outputs": []
    },
    {
      "cell_type": "markdown",
      "metadata": {
        "id": "XZA6okfQ98TP",
        "colab_type": "text"
      },
      "source": [
        "# Carregando o  MNIST"
      ]
    },
    {
      "cell_type": "code",
      "metadata": {
        "id": "OXQAwioI99NJ",
        "colab_type": "code",
        "colab": {}
      },
      "source": [
        "# Root directory for the dataset (to be downloaded).\n",
        "root = './'\n",
        "\n",
        "# Transformations over the dataset.\n",
        "data_transforms = transforms.Compose([\n",
        "    transforms.ToTensor(),\n",
        "])\n",
        "\n",
        "# Setting datasets and dataloaders.\n",
        "train_set = datasets.MNIST(root,\n",
        "                           train=True,\n",
        "                           download=True,\n",
        "                           transform=data_transforms)\n",
        "test_set = datasets.MNIST(root,\n",
        "                          train=False,\n",
        "                          download=False,\n",
        "                          transform=data_transforms)\n",
        "\n",
        "# Setting dataloaders.\n",
        "train_loader = DataLoader(train_set,\n",
        "                          args['batch_size'],\n",
        "                          num_workers=args['num_workers'],\n",
        "                          shuffle=True)\n",
        "test_loader = DataLoader(test_set,\n",
        "                         args['batch_size'],\n",
        "                         num_workers=args['num_workers'],\n",
        "                         shuffle=False)\n",
        "\n",
        "# Printing training and testing dataset sizes.\n",
        "print('Size of training set: ' + str(len(train_set)) + ' samples')\n",
        "print('Size of test set: ' + str(len(test_set)) + ' samples')"
      ],
      "execution_count": 0,
      "outputs": []
    },
    {
      "cell_type": "markdown",
      "metadata": {
        "id": "jHV0enX9-Ars",
        "colab_type": "text"
      },
      "source": [
        "# Treinamento Adversarial Condicional\n",
        "\n",
        "Podemos inserir o conceito de classe na nossa GAN ao passar o rótulo *c* de cada amostra para tanto $G$ quanto $D$. Dessa forma, $G$ vai otimizar a distribuição $p(x | z, c)$ usando o rótulo para gerar amostras da classe correta.\n",
        "\n",
        "![CGANS](https://www.dropbox.com/s/gqtc5710dsrd4rh/GANs_Architecture_CGAN.png?dl=1)\n",
        "\n",
        "Fazemos isso ao adicionar one-hot encodings de $c$ para cada amostra que são concatenados ao batch na dimensão 1 (tanto em $G$ quanto em $D$). Esse tipo de rede é conhecido como uma Conditional GAN (CGAN)."
      ]
    },
    {
      "cell_type": "markdown",
      "metadata": {
        "id": "WpfnWyeBWg0e",
        "colab_type": "text"
      },
      "source": [
        "# Atividade Prática: Transformar nossa GAN em uma CGAN\n",
        "\n",
        "1.   Implementar função *one_hot_encodings()*. Ela deve retornar 2 one-hot encodings: um para ser passado para $G$ e um para ser passado para $D$;\n",
        "2.   Reaproveitar as arquiteturas de $G$ e $D$ anteriores e adaptar a *self.fc* de $G$ para receber o one-hot encoding das classes das amostras junto de $z$, ou seja, *args\\['num_classes'\\]* dimensões a mais de input para $G$. O módulo $self.conv$ de $D$ também deve ser adaptado para receber *args\\['num_classes'\\]* canais a mais;\n",
        "3.   Complementar função *train()* para passar os encodings corretos para o *forward()* de cada rede;\n",
        "4.   Lembrar de realizar a concatenação de ($z$, *c*) no *forward()* de $G$ e ($x$, *c*) no *forward()* de $D$."
      ]
    },
    {
      "cell_type": "markdown",
      "metadata": {
        "id": "wqOLcgqZXvTz",
        "colab_type": "text"
      },
      "source": [
        "# Computando one-hot encodings para labels"
      ]
    },
    {
      "cell_type": "code",
      "metadata": {
        "id": "73gmwApIXv77",
        "colab_type": "code",
        "colab": {}
      },
      "source": [
        "# TO DO: Predefining one-hot encodings for G and D inputs.\n",
        "def one_hot_encodings(labs, batch_size, num_classes, img_size):\n",
        "\n",
        "    # TO DO: create array filled zeros with dimensions (B, #Classes).\n",
        "    batch_one_hot_g = # ...\n",
        "    \n",
        "    # TO DO: create array filled zeros with dimensions (B, #Classes, 28, 28).\n",
        "    batch_one_hot_d = # ...\n",
        "    \n",
        "    # TO DO: For each label in a sample in a batch, fill the corresponding\n",
        "    #        other dimensions in batch_one_hot_g and batch_one_hot_d with 1.\n",
        "    for i in range(labs.size(0)):\n",
        "\n",
        "        # ...\n",
        "        \n",
        "        # ...\n",
        "    \n",
        "    return batch_one_hot_g, batch_one_hot_d\n",
        "\n",
        "# Sanity test for function one_hot_encodings().\n",
        "labs = torch.randint_like(torch.zeros((4)), high=10, dtype=torch.long).to(args['device'])\n",
        "print(labs)\n",
        "one_hot_g, one_hot_d = one_hot_encodings(labs, 4, 10, 2)\n",
        "print(one_hot_g)"
      ],
      "execution_count": 0,
      "outputs": []
    },
    {
      "cell_type": "markdown",
      "metadata": {
        "id": "nvzdYk6v-gdd",
        "colab_type": "text"
      },
      "source": [
        "# Definindo o Gerador $G$"
      ]
    },
    {
      "cell_type": "code",
      "metadata": {
        "id": "r0FJQQU7-kP5",
        "colab_type": "code",
        "colab": {}
      },
      "source": [
        "# Adversarial Generator.\n",
        "class Generator(nn.Module):\n",
        "    \n",
        "    def __init__(self,\n",
        "                 input_dim=100,\n",
        "                 output_channels=1,\n",
        "                 input_size=28,\n",
        "                 num_classes=10):\n",
        "    \n",
        "        super(Generator, self).__init__()\n",
        "        \n",
        "        self.input_dim = input_dim\n",
        "        self.output_channels = output_channels\n",
        "        self.input_size = input_size\n",
        "        self.num_classes = num_classes\n",
        "\n",
        "        # TO DO: Define FC layers.\n",
        "        self.fc = # ...\n",
        "        \n",
        "        # TO DO: Define deconv layers.\n",
        "        self.deconv = # ...\n",
        "        \n",
        "        self.initialize_weights()\n",
        "\n",
        "        \n",
        "    # Function for randomly initializing weights.\n",
        "    def initialize_weights(self):\n",
        "        \n",
        "        for m in self.modules():\n",
        "            if isinstance(m, nn.Conv2d):\n",
        "                nn.init.kaiming_normal_(m.weight, mode='fan_out', nonlinearity='relu')\n",
        "                if m.bias is not None:\n",
        "                    nn.init.constant_(m.bias, 0)\n",
        "            elif isinstance(m, nn.BatchNorm2d):\n",
        "                nn.init.constant_(m.weight, 1)\n",
        "                nn.init.constant_(m.bias, 0)\n",
        "            elif isinstance(m, nn.Linear):\n",
        "                nn.init.normal_(m.weight, 0, 0.01)\n",
        "                nn.init.constant_(m.bias, 0)\n",
        "\n",
        "    def forward(self, z, c):\n",
        "        \n",
        "        # TO DO: Concat z and c.\n",
        "        # ...\n",
        "        \n",
        "        # TO DO: Forward.\n",
        "        # ...\n",
        "        \n",
        "# Instantiating G.\n",
        "net_G = Generator(input_dim=args['z_dim']).to(args['device'])\n",
        "\n",
        "# Printing architecture.\n",
        "print(net_G)"
      ],
      "execution_count": 0,
      "outputs": []
    },
    {
      "cell_type": "markdown",
      "metadata": {
        "id": "qsrfQ2eOsEZB",
        "colab_type": "text"
      },
      "source": [
        "# Definindo o Discriminador $D$"
      ]
    },
    {
      "cell_type": "code",
      "metadata": {
        "id": "Pai5kiN6DW2R",
        "colab_type": "code",
        "colab": {}
      },
      "source": [
        "# Adversarial Discriminator.\n",
        "class Discriminator(nn.Module):\n",
        "    \n",
        "    def __init__(self,\n",
        "                 input_channels=1,\n",
        "                 output_channels=1,\n",
        "                 input_size=28,\n",
        "                 num_classes=10):\n",
        "        \n",
        "        super(Discriminator, self).__init__()\n",
        "        \n",
        "        self.input_channels = input_channels\n",
        "        self.output_channels = output_channels\n",
        "        self.input_size = input_size\n",
        "        self.num_classes = num_classes\n",
        "        \n",
        "        # TO DO: Define conv layers.\n",
        "        self.conv = # ...\n",
        "        \n",
        "        # TO DO: Define FC layers.\n",
        "        self.fc = # ...\n",
        "        \n",
        "        self.initialize_weights()\n",
        "\n",
        "        \n",
        "    # Function for randomly initializing weights.\n",
        "    def initialize_weights(self):\n",
        "        \n",
        "        for m in self.modules():\n",
        "            if isinstance(m, nn.Conv2d):\n",
        "                nn.init.kaiming_normal_(m.weight, mode='fan_out', nonlinearity='relu')\n",
        "                if m.bias is not None:\n",
        "                    nn.init.constant_(m.bias, 0)\n",
        "            elif isinstance(m, nn.BatchNorm2d):\n",
        "                nn.init.constant_(m.weight, 1)\n",
        "                nn.init.constant_(m.bias, 0)\n",
        "            elif isinstance(m, nn.Linear):\n",
        "                nn.init.normal_(m.weight, 0, 0.01)\n",
        "                nn.init.constant_(m.bias, 0)\n",
        "                \n",
        "                \n",
        "    def forward(self, x, c):\n",
        "        \n",
        "        # TO DO: Concat x and c.\n",
        "        # ...\n",
        "        \n",
        "        # TO DO: Forward.\n",
        "        # ...\n",
        "\n",
        "# Instantiating D.\n",
        "net_D = Discriminator().to(args['device'])\n",
        "\n",
        "# Printing architecture.\n",
        "print(net_D)"
      ],
      "execution_count": 0,
      "outputs": []
    },
    {
      "cell_type": "markdown",
      "metadata": {
        "id": "HeUPraJ3EyeP",
        "colab_type": "text"
      },
      "source": [
        "# Definindo o otimizadores"
      ]
    },
    {
      "cell_type": "code",
      "metadata": {
        "id": "I83m3L4FEzgY",
        "colab_type": "code",
        "colab": {}
      },
      "source": [
        "# TO DO: defining optimizer for G.\n",
        "opt_G = # ...\n",
        "\n",
        "# TO DO: defining optimizer for D.\n",
        "opt_D = # ..."
      ],
      "execution_count": 0,
      "outputs": []
    },
    {
      "cell_type": "markdown",
      "metadata": {
        "id": "Kv0tdlhKQYOt",
        "colab_type": "text"
      },
      "source": [
        "# Definindo um Scheduler para os Learning Rates"
      ]
    },
    {
      "cell_type": "code",
      "metadata": {
        "id": "9MnD3mr9Qef6",
        "colab_type": "code",
        "colab": {}
      },
      "source": [
        "# TO DO: defining lr scheduler.\n",
        "scheduler_G = # ...\n",
        "scheduler_D = # ..."
      ],
      "execution_count": 0,
      "outputs": []
    },
    {
      "cell_type": "markdown",
      "metadata": {
        "id": "25Cvxt95E-A0",
        "colab_type": "text"
      },
      "source": [
        "# Definindo a loss composta"
      ]
    },
    {
      "cell_type": "code",
      "metadata": {
        "id": "Pg8SIpVnFCID",
        "colab_type": "code",
        "colab": {}
      },
      "source": [
        "# TO DO: defining adversarial loss.\n",
        "criterion = # ..."
      ],
      "execution_count": 0,
      "outputs": []
    },
    {
      "cell_type": "markdown",
      "metadata": {
        "id": "K-gUQrX7Fvf-",
        "colab_type": "text"
      },
      "source": [
        "# Criando funções para Treino e Teste"
      ]
    },
    {
      "cell_type": "code",
      "metadata": {
        "id": "4RUHQYKgFxz3",
        "colab_type": "code",
        "colab": {}
      },
      "source": [
        "# Training procedure.\n",
        "def train(train_loader,\n",
        "          net_G, net_D,\n",
        "          criterion,\n",
        "          opt_G, opt_D,\n",
        "          epoch,\n",
        "          train_loss_G, train_loss_D):\n",
        "    \n",
        "    tic = time.time()\n",
        "    \n",
        "    # Predefining ones and zeros for batches.\n",
        "    y_real = torch.ones(args['batch_size'], 1).to(args['device'])\n",
        "    y_fake = torch.zeros(args['batch_size'], 1).to(args['device'])\n",
        "\n",
        "    # Setting networks for training mode.\n",
        "    net_D.train()\n",
        "    net_G.train()\n",
        "    \n",
        "    # Iterating over batches.\n",
        "    for i, batch_data in enumerate(train_loader):\n",
        "        \n",
        "        # Obtaining images and labels for batch.\n",
        "        x, labs = batch_data\n",
        "        \n",
        "        # TO DO: Creating random vector z with size (batch_size, z_dim).\n",
        "        z = # ...\n",
        "        \n",
        "        # TO DO: Generating random values for batch fake_labs.\n",
        "        fake_labs = torch.randint_like(labs, high=10, dtype=torch.long).to(args['device'])\n",
        "        \n",
        "        # TO DO: Casting to correct device (x, z, labs and fake_labs).\n",
        "        # ...\n",
        "        \n",
        "        # TO DO: Computing one-hot encodings for batch labs and fake_labs.\n",
        "        one_hot_g_fake, one_hot_d_fake = # ...\n",
        "        one_hot_g_real, one_hot_d_real = #... \n",
        "        \n",
        "        ###############\n",
        "        # Updating D. #\n",
        "        ###############\n",
        "        \n",
        "        # TO DO: Clearing the gradients of D optimizer.\n",
        "        # ...\n",
        "\n",
        "        # TO DO: Forwarding real data.\n",
        "        D_real = # ... # Through D.\n",
        "        \n",
        "        # TO DO: Computing loss for real data.\n",
        "        D_real_loss = # ...\n",
        "\n",
        "        # TO DO: Forwarding fake data.\n",
        "        G_out = # ... # Through G.\n",
        "        \n",
        "        D_fake = # ... # Through D.\n",
        "        \n",
        "        # TO DO: Computing loss for fake data.\n",
        "        D_fake_loss = # ...\n",
        "\n",
        "        # TO DO: Computing total loss for D.\n",
        "        D_loss = # ...\n",
        "        \n",
        "        # TO DO: Computing backpropagation for D.\n",
        "        # ...\n",
        "        \n",
        "        # TO DO: Taking step in D optimizer.\n",
        "        # ...\n",
        "\n",
        "        ###############\n",
        "        # Updating G. #\n",
        "        ###############\n",
        "        \n",
        "        # TO DO: Clearing the gradients of G optimizer.\n",
        "        # ...\n",
        "\n",
        "        # TO DO: Forwarding fake data.\n",
        "        G_out = # ... # Through G.\n",
        "        \n",
        "        D_fake = # ... # Through D.\n",
        "        \n",
        "        # TO DO: Computing loss for G.\n",
        "        G_loss = # ...\n",
        "        \n",
        "        # TO DO: Computing backpropagation for G.\n",
        "        # ...\n",
        "        \n",
        "        # TO DO: Taking step in G optimizer.\n",
        "        # ...\n",
        "        \n",
        "        \n",
        "        # Updating lists.\n",
        "        train_loss_G.append(G_loss.data.item())\n",
        "        train_loss_D.append(D_loss.data.item())\n",
        "\n",
        "    toc = time.time()\n",
        "    \n",
        "    # Printing training epoch loss.\n",
        "    print('-------------------------------------------------------------------')\n",
        "    print('[epoch %d], [training time %.2f]' % (\n",
        "        epoch, (toc - tic)))\n",
        "    print('-------------------------------------------------------------------')\n",
        "    \n",
        "    if epoch % args['print_freq'] == 0:\n",
        "        \n",
        "        # Plotting losses.\n",
        "        fig, ax = plt.subplots(1, 2, figsize=(16, 4))\n",
        "\n",
        "        ax[0].plot(np.asarray(train_loss_G), 'r-', label='G loss')\n",
        "        ax[0].legend()\n",
        "        \n",
        "        ax[1].plot(np.asarray(train_loss_D), 'b--', label='D loss')\n",
        "        ax[1].legend()\n",
        "\n",
        "        plt.show()\n",
        "        \n",
        "    return train_loss_G, train_loss_D"
      ],
      "execution_count": 0,
      "outputs": []
    },
    {
      "cell_type": "code",
      "metadata": {
        "id": "0t2N1kgQNMTl",
        "colab_type": "code",
        "colab": {}
      },
      "source": [
        "# Evaluating procedure.\n",
        "def evaluate(net_G, criterion, epoch):\n",
        "    \n",
        "    # Setting networks for training mode.\n",
        "    net_D.eval()\n",
        "    net_G.eval()\n",
        "    \n",
        "    fake_labs = torch.randint_like(torch.zeros((args['num_samples'] * args['num_samples'])),\n",
        "                                   high=10,\n",
        "                                   dtype=torch.long).to(args['device'])\n",
        "    \n",
        "    one_hot_g, one_hot_d = one_hot_encodings(fake_labs,\n",
        "                                             args['num_samples'] * args['num_samples'],\n",
        "                                             args['num_classes'],\n",
        "                                             args['img_size'])\n",
        "    \n",
        "    # Creating random vector z.\n",
        "    z = torch.rand((args['num_samples'] * args['num_samples'], args['z_dim']))\n",
        "    \n",
        "    # Casting to correct device.\n",
        "    z = z.to(args['device'])\n",
        "    \n",
        "    # Generating new samples.\n",
        "    G_out = net_G(z, one_hot_g)\n",
        "    \n",
        "    # Plotting.\n",
        "    fig, ax = plt.subplots(args['num_samples'],\n",
        "                           args['num_samples'],\n",
        "                           figsize=(20, 20))\n",
        "    \n",
        "    for i in range(args['num_samples']):\n",
        "        \n",
        "        for j in range(args['num_samples']):\n",
        "            \n",
        "            sample = G_out[j * args['num_samples'] + i]\n",
        "            \n",
        "            ax[j, i].imshow(sample.detach().cpu().numpy().squeeze(),\n",
        "                            cmap=plt.get_cmap('gray'))\n",
        "            ax[j, i].set_yticks([])\n",
        "            ax[j, i].set_xticks([])\n",
        "            ax[j, i].set_title('Label: ' + str(fake_labs[j * args['num_samples'] + i].item()))\n",
        "            \n",
        "    plt.show()"
      ],
      "execution_count": 0,
      "outputs": []
    },
    {
      "cell_type": "markdown",
      "metadata": {
        "id": "NhC6uqUpJO8Y",
        "colab_type": "text"
      },
      "source": [
        "# Iterando sobre epochs"
      ]
    },
    {
      "cell_type": "code",
      "metadata": {
        "id": "hnbf0HVDJKTC",
        "colab_type": "code",
        "colab": {}
      },
      "source": [
        "# Lists for losses.\n",
        "train_loss_G = []\n",
        "train_loss_D = []\n",
        "\n",
        "# Iterating over epochs.\n",
        "for epoch in range(1, args['epoch_num'] + 1):\n",
        "\n",
        "    # Training function.\n",
        "    train_loss_G, train_loss_D = train(train_loader,\n",
        "                                       net_G, net_D,\n",
        "                                       criterion,\n",
        "                                       opt_G, opt_D,\n",
        "                                       epoch,\n",
        "                                       train_loss_G, train_loss_D)\n",
        "    \n",
        "    # Taking step on scheduler.\n",
        "    scheduler_G.step()\n",
        "    scheduler_D.step()\n",
        "\n",
        "    if epoch % args['print_freq'] == 0:\n",
        "        \n",
        "        # Testing function for sample generation.\n",
        "        evaluate(net_G, criterion, epoch)"
      ],
      "execution_count": 0,
      "outputs": []
    }
  ]
}