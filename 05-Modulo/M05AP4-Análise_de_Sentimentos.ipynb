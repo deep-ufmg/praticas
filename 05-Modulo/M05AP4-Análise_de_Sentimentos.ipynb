{
  "nbformat": 4,
  "nbformat_minor": 0,
  "metadata": {
    "colab": {
      "name": "S05A02_2 - Análise de Sentimentos.ipynb",
      "version": "0.3.2",
      "provenance": [],
      "collapsed_sections": []
    },
    "kernelspec": {
      "name": "python3",
      "display_name": "Python 3"
    },
    "accelerator": "GPU"
  },
  "cells": [
    {
      "cell_type": "markdown",
      "metadata": {
        "id": "cRmGzugay1zH",
        "colab_type": "text"
      },
      "source": [
        "# Preâmbulo\n",
        "\n",
        "Imports básicos\n"
      ]
    },
    {
      "cell_type": "code",
      "metadata": {
        "id": "_i1QxWp04tmc",
        "colab_type": "code",
        "outputId": "f8a0a5d3-7732-45b0-c303-a6520c752f41",
        "colab": {
          "base_uri": "https://localhost:8080/",
          "height": 34
        }
      },
      "source": [
        "# Basic imports.\n",
        "import os\n",
        "import time\n",
        "import random\n",
        "import numpy as np\n",
        "import torch\n",
        "\n",
        "from torch import nn\n",
        "from torch import optim\n",
        "import torch.nn.functional as F\n",
        "\n",
        "from torch.utils.data import DataLoader\n",
        "from torch.utils import data\n",
        "from torch.backends import cudnn\n",
        "\n",
        "from sklearn import metrics\n",
        "\n",
        "from torchtext import data\n",
        "from torchtext import datasets\n",
        "\n",
        "from matplotlib import pyplot as plt\n",
        "%matplotlib inline\n",
        "\n",
        "cudnn.benchmark = True\n",
        "\n",
        "SEED = 1234\n",
        "torch.manual_seed(SEED)"
      ],
      "execution_count": 0,
      "outputs": [
        {
          "output_type": "execute_result",
          "data": {
            "text/plain": [
              "<torch._C.Generator at 0x7f2470f5ff90>"
            ]
          },
          "metadata": {
            "tags": []
          },
          "execution_count": 1
        }
      ]
    },
    {
      "cell_type": "code",
      "metadata": {
        "id": "jjxhn0iD4oA7",
        "colab_type": "code",
        "outputId": "340307a9-1753-4f04-d09b-8a00f0382ca7",
        "colab": {
          "base_uri": "https://localhost:8080/",
          "height": 34
        }
      },
      "source": [
        "# Setting predefined arguments.\n",
        "args = {\n",
        "    'epoch_num': 5,       # Number of epochs.\n",
        "    'lr': 1e-3,           # Learning rate.\n",
        "    'weight_decay': 5e-4, # L2 penalty.\n",
        "    'momentum': 0.9,      # Momentum.\n",
        "    'num_workers': 6,     # Number of workers on data loader.\n",
        "    'batch_size': 10,     # Mini-batch size.\n",
        "    'clip_norm': 6.0,     # Upper limit on gradient L2 norm ###\n",
        "}\n",
        "\n",
        "if torch.cuda.is_available():\n",
        "    args['device'] = torch.device('cuda')\n",
        "else:\n",
        "    args['device'] = torch.device('cpu')\n",
        "\n",
        "print(args['device'])"
      ],
      "execution_count": 0,
      "outputs": [
        {
          "output_type": "stream",
          "text": [
            "cuda\n"
          ],
          "name": "stdout"
        }
      ]
    },
    {
      "cell_type": "markdown",
      "metadata": {
        "id": "Ij33hY1dzFJZ",
        "colab_type": "text"
      },
      "source": [
        "## IMDB Movie Reviews\n",
        "\n",
        "Dataset disponível no torchtext, contendo 50 mil amostras polarizadas de reviews de filmes no IMDB."
      ]
    },
    {
      "cell_type": "code",
      "metadata": {
        "colab_type": "code",
        "outputId": "c74ed124-4882-4979-9339-583e326e2537",
        "id": "9WPQXd0dSSuC",
        "colab": {
          "base_uri": "https://localhost:8080/",
          "height": 51
        }
      },
      "source": [
        "TEXT = data.Field(tokenize = 'spacy', include_lengths = True)\n",
        "LABEL = data.LabelField(dtype = torch.float)\n",
        "\n",
        "train_data, test_data = datasets.IMDB.splits(TEXT, LABEL)\n",
        "train_data, valid_data = train_data.split(random_state = random.seed(SEED))\n",
        "\n",
        "MAX_VOCAB_SIZE = 25_000\n",
        "\n",
        "TEXT.build_vocab(train_data, \n",
        "                 max_size = MAX_VOCAB_SIZE, \n",
        "                 vectors = \"glove.6B.100d\", \n",
        "                 unk_init = torch.Tensor.normal_)\n",
        "\n",
        "LABEL.build_vocab(train_data)\n",
        "\n",
        "train_iterator, valid_iterator, test_iterator = data.BucketIterator.splits(\n",
        "    (train_data, valid_data, test_data), \n",
        "    batch_size = args['batch_size'],\n",
        "    sort_within_batch = True,\n",
        "    device = args['device'])"
      ],
      "execution_count": 0,
      "outputs": [
        {
          "output_type": "stream",
          "text": [
            "downloading aclImdb_v1.tar.gz\n"
          ],
          "name": "stdout"
        },
        {
          "output_type": "stream",
          "text": [
            "aclImdb_v1.tar.gz: 100%|██████████| 84.1M/84.1M [00:07<00:00, 11.4MB/s]\n"
          ],
          "name": "stderr"
        }
      ]
    },
    {
      "cell_type": "code",
      "metadata": {
        "id": "Mpb0yplpySL6",
        "colab_type": "code",
        "outputId": "fe0db0d3-34af-4332-cf9e-ff03a62da746",
        "colab": {
          "base_uri": "https://localhost:8080/",
          "height": 71
        }
      },
      "source": [
        "for sample in train_data:\n",
        "  print(sample.text)\n",
        "  print(sample.label)\n",
        "  break"
      ],
      "execution_count": 0,
      "outputs": [
        {
          "output_type": "stream",
          "text": [
            "['Unbelievably', 'bad', 'acting', ',', 'a', 'no', 'good', ',', 'unclear', 'story', 'and', 'flashy', 'images', 'and', 'slow', '-', 'motions', 'where', 'they', 'are', 'needed', 'the', 'least', ':', 'Adrenaline', 'is', 'everything', 'a', 'movie', 'should', 'not', 'be.<br', '/><br', '/>Georgina', 'Verbaan', '(', 'a', 'so', '-', 'and', '-', 'so', 'dutch', 'soap', 'actress', 'who', 'has', \"n't\", 'attended', 'her', 'English', 'classes', ')', 'plays', 'rich', 'girl', 'Freya', ',', 'who', 'has', 'the', 'habit', 'of', \"'\", 'thrill', '-', 'seeking', \"'\", '.', 'Which', 'basicly', 'is', 'doing', 'dangerous', 'stunts', ',', 'break', 'stuff', 'and', 'annoy', 'people', '.', 'And', 'not', 'in', 'a', 'fun', 'Jackass', 'way', '.', 'Then', 'there', \"'s\", 'Dracko', '(', 'Rivas', ')', '.', 'He', 'kinda', 'leads', 'the', 'bunch', 'but', 'has', 'other', 'illegal', 'activities', 'on', 'the', 'side', '.', 'Then', 'there', \"'s\", 'Freya', \"'s\", 'dad', '(', 'Lockyer', ')', ',', 'who', 'plays', 'a', 'dubious', 'role', 'as', 'well', '.', 'And', ',', 'in', 'the', 'end', ',', 'we', 'got', 'Jason', '(', 'debutant', 'Fyall', ')', ',', 'the', 'boyfriend', 'of', 'Freya.<br', '/><br', '/>One', 'day', ',', 'Freya', 'gets', 'disappeared', 'and', 'everybody', 'seems', 'involved', 'but', 'we', ',', 'the', 'viewer', 'really', 'do', \"n't\", 'care', 'as', 'nobody', 'of', 'the', 'cast', 'is', 'either', 'likable', 'or', 'believable', ',', 'and', 'the', 'story', 'does', \"n't\", 'make', 'any', 'sense.<br', '/><br', '/>Why', 'was', 'this', 'even', 'made', '?', '2/10', '.']\n",
            "neg\n"
          ],
          "name": "stdout"
        }
      ]
    },
    {
      "cell_type": "markdown",
      "metadata": {
        "id": "MnDMjbbhugxU",
        "colab_type": "text"
      },
      "source": [
        "# Atividade Prática\n",
        "\n",
        "A prática de hoje é inspirada na arquitetura proposta em: https://github.com/NVIDIA/sentiment-discovery\n",
        "*  A NVIDIA treinou um modelo de linguagem capaz de aprender a classificar sentimentos de forma não supervisionada\n",
        "*  Essa atividade é uma versão bastante reduzida da arquitetura e realiza treinamento supervisionado.\n",
        "\n",
        "O objetivo é treinar um modelo recorrente para classificar a emoção em um texto de forma binária (positiva e negativa). Essa área, e suas vertentes mais sofisticadas, recebem o nome de Análise de Sentimentos. Para isso, usaremos a arquitetura proposta na imagem a seguir, a qual agrega a informação acumulada em todos os timesteps. Se tratando de uma rede bidirecional, o hidden state produzido em todos os timesteps possui alto potencial discriminativo. \n",
        "\n",
        "Realizaremos a técnica do **Concat Pooling**, explorando a capacidade do pooling adaptativo de produzir uma saída de tamanho fixo independente do tamanho da entrada. Isso nos permite transformar as saídas de uma sequência de qualquer tamanho em uma única saída altamente informativa.\n",
        "\n",
        "![](https://drive.google.com/uc?export=view&id=1Rkzr_eIZb8-AditmY1TWga814oPxPvoA)\n",
        "\n",
        "## Init\n",
        "\n",
        "Mantivemos a nomenclatura de blocos utilizada na arquitetura de [Sentiment Discovery](https://github.com/NVIDIA/sentiment-discovery), apesar de no nosso serem blocos de camadas solitárias. É importante absorver a intuição de cada um desses blocos quando nos depararmos com modelos maiores.\n",
        "\n",
        "### Encoder\n",
        "Esse bloco é responsável por projetar as palavras da entrada em um espaço de maior semântica. O uso do dropout após uma camada de embedding impede que determinadas palavras dominem a classficação, evitando overfit.\n",
        "* Embedding\n",
        "* Dropout \n",
        "\n",
        "Lembre-se de carregar os pesos pré treinados do GloVe, como vimos no notebook anterior.\n",
        "\n",
        "### Featurizer\n",
        "Aqui construiremos as features recorrentes. Essa etapa inclui o pooling da média e da máxima na dimensão do tempo, porém sugerimos implementar na função do forward.\n",
        "* BiLSTM: 1 camada com 64 neurônios (modelos muito grandes vão demorar **muito** de treinar)\n",
        "\n",
        "### Classifier\n",
        "Uma vez construído o vetor de características recorrentes (a saída do concat pool), vamos alimentar uma camada densa para realizar a classificação. \n",
        "* Linear\n",
        "* Sigmoid\n",
        "\n",
        "**Atenção:** qual a dimensionalidade de entrada da camada densa?\n",
        "\n",
        "## Forward\n",
        "\n",
        "O único detalhe diferente do que estamos acostumados é a realização do concat pooling. Na transição entre o featurizer o classifier, utilize as funções a seguir para aplicar duas formas de **pooling na dimensão do tempo** nos hidden states. \n",
        "\n",
        "*  Adaptive Average Pooling https://pytorch.org/docs/stable/nn.html?highlight=adaptive#torch.nn.functional.adaptive_avg_pool1d\n",
        "*  Adaptive Max Pooling https://pytorch.org/docs/stable/nn.html?highlight=adaptive#torch.nn.functional.adaptive_max_pool1d\n"
      ]
    },
    {
      "cell_type": "code",
      "metadata": {
        "id": "aPtfS-_OXV1m",
        "colab_type": "code",
        "outputId": "b4c9b57d-7a0a-4e58-96ae-a0392f08b185",
        "colab": {
          "base_uri": "https://localhost:8080/",
          "height": 136
        }
      },
      "source": [
        "# TODO Implemente aqui o seu modelo"
      ],
      "execution_count": 0,
      "outputs": [
        {
          "output_type": "stream",
          "text": [
            "BiLSTM(\n",
            "  (embedding): Embedding(25002, 100, padding_idx=1)\n",
            "  (dropout): Dropout(p=0.5)\n",
            "  (bilstm): LSTM(100, 64, bidirectional=True)\n",
            "  (linear): Linear(in_features=256, out_features=1, bias=True)\n",
            "  (activation): Sigmoid()\n",
            ")\n"
          ],
          "name": "stdout"
        }
      ]
    },
    {
      "cell_type": "code",
      "metadata": {
        "id": "uK1YkalKXZ6n",
        "colab_type": "code",
        "colab": {}
      },
      "source": [
        "# TODO Setting optimizer.\n"
      ],
      "execution_count": 0,
      "outputs": []
    },
    {
      "cell_type": "markdown",
      "metadata": {
        "id": "Gxukr3BnW2oI",
        "colab_type": "text"
      },
      "source": [
        "**Loss de classificação binária**: BCE (Binary Cross Entropy)\n",
        "\n",
        "Documentação: https://pytorch.org/docs/stable/nn.html#torch.nn.BCELoss"
      ]
    },
    {
      "cell_type": "code",
      "metadata": {
        "id": "s3i7BVYPXfDC",
        "colab_type": "code",
        "colab": {}
      },
      "source": [
        "# TODO Setting loss.\n"
      ],
      "execution_count": 0,
      "outputs": []
    },
    {
      "cell_type": "code",
      "metadata": {
        "id": "w2Gr9zNOXg94",
        "colab_type": "code",
        "colab": {}
      },
      "source": [
        "def binary_accuracy(preds, y):\n",
        "    \"\"\"\n",
        "    Returns accuracy per batch, i.e. if you get 8/10 right, this returns 0.8, NOT 8\n",
        "    \"\"\"\n",
        "\n",
        "    #round predictions to the closest integer\n",
        "    rounded_preds = torch.round(preds)\n",
        "    correct = (rounded_preds == y).float() #convert into float for division \n",
        "    acc = correct.sum() / len(correct)\n",
        "    return acc\n",
        "\n",
        "def train(train_loader, net, criterion, optimizer, epoch):\n",
        "\n",
        "    tic = time.time()\n",
        "    \n",
        "    # Setting network for training mode.\n",
        "    net.train()\n",
        "\n",
        "    # Lists for losses and metrics.\n",
        "    train_loss = []\n",
        "    \n",
        "    # Iterating over batches.\n",
        "    for i, batch_data in enumerate(train_loader):\n",
        "\n",
        "        # Obtaining images, labels and paths for batch.\n",
        "        text, text_lengths = batch_data.text\n",
        "        labs = batch_data.label\n",
        "\n",
        "        \n",
        "        # TODO: Passos de treinamento\n",
        "        \n",
        "        \n",
        "        \n",
        "        # Updating lists.\n",
        "        train_loss.append(loss.data.item())\n",
        "    \n",
        "    toc = time.time()\n",
        "    \n",
        "    train_loss = np.asarray(train_loss)\n",
        "    \n",
        "    # Printing training epoch loss and metrics.\n",
        "\n",
        "    print('--------------------------------------------------------------------')\n",
        "    print('[epoch %d], [train loss %.4f +/- %.4f], [training time %.2f]' % (\n",
        "        epoch, train_loss.mean(), train_loss.std(), (toc - tic)))\n",
        "    print('--------------------------------------------------------------------')\n",
        "\n",
        "def test(test_loader, net, criterion, epoch):\n",
        "\n",
        "    tic = time.time()\n",
        "    \n",
        "    # Setting network for evaluation mode (not computing gradients).\n",
        "    net.eval()\n",
        "\n",
        "    # Lists for losses and metrics.\n",
        "    test_loss = []\n",
        "    acc_list = []\n",
        "    lab_list = []\n",
        "    \n",
        "    # Iterating over batches.\n",
        "    for i, batch_data in enumerate(test_loader):\n",
        "\n",
        "        # Obtaining images, labels and paths for batch.\n",
        "        text, text_lengths = batch_data.text\n",
        "        labs = batch_data.label\n",
        "\n",
        "        # TODO Forwarding.\n",
        "\n",
        "\n",
        "        # TODO Computing loss.\n",
        "        \n",
        "                \n",
        "        # Updating lists.\n",
        "        test_loss.append(loss.data.item())\n",
        "        acc_list.append(binary_accuracy(outs, labs).detach().cpu().numpy())\n",
        "        lab_list.append(labs.detach().cpu().numpy())\n",
        "    \n",
        "    toc = time.time()\n",
        "    \n",
        "#     Computing accuracy.\n",
        "    acc = np.mean(acc_list)\n",
        "    \n",
        "    test_loss = np.asarray(test_loss)\n",
        "    \n",
        "    # Printing training epoch loss and metrics.\n",
        "   \n",
        "    print('********************************************************************')\n",
        "    print('[epoch %d], [test loss %.4f +/- %.4f], [acc %.4f] [testing time %.2f]' % (\n",
        "        epoch, test_loss.mean(), test_loss.std(), acc, (toc - tic)))\n",
        "    print('********************************************************************')\n"
      ],
      "execution_count": 0,
      "outputs": []
    },
    {
      "cell_type": "code",
      "metadata": {
        "id": "xv1H9v7PXlbV",
        "colab_type": "code",
        "outputId": "8658fcec-3a4c-47f3-9617-9c298fa1526c",
        "colab": {
          "base_uri": "https://localhost:8080/",
          "height": 680
        }
      },
      "source": [
        "# Iterating over epochs.\n",
        "for epoch in range(1, args['epoch_num'] + 1):\n",
        "\n",
        "    # Training function.\n",
        "    train(train_iterator, net, criterion, optimizer, epoch)\n",
        "\n",
        "    # Computing test loss and metrics.\n",
        "    test(test_iterator, net, criterion, epoch)\n",
        "\n"
      ],
      "execution_count": 0,
      "outputs": [
        {
          "output_type": "stream",
          "text": [
            "--------------------------------------------------------------------\n",
            "[epoch 1], [train loss 0.5294 +/- 0.1680], [training time 75.99]\n",
            "--------------------------------------------------------------------\n",
            "********************************************************************\n",
            "[epoch 1], [test loss 0.4302 +/- 0.3067], [acc 0.8122] [testing time 41.04]\n",
            "********************************************************************\n",
            "--------------------------------------------------------------------\n",
            "[epoch 2], [train loss 0.3385 +/- 0.1803], [training time 76.31]\n",
            "--------------------------------------------------------------------\n",
            "********************************************************************\n",
            "[epoch 2], [test loss 0.3211 +/- 0.2031], [acc 0.8625] [testing time 40.97]\n",
            "********************************************************************\n",
            "--------------------------------------------------------------------\n",
            "[epoch 3], [train loss 0.2782 +/- 0.1706], [training time 76.56]\n",
            "--------------------------------------------------------------------\n",
            "********************************************************************\n",
            "[epoch 3], [test loss 0.3066 +/- 0.2025], [acc 0.8713] [testing time 40.75]\n",
            "********************************************************************\n"
          ],
          "name": "stdout"
        },
        {
          "output_type": "error",
          "ename": "KeyboardInterrupt",
          "evalue": "ignored",
          "traceback": [
            "\u001b[0;31m---------------------------------------------------------------------------\u001b[0m",
            "\u001b[0;31mKeyboardInterrupt\u001b[0m                         Traceback (most recent call last)",
            "\u001b[0;32m<ipython-input-58-4196ee387bdc>\u001b[0m in \u001b[0;36m<module>\u001b[0;34m()\u001b[0m\n\u001b[1;32m      2\u001b[0m \u001b[0;34m\u001b[0m\u001b[0m\n\u001b[1;32m      3\u001b[0m     \u001b[0;31m# Training function.\u001b[0m\u001b[0;34m\u001b[0m\u001b[0;34m\u001b[0m\u001b[0;34m\u001b[0m\u001b[0m\n\u001b[0;32m----> 4\u001b[0;31m     \u001b[0mtrain\u001b[0m\u001b[0;34m(\u001b[0m\u001b[0mtrain_iterator\u001b[0m\u001b[0;34m,\u001b[0m \u001b[0mnet\u001b[0m\u001b[0;34m,\u001b[0m \u001b[0mcriterion\u001b[0m\u001b[0;34m,\u001b[0m \u001b[0moptimizer\u001b[0m\u001b[0;34m,\u001b[0m \u001b[0mepoch\u001b[0m\u001b[0;34m)\u001b[0m\u001b[0;34m\u001b[0m\u001b[0;34m\u001b[0m\u001b[0m\n\u001b[0m\u001b[1;32m      5\u001b[0m \u001b[0;34m\u001b[0m\u001b[0m\n\u001b[1;32m      6\u001b[0m     \u001b[0;31m# Computing test loss and metrics.\u001b[0m\u001b[0;34m\u001b[0m\u001b[0;34m\u001b[0m\u001b[0;34m\u001b[0m\u001b[0m\n",
            "\u001b[0;32m<ipython-input-57-c5e31c5007be>\u001b[0m in \u001b[0;36mtrain\u001b[0;34m(train_loader, net, criterion, optimizer, epoch)\u001b[0m\n\u001b[1;32m     43\u001b[0m \u001b[0;34m\u001b[0m\u001b[0m\n\u001b[1;32m     44\u001b[0m         \u001b[0;31m# Weight update\u001b[0m\u001b[0;34m\u001b[0m\u001b[0;34m\u001b[0m\u001b[0;34m\u001b[0m\u001b[0m\n\u001b[0;32m---> 45\u001b[0;31m         \u001b[0moptimizer\u001b[0m\u001b[0;34m.\u001b[0m\u001b[0mstep\u001b[0m\u001b[0;34m(\u001b[0m\u001b[0;34m)\u001b[0m\u001b[0;34m\u001b[0m\u001b[0;34m\u001b[0m\u001b[0m\n\u001b[0m\u001b[1;32m     46\u001b[0m \u001b[0;34m\u001b[0m\u001b[0m\n\u001b[1;32m     47\u001b[0m         \u001b[0;31m# Updating lists.\u001b[0m\u001b[0;34m\u001b[0m\u001b[0;34m\u001b[0m\u001b[0;34m\u001b[0m\u001b[0m\n",
            "\u001b[0;32m/usr/local/lib/python3.6/dist-packages/torch/optim/adam.py\u001b[0m in \u001b[0;36mstep\u001b[0;34m(self, closure)\u001b[0m\n\u001b[1;32m     88\u001b[0m \u001b[0;34m\u001b[0m\u001b[0m\n\u001b[1;32m     89\u001b[0m                 \u001b[0;32mif\u001b[0m \u001b[0mgroup\u001b[0m\u001b[0;34m[\u001b[0m\u001b[0;34m'weight_decay'\u001b[0m\u001b[0;34m]\u001b[0m \u001b[0;34m!=\u001b[0m \u001b[0;36m0\u001b[0m\u001b[0;34m:\u001b[0m\u001b[0;34m\u001b[0m\u001b[0;34m\u001b[0m\u001b[0m\n\u001b[0;32m---> 90\u001b[0;31m                     \u001b[0mgrad\u001b[0m\u001b[0;34m.\u001b[0m\u001b[0madd_\u001b[0m\u001b[0;34m(\u001b[0m\u001b[0mgroup\u001b[0m\u001b[0;34m[\u001b[0m\u001b[0;34m'weight_decay'\u001b[0m\u001b[0;34m]\u001b[0m\u001b[0;34m,\u001b[0m \u001b[0mp\u001b[0m\u001b[0;34m.\u001b[0m\u001b[0mdata\u001b[0m\u001b[0;34m)\u001b[0m\u001b[0;34m\u001b[0m\u001b[0;34m\u001b[0m\u001b[0m\n\u001b[0m\u001b[1;32m     91\u001b[0m \u001b[0;34m\u001b[0m\u001b[0m\n\u001b[1;32m     92\u001b[0m                 \u001b[0;31m# Decay the first and second moment running average coefficient\u001b[0m\u001b[0;34m\u001b[0m\u001b[0;34m\u001b[0m\u001b[0;34m\u001b[0m\u001b[0m\n",
            "\u001b[0;31mKeyboardInterrupt\u001b[0m: "
          ]
        }
      ]
    },
    {
      "cell_type": "code",
      "metadata": {
        "id": "9nAYLKC35May",
        "colab_type": "code",
        "outputId": "74ceb8b2-c472-4619-a86f-8ced2f7543d4",
        "colab": {
          "base_uri": "https://localhost:8080/",
          "height": 153
        }
      },
      "source": [
        "def evaluate(model, iterator, criterion):\n",
        "    print(model)\n",
        "    epoch_loss = 0\n",
        "    epoch_acc = 0\n",
        "    \n",
        "    model.eval()\n",
        "    \n",
        "    with torch.no_grad():\n",
        "    \n",
        "        for batch in iterator:\n",
        "\n",
        "            text, text_lengths = batch.text\n",
        "            \n",
        "            predictions = model(text, text_lengths)\n",
        "            \n",
        "            loss = criterion(predictions, batch.label)\n",
        "            \n",
        "            acc = binary_accuracy(predictions, batch.label)\n",
        "\n",
        "            epoch_loss += loss.item()\n",
        "            epoch_acc += acc.item()\n",
        "        \n",
        "    return epoch_loss / len(iterator), epoch_acc / len(iterator)\n",
        "\n",
        "test_loss, test_acc = evaluate(net, test_iterator, criterion)\n",
        "\n",
        "print(f'Test Loss: {test_loss:.3f} | Test Acc: {test_acc*100:.2f}%')"
      ],
      "execution_count": 0,
      "outputs": [
        {
          "output_type": "stream",
          "text": [
            "BiLSTM(\n",
            "  (embedding): Embedding(25002, 100, padding_idx=1)\n",
            "  (dropout): Dropout(p=0.5)\n",
            "  (bilstm): LSTM(100, 64, bidirectional=True)\n",
            "  (linear): Linear(in_features=256, out_features=1, bias=True)\n",
            "  (activation): Sigmoid()\n",
            ")\n",
            "Test Loss: 0.327 | Test Acc: 86.63%\n"
          ],
          "name": "stdout"
        }
      ]
    },
    {
      "cell_type": "markdown",
      "metadata": {
        "id": "7BGKwtm_1D-c",
        "colab_type": "text"
      },
      "source": [
        "## Predizendo entradas do usuário"
      ]
    },
    {
      "cell_type": "code",
      "metadata": {
        "id": "EDmiD4tqhZQw",
        "colab_type": "code",
        "colab": {}
      },
      "source": [
        "import spacy\n",
        "nlp = spacy.load('en')\n",
        "\n",
        "def predict_sentiment(model, sentence):\n",
        "    model.eval()\n",
        "    tokenized = [str(tok) for tok in nlp.tokenizer(sentence)]\n",
        "    print(tokenized)\n",
        "    indexed = [TEXT.vocab.stoi[t] for t in tokenized]\n",
        "    length = [len(indexed)]\n",
        "    print(indexed)\n",
        "    tensor = torch.LongTensor(indexed).to(args['device'])\n",
        "    tensor = tensor.unsqueeze(1)\n",
        "    length_tensor = torch.LongTensor(length)\n",
        "    prediction = model(tensor, length_tensor)\n",
        "    return prediction.item()"
      ],
      "execution_count": 0,
      "outputs": []
    },
    {
      "cell_type": "code",
      "metadata": {
        "id": "K9jFD5mIhbIf",
        "colab_type": "code",
        "outputId": "2d2bf093-5818-4fe6-f5c0-7b9513387c2e",
        "colab": {
          "base_uri": "https://localhost:8080/",
          "height": 303
        }
      },
      "source": [
        "pred = predict_sentiment(net, \"Rocks are NOT stones!\")\n",
        "\n",
        "\n",
        "plt.bar(0, 1-pred, color='darkred', label='Negativo')\n",
        "plt.bar(1, pred, color='dodgerblue', label='Positivo')\n",
        "plt.legend()\n",
        "plt.show()"
      ],
      "execution_count": 0,
      "outputs": [
        {
          "output_type": "stream",
          "text": [
            "['Rocks', 'are', 'NOT', 'stones', '!']\n",
            "[24616, 32, 910, 13204, 40]\n"
          ],
          "name": "stdout"
        },
        {
          "output_type": "display_data",
          "data": {
            "image/png": "[encoded data removed]",
            "text/plain": [
              "<Figure size 432x288 with 1 Axes>"
            ]
          },
          "metadata": {
            "tags": []
          }
        }
      ]
    }
  ]
}